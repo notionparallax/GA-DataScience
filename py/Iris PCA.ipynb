{
 "metadata": {
  "name": "Iris PCA"
 },
 "nbformat": 3,
 "nbformat_minor": 0,
 "worksheets": [
  {
   "cells": [
    {
     "cell_type": "code",
     "collapsed": false,
     "input": [
      "\"\"\"\n",
      "The Iris dataset represents 3 kind of Iris flowers (Setosa, Versicolour\n",
      "and Virginica) with 4 attributes: sepal length, sepal width, petal length\n",
      "and petal width.\n",
      "\n",
      "Principal Component Analysis (PCA) applied to this data identifies the\n",
      "combination of attributes (principal components, or directions in the\n",
      "feature space) that account for the most variance in the data. Here we\n",
      "plot the different samples on the 2 first principal components.\n",
      "\n",
      "\"\"\""
     ],
     "language": "python",
     "metadata": {},
     "outputs": [
      {
       "output_type": "pyout",
       "prompt_number": 2,
       "text": [
        "'\\nThe Iris dataset represents 3 kind of Iris flowers (Setosa, Versicolour\\nand Virginica) with 4 attributes: sepal length, sepal width, petal length\\nand petal width.\\n\\nPrincipal Component Analysis (PCA) applied to this data identifies the\\ncombination of attributes (principal components, or directions in the\\nfeature space) that account for the most variance in the data. Here we\\nplot the different samples on the 2 first principal components.\\n\\n'"
       ]
      }
     ],
     "prompt_number": 2
    },
    {
     "cell_type": "code",
     "collapsed": false,
     "input": [
      "import pylab as pl\n",
      "import matplotlib.pyplot as plt\n",
      "\n",
      "from sklearn import datasets\n",
      "from sklearn.decomposition import PCA\n",
      "\n",
      "#import data\n",
      "iris = datasets.load_iris()"
     ],
     "language": "python",
     "metadata": {},
     "outputs": [],
     "prompt_number": 3
    },
    {
     "cell_type": "code",
     "collapsed": false,
     "input": [
      "#initial PCA to decide on number retained\n",
      "iris_PCA = PCA(copy=True)\n",
      "pcas = iris_PCA.fit(iris.data)"
     ],
     "language": "python",
     "metadata": {},
     "outputs": [],
     "prompt_number": 4
    },
    {
     "cell_type": "code",
     "collapsed": false,
     "input": [
      "print dir(pcas)"
     ],
     "language": "python",
     "metadata": {},
     "outputs": [
      {
       "output_type": "stream",
       "stream": "stdout",
       "text": [
        "['__class__', '__delattr__', '__dict__', '__doc__', '__format__', '__getattribute__', '__hash__', '__init__', '__module__', '__new__', '__reduce__', '__reduce_ex__', '__repr__', '__setattr__', '__sizeof__', '__str__', '__subclasshook__', '__weakref__', '_fit', '_get_param_names', 'components_', 'copy', 'explained_variance_', 'explained_variance_ratio_', 'fit', 'fit_transform', 'get_params', 'inverse_transform', 'mean_', 'n_components', 'set_params', 'transform', 'whiten']\n"
       ]
      }
     ],
     "prompt_number": 6
    },
    {
     "cell_type": "code",
     "collapsed": false,
     "input": [
      "print pcas.explained_variance_"
     ],
     "language": "python",
     "metadata": {},
     "outputs": [
      {
       "output_type": "stream",
       "stream": "stdout",
       "text": [
        "[ 4.19667516  0.24062861  0.07800042  0.02352514]\n"
       ]
      }
     ],
     "prompt_number": 7
    },
    {
     "cell_type": "code",
     "collapsed": false,
     "input": [
      "print pcas.explained_variance_ratio_"
     ],
     "language": "python",
     "metadata": {},
     "outputs": [
      {
       "output_type": "stream",
       "stream": "stdout",
       "text": [
        "[ 0.92461621  0.05301557  0.01718514  0.00518309]\n"
       ]
      }
     ],
     "prompt_number": 8
    },
    {
     "cell_type": "code",
     "collapsed": false,
     "input": [
      "print range(1,len(pcas.explained_variance_ratio_)+1)"
     ],
     "language": "python",
     "metadata": {},
     "outputs": [
      {
       "output_type": "stream",
       "stream": "stdout",
       "text": [
        "[1, 2, 3, 4]\n"
       ]
      }
     ],
     "prompt_number": 9
    },
    {
     "cell_type": "code",
     "collapsed": false,
     "input": [
      "print pcas.explained_variance_ratio_"
     ],
     "language": "python",
     "metadata": {},
     "outputs": [
      {
       "output_type": "stream",
       "stream": "stdout",
       "text": [
        "[ 0.92461621  0.05301557  0.01718514  0.00518309]\n"
       ]
      }
     ],
     "prompt_number": 10
    },
    {
     "cell_type": "code",
     "collapsed": false,
     "input": [
      "# Create scree plot to help decide on number of PC retained\n",
      "plt.plot(range(1,len(pcas.explained_variance_ratio_)+1) , pcas.explained_variance_ratio_ )\n",
      "plt.xlabel('PCA in order')\n",
      "plt.ylabel('Pct Variance Explained')\n",
      "plt.title('PCA Scree Plot')\n",
      "#TODO how to make x lables ints"
     ],
     "language": "python",
     "metadata": {},
     "outputs": [
      {
       "output_type": "pyout",
       "prompt_number": 11,
       "text": [
        "<matplotlib.text.Text at 0x4f148d0>"
       ]
      },
      {
       "output_type": "display_data",
       "png": "[encoded data removed]"
      }
     ],
     "prompt_number": 11
    },
    {
     "cell_type": "code",
     "collapsed": false,
     "input": [
      "# how many PC's do we need to retain?\n",
      "\n",
      "#lets apply the PCA to the data and see how the classes fall on the plot\n",
      "X = iris.data\n",
      "y = iris.target\n",
      "target_names = iris.target_names\n",
      "\n",
      "n_comp = 2\n",
      "\n",
      "pca = PCA(n_components = n_comp)\n",
      "X_decomp = pca.fit(X).transform(X)\n",
      "\n",
      "print 'explained variance ratio (first two components):', \\\n",
      "    pca.explained_variance_ratio_\n",
      "\n",
      "pl.figure()\n",
      "for c, i, target_name in zip(\"rgb\", [0, 1, 2], target_names):\n",
      "    pl.scatter(X_decomp[y == i, 0], X_decomp[y == i, 1], c=c, label=target_name)\n",
      "pl.legend()\n",
      "pl.title('PCA of IRIS dataset')\n",
      "pl.xlabel('PCA 1')\n",
      "pl.ylabel('PCA 2')\n",
      "pl.show()\n",
      "    "
     ],
     "language": "python",
     "metadata": {},
     "outputs": []
    },
    {
     "cell_type": "code",
     "collapsed": false,
     "input": [],
     "language": "python",
     "metadata": {},
     "outputs": []
    }
   ],
   "metadata": {}
  }
 ]
}