{
 "metadata": {
  "name": "ada boost"
 },
 "nbformat": 3,
 "nbformat_minor": 0,
 "worksheets": [
  {
   "cells": [
    {
     "cell_type": "code",
     "collapsed": false,
     "input": [
      "\"\"\"\n",
      "Created on Wed Jan 15 14:42:33 2014\n",
      "\n",
      "@author: mohammad\n",
      "\"\"\"\n",
      "pylab.rcParams['figure.figsize'] = 20, 12  # that's default image size for this interactive session"
     ],
     "language": "python",
     "metadata": {},
     "outputs": [],
     "prompt_number": 1
    },
    {
     "cell_type": "code",
     "collapsed": false,
     "input": [
      "from sklearn.externals.six.moves import zip\n",
      "from sklearn import metrics\n",
      "import pylab as pl\n",
      "\n",
      "from sklearn.datasets import make_gaussian_quantiles\n",
      "from sklearn.ensemble import AdaBoostClassifier\n",
      "from sklearn.externals.six.moves import xrange\n",
      "from sklearn.metrics import accuracy_score\n",
      "from sklearn.tree import DecisionTreeClassifier"
     ],
     "language": "python",
     "metadata": {},
     "outputs": [],
     "prompt_number": 2
    },
    {
     "cell_type": "code",
     "collapsed": false,
     "input": [
      "# Generate some normally distributed data 10 columns with 3 groups 13000 rows.\n",
      "# http://scikit-learn.org/stable/modules/generated/sklearn.datasets.make_gaussian_quantiles.html\n",
      "X, y = make_gaussian_quantiles( n_samples=13000, \n",
      "                                n_features=10,\n",
      "                                n_classes=3, \n",
      "                                random_state=1)\n",
      "X"
     ],
     "language": "python",
     "metadata": {},
     "outputs": [
      {
       "output_type": "pyout",
       "prompt_number": 3,
       "text": [
        "array([[-0.53548325,  1.35169708,  0.34801047, ...,  0.44046489,\n",
        "        -2.61270317, -0.57228031],\n",
        "       [-0.28585287,  0.19381619,  1.31164797, ...,  0.33093069,\n",
        "        -1.51132323, -0.47863497],\n",
        "       [-0.51047669, -0.68765555, -0.94281252, ...,  0.15793694,\n",
        "        -0.54322461, -0.49440416],\n",
        "       ..., \n",
        "       [-0.89101473,  1.06292343, -1.80322063, ...,  1.95816423,\n",
        "        -1.25890884, -0.81563661],\n",
        "       [-0.36204092,  0.21061958,  0.65987376, ...,  0.33569579,\n",
        "         0.64436481, -2.87019663],\n",
        "       [ 1.37402834, -0.3621658 , -0.34047162, ...,  1.06630147,\n",
        "         1.32545847,  0.12891729]])"
       ]
      }
     ],
     "prompt_number": 3
    },
    {
     "cell_type": "code",
     "collapsed": false,
     "input": [
      "y"
     ],
     "language": "python",
     "metadata": {},
     "outputs": [
      {
       "output_type": "pyout",
       "prompt_number": 4,
       "text": [
        "array([2, 1, 0, ..., 2, 1, 1])"
       ]
      }
     ],
     "prompt_number": 4
    },
    {
     "cell_type": "code",
     "collapsed": false,
     "input": [
      "hist(X)\n",
      "#so this is one bar on the histogram for each of the columns (I think)"
     ],
     "language": "python",
     "metadata": {},
     "outputs": [
      {
       "output_type": "pyout",
       "prompt_number": 5,
       "text": [
        "([array([   2,   51,  447, 1813, 3712, 4057, 2252,  572,   89,    5]),\n",
        "  array([   2,   50,  404, 1743, 3856, 4068, 2179,  609,   84,    5]),\n",
        "  array([   4,   56,  460, 1763, 3744, 4030, 2264,  599,   75,    5]),\n",
        "  array([   1,   58,  376, 1782, 3814, 4067, 2199,  628,   69,    6]),\n",
        "  array([   5,   47,  429, 1818, 3705, 4092, 2194,  598,  102,   10]),\n",
        "  array([   3,   49,  419, 1778, 3836, 4086, 2129,  608,   87,    5]),\n",
        "  array([   6,   50,  412, 1827, 3854, 4061, 2108,  599,   76,    7]),\n",
        "  array([   5,   41,  408, 1901, 3728, 4125, 2133,  571,   84,    4]),\n",
        "  array([   6,   60,  423, 1754, 3812, 4046, 2239,  577,   78,    5]),\n",
        "  array([   3,   51,  447, 1801, 3788, 4039, 2130,  643,   96,    2])],\n",
        " array([-4.32688728, -3.47738678, -2.62788629, -1.77838579, -0.9288853 ,\n",
        "       -0.0793848 ,  0.77011569,  1.61961619,  2.46911669,  3.31861718,\n",
        "        4.16811768]),\n",
        " <a list of 10 Lists of Patches objects>)"
       ]
      },
      {
       "output_type": "display_data",
       "png": "[encoded data removed]"
      }
     ],
     "prompt_number": 5
    },
    {
     "cell_type": "code",
     "collapsed": false,
     "input": [
      "X.shape #(rows, columns) # X is the data"
     ],
     "language": "python",
     "metadata": {},
     "outputs": [
      {
       "output_type": "pyout",
       "prompt_number": 6,
       "text": [
        "(13000, 10)"
       ]
      }
     ],
     "prompt_number": 6
    },
    {
     "cell_type": "code",
     "collapsed": false,
     "input": [
      "y.shape #y is the list of classes for each row"
     ],
     "language": "python",
     "metadata": {},
     "outputs": [
      {
       "output_type": "pyout",
       "prompt_number": 7,
       "text": [
        "(13000,)"
       ]
      }
     ],
     "prompt_number": 7
    },
    {
     "cell_type": "code",
     "collapsed": false,
     "input": [],
     "language": "python",
     "metadata": {},
     "outputs": [],
     "prompt_number": 7
    },
    {
     "cell_type": "code",
     "collapsed": false,
     "input": [
      "#Create test and train data sets 30:70\n",
      "n_split = round(0.7 * len(X),0)\n",
      "n_split"
     ],
     "language": "python",
     "metadata": {},
     "outputs": [
      {
       "output_type": "pyout",
       "prompt_number": 8,
       "text": [
        "9100.0"
       ]
      }
     ],
     "prompt_number": 8
    },
    {
     "cell_type": "code",
     "collapsed": false,
     "input": [
      "# all the rows above n_split go into the training set, all below into the test set\n",
      "X_train = X[:n_split]\n",
      "X_test  = X[n_split:]\n",
      "#note, this was packed (x,y=1,2) but it still upsets my brain into looking for meaning that isn't really there, so I unpacked it"
     ],
     "language": "python",
     "metadata": {},
     "outputs": [],
     "prompt_number": 9
    },
    {
     "cell_type": "code",
     "collapsed": false,
     "input": [
      "#same as above\n",
      "y_train = y[:n_split]\n",
      "y_test  = y[n_split:]"
     ],
     "language": "python",
     "metadata": {},
     "outputs": [],
     "prompt_number": 10
    },
    {
     "cell_type": "code",
     "collapsed": false,
     "input": [
      "# Train the Adaboost Classifier. weak trainers with decision trees there are different algorithms used\n",
      "# BD: these two cells don't actually make train the classifier, it just sets it up ready to be trained by the next box.\n",
      "# I.e. these two boxes don't know anything about our data, they just know about themselves.\n",
      "\"\"\"\n",
      "#from http://scikit-learn.org/stable/modules/generated/sklearn.ensemble.AdaBoostClassifier.html\n",
      "\n",
      "AdaBoostClassifier(base_estimator=DecisionTreeClassifier(   compute_importances=None, \n",
      "                                                            criterion='gini',\n",
      "                                                            max_depth=1, \n",
      "                                                            max_features=None, \n",
      "                                                            min_density=None,\n",
      "                                                            min_samples_leaf=1, \n",
      "                                                            min_samples_split=2, \n",
      "                                                            random_state=None,\n",
      "                                                            splitter='best'\n",
      "                                                        ), \n",
      "                      n_estimators=50, \n",
      "                      learning_rate=1.0, \n",
      "                      algorithm='SAMME.R', \n",
      "                      random_state=None)\n",
      "\"\"\"\n",
      "\n",
      "bdt_real = AdaBoostClassifier(\n",
      "            DecisionTreeClassifier(max_depth=2),\n",
      "            n_estimators=600,\n",
      "            learning_rate=1)"
     ],
     "language": "python",
     "metadata": {},
     "outputs": [],
     "prompt_number": 11
    },
    {
     "cell_type": "code",
     "collapsed": false,
     "input": [
      "bdt_discrete = AdaBoostClassifier(\n",
      "                DecisionTreeClassifier(max_depth=2),\n",
      "                n_estimators=600,\n",
      "                learning_rate=1.5,\n",
      "                algorithm=\"SAMME\")\n",
      "\"\"\"\n",
      "Stagewise Additive Modeling using Multiclass Exponential loss (bagging and boosting algorithms)\n",
      "Stagewise Additive Modeling using a Multiclass Exponential loss function (SAMME) is an algorithm that extends the original AdaBoost algorithm to categorical targets.\n",
      "http://pic.dhe.ibm.com/infocenter/spssstat/v20r0m0/index.jsp?topic=%2Fcom.ibm.spss.statistics.help%2Falg_boosting_samme.htm\n",
      "\"\"\""
     ],
     "language": "python",
     "metadata": {},
     "outputs": [
      {
       "output_type": "pyout",
       "prompt_number": 12,
       "text": [
        "'\\nStagewise Additive Modeling using Multiclass Exponential loss (bagging and boosting algorithms)\\nStagewise Additive Modeling using a Multiclass Exponential loss function (SAMME) is an algorithm that extends the original AdaBoost algorithm to categorical targets.\\nhttp://pic.dhe.ibm.com/infocenter/spssstat/v20r0m0/index.jsp?topic=%2Fcom.ibm.spss.statistics.help%2Falg_boosting_samme.htm\\n'"
       ]
      }
     ],
     "prompt_number": 12
    },
    {
     "cell_type": "code",
     "collapsed": false,
     "input": [
      " \n",
      "# Fit the model specified above\n",
      "bdt_real.fit(X_train, y_train)"
     ],
     "language": "python",
     "metadata": {},
     "outputs": [
      {
       "output_type": "pyout",
       "prompt_number": 13,
       "text": [
        "AdaBoostClassifier(algorithm='SAMME.R',\n",
        "          base_estimator=DecisionTreeClassifier(compute_importances=None, criterion='gini',\n",
        "            max_depth=2, max_features=None, min_density=None,\n",
        "            min_samples_leaf=1, min_samples_split=2, random_state=None,\n",
        "            splitter='best'),\n",
        "          learning_rate=1, n_estimators=600, random_state=None)"
       ]
      }
     ],
     "prompt_number": 13
    },
    {
     "cell_type": "code",
     "collapsed": false,
     "input": [
      "bdt_discrete.fit(X_train, y_train)"
     ],
     "language": "python",
     "metadata": {},
     "outputs": [
      {
       "output_type": "pyout",
       "prompt_number": 14,
       "text": [
        "AdaBoostClassifier(algorithm='SAMME',\n",
        "          base_estimator=DecisionTreeClassifier(compute_importances=None, criterion='gini',\n",
        "            max_depth=2, max_features=None, min_density=None,\n",
        "            min_samples_leaf=1, min_samples_split=2, random_state=None,\n",
        "            splitter='best'),\n",
        "          learning_rate=1.5, n_estimators=600, random_state=None)"
       ]
      }
     ],
     "prompt_number": 14
    },
    {
     "cell_type": "code",
     "collapsed": false,
     "input": [
      "#predict clas from test dataset\n",
      "bdt_real_pred = bdt_real.predict(X_test)\n",
      "bdt_real_pred"
     ],
     "language": "python",
     "metadata": {},
     "outputs": [
      {
       "output_type": "pyout",
       "prompt_number": 19,
       "text": [
        "array([0, 1, 1, ..., 2, 1, 1])"
       ]
      }
     ],
     "prompt_number": 19
    },
    {
     "cell_type": "code",
     "collapsed": false,
     "input": [
      "#show model performance on test data\n",
      "print metrics.confusion_matrix(y_test , bdt_real_pred)"
     ],
     "language": "python",
     "metadata": {},
     "outputs": [
      {
       "output_type": "stream",
       "stream": "stdout",
       "text": [
        "[[1053  243    0]\n",
        " [   3 1259    3]\n",
        " [   0  335 1004]]\n"
       ]
      }
     ],
     "prompt_number": 20
    },
    {
     "cell_type": "code",
     "collapsed": false,
     "input": [
      "print metrics.accuracy_score(y_test , bdt_real_pred)"
     ],
     "language": "python",
     "metadata": {},
     "outputs": [
      {
       "output_type": "stream",
       "stream": "stdout",
       "text": [
        "0.850256410256\n"
       ]
      }
     ],
     "prompt_number": 21
    },
    {
     "cell_type": "code",
     "collapsed": false,
     "input": [
      "print metrics.classification_report(y_test , bdt_real_pred)"
     ],
     "language": "python",
     "metadata": {},
     "outputs": [
      {
       "output_type": "stream",
       "stream": "stdout",
       "text": [
        "             precision    recall  f1-score   support\n",
        "\n",
        "          0       1.00      0.81      0.90      1296\n",
        "          1       0.69      1.00      0.81      1265\n",
        "          2       1.00      0.75      0.86      1339\n",
        "\n",
        "avg / total       0.90      0.85      0.85      3900\n",
        "\n"
       ]
      }
     ],
     "prompt_number": 22
    },
    {
     "cell_type": "code",
     "collapsed": false,
     "input": [
      "'''\n",
      "Accuracy = (TP + TN) / m \n",
      "Precision =  TP / (TP +FP)\n",
      "Recall =  TP / (TP + FN)\n",
      "F1-score = 2 * Precision * Recall / (Precision + Recall)\n",
      "support is just the number of observations in each class and total\n",
      "'''\n",
      "\n",
      "#Initiate error containers\n",
      "real_test_errors = []\n",
      "discrete_test_errors = []\n",
      "\n",
      "# generate error values for iterations zip creates the pairs.\n",
      "for real_test_predict, discrete_train_predict in zip(\n",
      "        bdt_real.staged_predict(X_test), bdt_discrete.staged_predict(X_test)):\n",
      "    real_test_errors.append(\n",
      "        1. - accuracy_score(real_test_predict, y_test))\n",
      "    discrete_test_errors.append(\n",
      "        1. - accuracy_score(discrete_train_predict, y_test))"
     ],
     "language": "python",
     "metadata": {},
     "outputs": [],
     "prompt_number": 17
    },
    {
     "cell_type": "code",
     "collapsed": false,
     "input": [
      "#for the error graph the x-axis is the iterations\n",
      "n_trees = xrange(1, len(bdt_discrete) + 1)\n",
      "\n",
      "\n",
      "pl.figure(figsize=(15, 5))\n",
      "\n",
      "pl.subplot(131)\n",
      "pl.plot(n_trees, discrete_test_errors, c='black', label='SAMME')\n",
      "pl.plot(n_trees, real_test_errors, c='black',\n",
      "        linestyle='dashed', label='SAMME.R')\n",
      "pl.legend()\n",
      "pl.ylim(0.18, 0.62)\n",
      "pl.ylabel('Test Error')\n",
      "pl.xlabel('Number of Trees')\n",
      "\n",
      "pl.subplot(132)\n",
      "pl.plot(n_trees, bdt_discrete.estimator_errors_, \"b\", label='SAMME', alpha=.5)\n",
      "pl.plot(n_trees, bdt_real.estimator_errors_, \"r\", label='SAMME.R', alpha=.5)\n",
      "pl.legend()\n",
      "pl.ylabel('Error')\n",
      "pl.xlabel('Number of Trees')\n",
      "pl.ylim((.2,\n",
      "        max(bdt_real.estimator_errors_.max(),\n",
      "            bdt_discrete.estimator_errors_.max()) * 1.2))\n",
      "pl.xlim((-20, len(bdt_discrete) + 20))\n",
      "\n",
      "pl.subplot(133)\n",
      "pl.plot(n_trees, bdt_discrete.estimator_weights_, \"b\", label='SAMME')\n",
      "pl.legend()\n",
      "pl.ylabel('Weight')\n",
      "pl.xlabel('Number of Trees')\n",
      "pl.ylim((0, bdt_discrete.estimator_weights_.max() * 1.2))\n",
      "pl.xlim((-20, len(bdt_discrete) + 20))\n",
      "\n",
      "# prevent overlapping y-axis labels\n",
      "pl.subplots_adjust(wspace=0.25)\n",
      "pl.show()"
     ],
     "language": "python",
     "metadata": {},
     "outputs": [
      {
       "output_type": "display_data",
       "png": "[encoded data removed]"
      }
     ],
     "prompt_number": 18
    },
    {
     "cell_type": "code",
     "collapsed": false,
     "input": [],
     "language": "python",
     "metadata": {},
     "outputs": [],
     "prompt_number": 18
    }
   ],
   "metadata": {}
  }
 ]
}