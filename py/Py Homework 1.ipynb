{
 "metadata": {
  "name": "Py Homework 1"
 },
 "nbformat": 3,
 "nbformat_minor": 0,
 "worksheets": [
  {
   "cells": [
    {
     "cell_type": "markdown",
     "metadata": {},
     "source": [
      " 1. Create some code that will create any MUTABLE data structure.\n",
      " 1. Perform an operation on all the elements of object you created\n",
      " 1. Subset an object using a control flow operation and create at least 2 new objects\n",
      " 1. Create a new function that will accept inputs and perform an operation on those inputs.\n",
      " 1. Create a function that will prompt the user to enter their Name, age, weight and height then return a well formatted sentence to the user on the screen showing them their BMI index.\n",
      " 1. Install sci-kit learn as homework so that you can use it next session"
     ]
    },
    {
     "cell_type": "raw",
     "metadata": {},
     "source": [
      "Create some code that will create any MUTABLE data structure."
     ]
    },
    {
     "cell_type": "code",
     "collapsed": false,
     "input": [
      "text = \"If you drink much from a bottle marked 'poison' it is certain to disagree with you sooner or later.\"\n",
      "wordList = text.split(\" \")\n",
      "print wordList"
     ],
     "language": "python",
     "metadata": {},
     "outputs": [
      {
       "output_type": "stream",
       "stream": "stdout",
       "text": [
        "['If', 'you', 'drink', 'much', 'from', 'a', 'bottle', 'marked', \"'poison'\", 'it', 'is', 'certain', 'to', 'disagree', 'with', 'you', 'sooner', 'or', 'later.']\n"
       ]
      }
     ],
     "prompt_number": 17
    },
    {
     "cell_type": "raw",
     "metadata": {},
     "source": [
      "Perform an operation on all the elements of object you created"
     ]
    },
    {
     "cell_type": "code",
     "collapsed": false,
     "input": [
      "wordList[6] = \"eat\"\n",
      "wordList[6] = \"sandwich\"\n",
      "wordList[8] = \"'knuckle'\"\n",
      "print wordList"
     ],
     "language": "python",
     "metadata": {},
     "outputs": [
      {
       "output_type": "stream",
       "stream": "stdout",
       "text": [
        "['If', 'you', 'drink', 'much', 'from', 'a', 'sandwich', 'marked', \"'knuckle'\", 'it', 'is', 'certain', 'to', 'disagree', 'with', 'you', 'sooner', 'or', 'later.']\n"
       ]
      }
     ],
     "prompt_number": 18
    },
    {
     "cell_type": "raw",
     "metadata": {},
     "source": [
      "Subset an object using a control flow operation and create at least 2 new objects"
     ]
    },
    {
     "cell_type": "code",
     "collapsed": false,
     "input": [
      "for i in range(len(wordList)):\n",
      "    if wordList[i] == \"If\":\n",
      "        wordList[i] = \"When\"\n",
      "        print wordList\n",
      "    elif len(wordList[i]) > 3:\n",
      "        wordList[i] = {\"status\":\"redacted\", \"reason\":\"teaspooon\", \"secret\":wordList[i]}\n"
     ],
     "language": "python",
     "metadata": {},
     "outputs": [
      {
       "output_type": "stream",
       "stream": "stdout",
       "text": [
        "['When', 'you', 'drink', 'much', 'from', 'a', 'sandwich', 'marked', \"'knuckle'\", 'it', 'is', 'certain', 'to', 'disagree', 'with', 'you', 'sooner', 'or', 'later.']\n"
       ]
      }
     ],
     "prompt_number": 19
    },
    {
     "cell_type": "code",
     "collapsed": false,
     "input": [
      "print wordList"
     ],
     "language": "python",
     "metadata": {},
     "outputs": [
      {
       "output_type": "stream",
       "stream": "stdout",
       "text": [
        "['When', 'you', {'status': 'redacted', 'reason': 'teaspooon', 'secret': 'drink'}, {'status': 'redacted', 'reason': 'teaspooon', 'secret': 'much'}, {'status': 'redacted', 'reason': 'teaspooon', 'secret': 'from'}, 'a', {'status': 'redacted', 'reason': 'teaspooon', 'secret': 'sandwich'}, {'status': 'redacted', 'reason': 'teaspooon', 'secret': 'marked'}, {'status': 'redacted', 'reason': 'teaspooon', 'secret': \"'knuckle'\"}, 'it', 'is', {'status': 'redacted', 'reason': 'teaspooon', 'secret': 'certain'}, 'to', {'status': 'redacted', 'reason': 'teaspooon', 'secret': 'disagree'}, {'status': 'redacted', 'reason': 'teaspooon', 'secret': 'with'}, 'you', {'status': 'redacted', 'reason': 'teaspooon', 'secret': 'sooner'}, 'or', {'status': 'redacted', 'reason': 'teaspooon', 'secret': 'later.'}]\n"
       ]
      }
     ],
     "prompt_number": 20
    },
    {
     "cell_type": "raw",
     "metadata": {},
     "source": [
      "Create a new function that will accept inputs and perform an operation on those inputs."
     ]
    },
    {
     "cell_type": "code",
     "collapsed": false,
     "input": [
      "def unRedactWord(redactedWord):\n",
      "    r = redactedWord\n",
      "    if type(r) is dict:\n",
      "        return r[\"secret\"]\n",
      "    else:\n",
      "        return r\n",
      "\n",
      "def unRedactPhrase(listOfWords):\n",
      "    phrase = []\n",
      "    for word in listOfWords:\n",
      "        phrase.append(unRedactWord(word))\n",
      "    return phrase"
     ],
     "language": "python",
     "metadata": {},
     "outputs": [],
     "prompt_number": 26
    },
    {
     "cell_type": "code",
     "collapsed": false,
     "input": [
      "print unRedactPhrase(wordList)"
     ],
     "language": "python",
     "metadata": {},
     "outputs": [
      {
       "output_type": "stream",
       "stream": "stdout",
       "text": [
        "['When', 'you', 'drink', 'much', 'from', 'a', 'sandwich', 'marked', \"'knuckle'\", 'it', 'is', 'certain', 'to', 'disagree', 'with', 'you', 'sooner', 'or', 'later.']\n"
       ]
      }
     ],
     "prompt_number": 28
    },
    {
     "cell_type": "markdown",
     "metadata": {},
     "source": [
      "Create a function that will prompt the user to enter their Name, age, weight and height then return a well formatted sentence to the user on the screen showing them their BMI index."
     ]
    },
    {
     "cell_type": "code",
     "collapsed": false,
     "input": [
      "raw_input('Enter a file name: ')"
     ],
     "language": "python",
     "metadata": {},
     "outputs": [
      {
       "ename": "StdinNotImplementedError",
       "evalue": "raw_input was called, but this frontend does not support stdin.",
       "output_type": "pyerr",
       "traceback": [
        "\u001b[0;31m---------------------------------------------------------------------------\u001b[0m\n\u001b[0;31mStdinNotImplementedError\u001b[0m                  Traceback (most recent call last)",
        "\u001b[0;32m<ipython-input-29-dd299961e1d7>\u001b[0m in \u001b[0;36m<module>\u001b[0;34m()\u001b[0m\n\u001b[0;32m----> 1\u001b[0;31m \u001b[0mraw_input\u001b[0m\u001b[0;34m(\u001b[0m\u001b[0;34m'Enter a file name: '\u001b[0m\u001b[0;34m)\u001b[0m\u001b[0;34m\u001b[0m\u001b[0m\n\u001b[0m",
        "\u001b[0;32m/usr/lib/python2.7/dist-packages/IPython/zmq/ipkernel.pyc\u001b[0m in \u001b[0;36m<lambda>\u001b[0;34m(prompt)\u001b[0m\n\u001b[1;32m    343\u001b[0m             \u001b[0mraw_input\u001b[0m \u001b[0;34m=\u001b[0m \u001b[0;32mlambda\u001b[0m \u001b[0mprompt\u001b[0m\u001b[0;34m=\u001b[0m\u001b[0;34m''\u001b[0m\u001b[0;34m:\u001b[0m \u001b[0mself\u001b[0m\u001b[0;34m.\u001b[0m\u001b[0m_raw_input\u001b[0m\u001b[0;34m(\u001b[0m\u001b[0mprompt\u001b[0m\u001b[0;34m,\u001b[0m \u001b[0mident\u001b[0m\u001b[0;34m,\u001b[0m \u001b[0mparent\u001b[0m\u001b[0;34m)\u001b[0m\u001b[0;34m\u001b[0m\u001b[0m\n\u001b[1;32m    344\u001b[0m         \u001b[0;32melse\u001b[0m\u001b[0;34m:\u001b[0m\u001b[0;34m\u001b[0m\u001b[0m\n\u001b[0;32m--> 345\u001b[0;31m             \u001b[0mraw_input\u001b[0m \u001b[0;34m=\u001b[0m \u001b[0;32mlambda\u001b[0m \u001b[0mprompt\u001b[0m\u001b[0;34m=\u001b[0m\u001b[0;34m''\u001b[0m \u001b[0;34m:\u001b[0m \u001b[0mself\u001b[0m\u001b[0;34m.\u001b[0m\u001b[0m_no_raw_input\u001b[0m\u001b[0;34m(\u001b[0m\u001b[0;34m)\u001b[0m\u001b[0;34m\u001b[0m\u001b[0m\n\u001b[0m\u001b[1;32m    346\u001b[0m \u001b[0;34m\u001b[0m\u001b[0m\n\u001b[1;32m    347\u001b[0m         \u001b[0;32mif\u001b[0m \u001b[0mpy3compat\u001b[0m\u001b[0;34m.\u001b[0m\u001b[0mPY3\u001b[0m\u001b[0;34m:\u001b[0m\u001b[0;34m\u001b[0m\u001b[0m\n",
        "\u001b[0;32m/usr/lib/python2.7/dist-packages/IPython/zmq/ipkernel.pyc\u001b[0m in \u001b[0;36m_no_raw_input\u001b[0;34m(self)\u001b[0m\n\u001b[1;32m    698\u001b[0m         \"\"\"Raise StdinNotImplentedError if active frontend doesn't support\n\u001b[1;32m    699\u001b[0m         stdin.\"\"\"\n\u001b[0;32m--> 700\u001b[0;31m         raise StdinNotImplementedError(\"raw_input was called, but this \"\n\u001b[0m\u001b[1;32m    701\u001b[0m                                        \"frontend does not support stdin.\") \n\u001b[1;32m    702\u001b[0m \u001b[0;34m\u001b[0m\u001b[0m\n",
        "\u001b[0;31mStdinNotImplementedError\u001b[0m: raw_input was called, but this frontend does not support stdin."
       ]
      }
     ],
     "prompt_number": 29
    },
    {
     "cell_type": "code",
     "collapsed": false,
     "input": [],
     "language": "python",
     "metadata": {},
     "outputs": []
    }
   ],
   "metadata": {}
  }
 ]
}