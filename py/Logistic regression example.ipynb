{
 "metadata": {
  "name": "Logistic regression example"
 },
 "nbformat": 3,
 "nbformat_minor": 0,
 "worksheets": [
  {
   "cells": [
    {
     "cell_type": "markdown",
     "metadata": {},
     "source": [
      "Created on Mon Jan  6 23:26:49 2014\n",
      "\n",
      "@author: mohammad\n",
      "\n",
      "### Example Logistic regression ###\n",
      "This code is available at http://blog.yhathq.com/posts/logistic-regression-and-python.html\n",
      "\n",
      "Note we used the same data when we did logistic regression in R"
     ]
    },
    {
     "cell_type": "markdown",
     "metadata": {},
     "source": [
      "Import the libraries we need"
     ]
    },
    {
     "cell_type": "code",
     "collapsed": false,
     "input": [
      "import pandas as pd\n",
      "import statsmodels.api as sm\n",
      "import pylab as pl\n",
      "import numpy as np\n",
      "import matplotlib.pyplot as plt"
     ],
     "language": "python",
     "metadata": {},
     "outputs": [],
     "prompt_number": 31
    },
    {
     "cell_type": "markdown",
     "metadata": {},
     "source": [
      "read the data in"
     ]
    },
    {
     "cell_type": "code",
     "collapsed": false,
     "input": [
      "df = pd.read_csv(\"http://www.ats.ucla.edu/stat/data/binary.csv\")\n",
      "print df.head()"
     ],
     "language": "python",
     "metadata": {},
     "outputs": [
      {
       "output_type": "stream",
       "stream": "stdout",
       "text": [
        "   admit  gre   gpa  rank\n",
        "0      0  380  3.61     3\n",
        "1      1  660  3.67     3\n",
        "2      1  800  4.00     1\n",
        "3      1  640  3.19     4\n",
        "4      0  520  2.93     4\n"
       ]
      }
     ],
     "prompt_number": 32
    },
    {
     "cell_type": "code",
     "collapsed": false,
     "input": [
      "df.columns"
     ],
     "language": "python",
     "metadata": {},
     "outputs": [
      {
       "output_type": "pyout",
       "prompt_number": 33,
       "text": [
        "Index([u'admit', u'gre', u'gpa', u'rank'], dtype=object)"
       ]
      }
     ],
     "prompt_number": 33
    },
    {
     "cell_type": "code",
     "collapsed": false,
     "input": [
      "#need to change the rank column name\n",
      "df.columns = [\"admit\", \"gre\", \"gpa\", \"prestige\"]\n",
      "df.columns"
     ],
     "language": "python",
     "metadata": {},
     "outputs": [
      {
       "output_type": "pyout",
       "prompt_number": 34,
       "text": [
        "Index([u'admit', u'gre', u'gpa', u'prestige'], dtype=object)"
       ]
      }
     ],
     "prompt_number": 34
    },
    {
     "cell_type": "code",
     "collapsed": false,
     "input": [
      "#lets have a look at the data\n",
      "print df.groupby('admit').describe()"
     ],
     "language": "python",
     "metadata": {},
     "outputs": [
      {
       "output_type": "stream",
       "stream": "stdout",
       "text": [
        "             admit         gre         gpa    prestige\n",
        "admit                                                 \n",
        "0     count    273  273.000000  273.000000  273.000000\n",
        "      mean       0  573.186813    3.343700    2.641026\n",
        "      std        0  115.830243    0.377133    0.917198\n",
        "      min        0  220.000000    2.260000    1.000000\n",
        "      25%        0  500.000000    3.080000    2.000000\n",
        "      50%        0  580.000000    3.340000    3.000000\n",
        "      75%        0  660.000000    3.610000    3.000000\n",
        "      max        0  800.000000    4.000000    4.000000\n",
        "1     count    127  127.000000  127.000000  127.000000\n",
        "      mean       1  618.897638    3.489213    2.149606\n",
        "      std        0  108.884884    0.370177    0.917889\n",
        "      min        1  300.000000    2.420000    1.000000\n",
        "      25%        1  540.000000    3.220000    1.000000\n",
        "      50%        1  620.000000    3.540000    2.000000\n",
        "      75%        1  680.000000    3.755000    3.000000\n",
        "      max        1  800.000000    4.000000    4.000000\n"
       ]
      }
     ],
     "prompt_number": 35
    },
    {
     "cell_type": "code",
     "collapsed": false,
     "input": [
      "print pd.crosstab(df['admit'], df['prestige'],  rownames=['admit'])"
     ],
     "language": "python",
     "metadata": {},
     "outputs": [
      {
       "output_type": "stream",
       "stream": "stdout",
       "text": [
        "prestige   1   2   3   4\n",
        "admit                   \n",
        "0         28  97  93  55\n",
        "1         33  54  28  12\n"
       ]
      }
     ],
     "prompt_number": 36
    },
    {
     "cell_type": "code",
     "collapsed": false,
     "input": [
      "df.hist()"
     ],
     "language": "python",
     "metadata": {},
     "outputs": [
      {
       "output_type": "pyout",
       "prompt_number": 37,
       "text": [
        "array([[<matplotlib.axes.AxesSubplot object at 0x514da10>,\n",
        "        <matplotlib.axes.AxesSubplot object at 0x5c04a90>],\n",
        "       [<matplotlib.axes.AxesSubplot object at 0x5c25f50>,\n",
        "        <matplotlib.axes.AxesSubplot object at 0x5c12210>]], dtype=object)"
       ]
      },
      {
       "output_type": "display_data",
       "png": "[encoded data removed]"
      }
     ],
     "prompt_number": 37
    },
    {
     "cell_type": "code",
     "collapsed": false,
     "input": [
      "dummy_ranks = pd.get_dummies(df['prestige'],  prefix='prestige')\n",
      "print dummy_ranks.head()"
     ],
     "language": "python",
     "metadata": {},
     "outputs": [
      {
       "output_type": "stream",
       "stream": "stdout",
       "text": [
        "   prestige_1  prestige_2  prestige_3  prestige_4\n",
        "0           0           0           1           0\n",
        "1           0           0           1           0\n",
        "2           1           0           0           0\n",
        "3           0           0           0           1\n",
        "4           0           0           0           1\n"
       ]
      }
     ],
     "prompt_number": 38
    },
    {
     "cell_type": "code",
     "collapsed": false,
     "input": [
      "ind_cols = ['admit', 'gre', 'gpa']\n",
      "reg_data = df[ind_cols].join(dummy_ranks.ix[:, 'prestige_2':])\n",
      "print reg_data.head()"
     ],
     "language": "python",
     "metadata": {},
     "outputs": [
      {
       "output_type": "stream",
       "stream": "stdout",
       "text": [
        "   admit  gre   gpa  prestige_2  prestige_3  prestige_4\n",
        "0      0  380  3.61           0           1           0\n",
        "1      1  660  3.67           0           1           0\n",
        "2      1  800  4.00           0           0           0\n",
        "3      1  640  3.19           0           0           1\n",
        "4      0  520  2.93           0           0           1\n"
       ]
      }
     ],
     "prompt_number": 39
    },
    {
     "cell_type": "code",
     "collapsed": false,
     "input": [
      "reg_data['intercept'] = 1.0\n",
      "print reg_data.head()"
     ],
     "language": "python",
     "metadata": {},
     "outputs": [
      {
       "output_type": "stream",
       "stream": "stdout",
       "text": [
        "   admit  gre   gpa  prestige_2  prestige_3  prestige_4  intercept\n",
        "0      0  380  3.61           0           1           0          1\n",
        "1      1  660  3.67           0           1           0          1\n",
        "2      1  800  4.00           0           0           0          1\n",
        "3      1  640  3.19           0           0           1          1\n",
        "4      0  520  2.93           0           0           1          1\n"
       ]
      }
     ],
     "prompt_number": 40
    },
    {
     "cell_type": "code",
     "collapsed": false,
     "input": [
      "train_cols = reg_data.columns[1:]\n",
      "train_cols\n",
      "#%%\n",
      "logit = sm.Logit(reg_data['admit'], reg_data[train_cols])\n",
      "result = logit.fit()\n",
      "print result.summary()"
     ],
     "language": "python",
     "metadata": {},
     "outputs": [
      {
       "output_type": "stream",
       "stream": "stdout",
       "text": [
        "Optimization terminated successfully.\n",
        "         Current function value: 229.258746\n",
        "         Iterations 6\n",
        "                           Logit Regression Results                           \n",
        "==============================================================================\n",
        "Dep. Variable:                  admit   No. Observations:                  400\n",
        "Model:                          Logit   Df Residuals:                      394\n",
        "Method:                           MLE   Df Model:                            5\n",
        "Date:                Thu, 09 Jan 2014   Pseudo R-squ.:                 0.08292\n",
        "Time:                        20:19:16   Log-Likelihood:                -229.26\n",
        "converged:                       True   LL-Null:                       -249.99\n",
        "                                        LLR p-value:                 7.578e-08\n",
        "==============================================================================\n",
        "                 coef    std err          z      P>|z|      [95.0% Conf. Int.]\n",
        "------------------------------------------------------------------------------\n",
        "gre            0.0023      0.001      2.070      0.038         0.000     0.004\n",
        "gpa            0.8040      0.332      2.423      0.015         0.154     1.454\n",
        "prestige_2    -0.6754      0.316     -2.134      0.033        -1.296    -0.055\n",
        "prestige_3    -1.3402      0.345     -3.881      0.000        -2.017    -0.663\n",
        "prestige_4    -1.5515      0.418     -3.713      0.000        -2.370    -0.733\n",
        "intercept     -3.9900      1.140     -3.500      0.000        -6.224    -1.756\n",
        "==============================================================================\n"
       ]
      }
     ],
     "prompt_number": 41
    }
   ],
   "metadata": {}
  }
 ]
}