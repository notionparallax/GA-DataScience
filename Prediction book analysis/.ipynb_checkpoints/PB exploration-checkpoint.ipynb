{
 "cells": [
  {
   "cell_type": "markdown",
   "metadata": {},
   "source": [
    "# PredictionBook Analysis #\n",
    "\n",
    "![A prediction book screen shot](https://lh5.googleusercontent.com/_XBfs0SQZwedj1vj_OWK_KKUVSnaZjnIApRZWlqIrCJrdN6x5U-xOmesML-orCP8dTIHFEYCAAPAXD0QCfIiUywptkv6iH9KG5VsZe9MOJyoGIiUAe5dVVAFMw)\n",
    "\n",
    "Prediction book is a service that allows people to record their predictions along with their confidence in these predictions.\n",
    "Explicitly stating, and recording, confidence in a prediction started with meteorologists in Australia in 1906 , but has been explicitly been done by anyone who was making or accepting a bet. If the person was certain that the event would occur then they should be willing to stake their entire worth on it, so if someone isn't willing to do so they are indicating (imperfectly: risk aversion, discounting etc.) their degree of confidence in an event's likelihood to occur.\n",
    "\n",
    "It is helpful to have an understanding of one's calibration with regard to prediction confidence. If a well calibrated person has 70% confidence in an event, then over 100 events that they are this confident of happening there should be about 70 of them that happen and 30 that don't. Or in other words, the confidence can be taken to be the likelihood of that event occurring.\n",
    "Problem\n",
    "Their current feedback on prediction calibration is quite limited. It aggregates predictions across the entire time that a user has been with the site. One of the site's key jobs is to train people to be more accurate predictors, so if they improve then their output won't fully reflect this (e.g. if you start off overconfident, then your output will stay overconfident until you become underconfident for a while).\n",
    "\n",
    "What can the data tell us that we didn't already know? How can the data be presented in a way that will make people better calibrated? Are there any lessons about general decision making that we can discover from this set?\n",
    "\n",
    "## Data ##\n",
    "Prediction book gave me a sanitised version of their data (no names, email addresses, prediction text or anything that could be used to make the data personal) as an sql database (7.7mb)\n",
    "\n",
    "## Hypothesis ##\n",
    "[I'm still a bit hazy about the hypothesis] These data can reveal some trends that will be useful in teaching people to make better decisions.\n",
    "\n",
    "## Methods ##\n",
    "I'd like to do some clustering to see if people fall into different user patterns: prediction outlook (time between now and judgement), time of day prediction made, confidence. Also some general correlations between these factors: are people over confident in the morning?\n",
    "\n",
    "Until I get more into the data I'm not sure what I can find from it.\n",
    "\n",
    "## Business applications ##\n",
    "This might open up more features for the site itself. The insight into how people think might have academic value (I [wrote a thesis about this](http://notionparallax.co.uk/wordpress/?p=509 ) some time ago at university).\n",
    "\n",
    "# Exploration #"
   ]
  },
  {
   "cell_type": "code",
   "execution_count": 1,
   "metadata": {
    "collapsed": false
   },
   "outputs": [],
   "source": [
    "# using the tutorial found here:\n",
    "# http://mysql-python.sourceforge.net/MySQLdb.html\n",
    "\n",
    "import MySQLdb\n",
    "import pandas as pd\n",
    "from __future__ import division"
   ]
  },
  {
   "cell_type": "markdown",
   "metadata": {},
   "source": [
    "# tables #\n",
    "This section goes through the tables to get an idea of what's going on inside them"
   ]
  },
  {
   "cell_type": "code",
   "execution_count": 2,
   "metadata": {
    "collapsed": false
   },
   "outputs": [],
   "source": [
    "def queryAsTable(query, maxrows=5, how=2):\n",
    "    \"\"\"This queries a db and returns the response as a pandas dataframe\"\"\"\n",
    "    # Open database connection\n",
    "    db = MySQLdb.connect(user = 'root', \n",
    "                         passwd = 'password',\n",
    "                         db = 'mysql', \n",
    "                         host = 'localhost')\n",
    "    db.query(query)\n",
    "    result = db.store_result()\n",
    "    rdict = list(result.fetch_row(maxrows=maxrows, how=how)) #max=0 means all, how=0 means tuple, how=1-dict, how=2 dict with fully qualified names\n",
    "    df = pd.DataFrame(rdict)\n",
    "    # disconnect from server\n",
    "    db.close()\n",
    "    return df\n",
    "\n",
    "def binConfidence(predictions):\n",
    "    confBins = {}\n",
    "    for b in range(0,110,10):  \n",
    "        confBins[b] = 0   #produces: {0: 0, 100: 0, 70: 0, 40: 0, 10: 0, 80: 0, 50: 0, 20: 0, 90: 0, 60: 0, 30: 0} (dicts are unordered)\n",
    "    \n",
    "    for p in predictions.values:\n",
    "        count = p[0]\n",
    "        conf  = p[1]\n",
    "        binNum = int(round(conf/10.0)*10)\n",
    "        confBins[binNum] += count\n",
    "    return confBins\n",
    "\n",
    "def makeLables(mid):\n",
    "    if mid == 0:\n",
    "        return \"{}-{}\".format(mid, mid+5)\n",
    "    elif mid == 100:\n",
    "        return \"{}-{}\".format(mid-5, mid)\n",
    "    else:\n",
    "        return \"{}-{}\".format(mid-5, mid+5)\n",
    "    \n",
    "def sqError(target, actual):\n",
    "    return (target-actual) ** 2\n",
    "\n",
    "def signedSqError(target, actual):\n",
    "    dif = target-actual\n",
    "    sign = 1 if dif<0 else -1\n",
    "    return sqError(target, actual) * sign"
   ]
  },
  {
   "cell_type": "code",
   "execution_count": 3,
   "metadata": {
    "collapsed": false
   },
   "outputs": [
    {
     "name": "stderr",
     "output_type": "stream",
     "text": [
      "ERROR: An unexpected error occurred while tokenizing input\n",
      "The following traceback may be corrupted or invalid\n",
      "The error message is: ('EOF in multi-line string', (1, 0))\n",
      "\n"
     ]
    },
    {
     "ename": "OperationalError",
     "evalue": "(2002, \"Can't connect to local MySQL server through socket '/var/run/mysqld/mysqld.sock' (2)\")",
     "output_type": "error",
     "traceback": [
      "\u001b[1;31m---------------------------------------------------------------------------\u001b[0m",
      "\u001b[1;31mOperationalError\u001b[0m                          Traceback (most recent call last)",
      "\u001b[1;32m<ipython-input-3-8bdbe783638c>\u001b[0m in \u001b[0;36m<module>\u001b[1;34m()\u001b[0m\n\u001b[0;32m      6\u001b[0m        \u001b[0mAND\u001b[0m \u001b[0mtable_schema\u001b[0m \u001b[1;33m=\u001b[0m \u001b[1;34m'mysql'\u001b[0m\u001b[1;33m\u001b[0m\u001b[0m\n\u001b[0;32m      7\u001b[0m \u001b[0mORDER\u001b[0m  \u001b[0mBY\u001b[0m \u001b[0mtable_rows\u001b[0m \u001b[0mDESC\u001b[0m\u001b[1;33m\u001b[0m\u001b[0m\n\u001b[1;32m----> 8\u001b[1;33m \"\"\", maxrows=10)\n\u001b[0m",
      "\u001b[1;32m<ipython-input-2-a7ab206509a2>\u001b[0m in \u001b[0;36mqueryAsTable\u001b[1;34m(query, maxrows, how)\u001b[0m\n\u001b[0;32m      5\u001b[0m                          \u001b[0mpasswd\u001b[0m \u001b[1;33m=\u001b[0m \u001b[1;34m'password'\u001b[0m\u001b[1;33m,\u001b[0m\u001b[1;33m\u001b[0m\u001b[0m\n\u001b[0;32m      6\u001b[0m                          \u001b[0mdb\u001b[0m \u001b[1;33m=\u001b[0m \u001b[1;34m'mysql'\u001b[0m\u001b[1;33m,\u001b[0m\u001b[1;33m\u001b[0m\u001b[0m\n\u001b[1;32m----> 7\u001b[1;33m                          host = 'localhost')\n\u001b[0m\u001b[0;32m      8\u001b[0m     \u001b[0mdb\u001b[0m\u001b[1;33m.\u001b[0m\u001b[0mquery\u001b[0m\u001b[1;33m(\u001b[0m\u001b[0mquery\u001b[0m\u001b[1;33m)\u001b[0m\u001b[1;33m\u001b[0m\u001b[0m\n\u001b[0;32m      9\u001b[0m     \u001b[0mresult\u001b[0m \u001b[1;33m=\u001b[0m \u001b[0mdb\u001b[0m\u001b[1;33m.\u001b[0m\u001b[0mstore_result\u001b[0m\u001b[1;33m(\u001b[0m\u001b[1;33m)\u001b[0m\u001b[1;33m\u001b[0m\u001b[0m\n",
      "\u001b[1;32m/usr/lib/python2.7/dist-packages/MySQLdb/__init__.pyc\u001b[0m in \u001b[0;36mConnect\u001b[1;34m(*args, **kwargs)\u001b[0m\n\u001b[0;32m     79\u001b[0m     \u001b[1;34m\"\"\"Factory function for connections.Connection.\"\"\"\u001b[0m\u001b[1;33m\u001b[0m\u001b[0m\n\u001b[0;32m     80\u001b[0m     \u001b[1;32mfrom\u001b[0m \u001b[0mconnections\u001b[0m \u001b[1;32mimport\u001b[0m \u001b[0mConnection\u001b[0m\u001b[1;33m\u001b[0m\u001b[0m\n\u001b[1;32m---> 81\u001b[1;33m     \u001b[1;32mreturn\u001b[0m \u001b[0mConnection\u001b[0m\u001b[1;33m(\u001b[0m\u001b[1;33m*\u001b[0m\u001b[0margs\u001b[0m\u001b[1;33m,\u001b[0m \u001b[1;33m**\u001b[0m\u001b[0mkwargs\u001b[0m\u001b[1;33m)\u001b[0m\u001b[1;33m\u001b[0m\u001b[0m\n\u001b[0m\u001b[0;32m     82\u001b[0m \u001b[1;33m\u001b[0m\u001b[0m\n\u001b[0;32m     83\u001b[0m \u001b[0mconnect\u001b[0m \u001b[1;33m=\u001b[0m \u001b[0mConnection\u001b[0m \u001b[1;33m=\u001b[0m \u001b[0mConnect\u001b[0m\u001b[1;33m\u001b[0m\u001b[0m\n",
      "\u001b[1;32m/usr/lib/python2.7/dist-packages/MySQLdb/connections.pyc\u001b[0m in \u001b[0;36m__init__\u001b[1;34m(self, *args, **kwargs)\u001b[0m\n\u001b[0;32m    185\u001b[0m         \u001b[0mkwargs2\u001b[0m\u001b[1;33m[\u001b[0m\u001b[1;34m'client_flag'\u001b[0m\u001b[1;33m]\u001b[0m \u001b[1;33m=\u001b[0m \u001b[0mclient_flag\u001b[0m\u001b[1;33m\u001b[0m\u001b[0m\n\u001b[0;32m    186\u001b[0m \u001b[1;33m\u001b[0m\u001b[0m\n\u001b[1;32m--> 187\u001b[1;33m         \u001b[0msuper\u001b[0m\u001b[1;33m(\u001b[0m\u001b[0mConnection\u001b[0m\u001b[1;33m,\u001b[0m \u001b[0mself\u001b[0m\u001b[1;33m)\u001b[0m\u001b[1;33m.\u001b[0m\u001b[0m__init__\u001b[0m\u001b[1;33m(\u001b[0m\u001b[1;33m*\u001b[0m\u001b[0margs\u001b[0m\u001b[1;33m,\u001b[0m \u001b[1;33m**\u001b[0m\u001b[0mkwargs2\u001b[0m\u001b[1;33m)\u001b[0m\u001b[1;33m\u001b[0m\u001b[0m\n\u001b[0m\u001b[0;32m    188\u001b[0m \u001b[1;33m\u001b[0m\u001b[0m\n\u001b[0;32m    189\u001b[0m         self.encoders = dict([ (k, v) for k, v in conv.items()\n",
      "\u001b[1;31mOperationalError\u001b[0m: (2002, \"Can't connect to local MySQL server through socket '/var/run/mysqld/mysqld.sock' (2)\")"
     ]
    }
   ],
   "source": [
    "queryAsTable(\"\"\"\n",
    "SELECT table_name, \n",
    "       table_rows \n",
    "FROM   information_schema.tables \n",
    "WHERE  table_type = 'BASE TABLE' \n",
    "       AND table_schema = 'mysql' \n",
    "ORDER  BY table_rows DESC\n",
    "\"\"\", maxrows=10)\n"
   ]
  },
  {
   "cell_type": "markdown",
   "metadata": {},
   "source": [
    "So it looks like there's not really any point thinking about any tables other than responses, predictions, users and judgements.\n",
    "\n",
    "The help tables seem to be mysql help, not predictionbook help!"
   ]
  },
  {
   "cell_type": "markdown",
   "metadata": {},
   "source": [
    "## responses ##"
   ]
  },
  {
   "cell_type": "code",
   "execution_count": 5,
   "metadata": {
    "collapsed": false
   },
   "outputs": [
    {
     "data": {
      "text/html": [
       "<div style=\"max-height:1000px;max-width:1500px;overflow:auto;\">\n",
       "<table border=\"1\" class=\"dataframe\">\n",
       "  <thead>\n",
       "    <tr style=\"text-align: right;\">\n",
       "      <th></th>\n",
       "      <th>responses.confidence</th>\n",
       "      <th>responses.created_at</th>\n",
       "      <th>responses.id</th>\n",
       "      <th>responses.prediction_id</th>\n",
       "      <th>responses.updated_at</th>\n",
       "      <th>responses.user_id</th>\n",
       "    </tr>\n",
       "  </thead>\n",
       "  <tbody>\n",
       "    <tr>\n",
       "      <th>0</th>\n",
       "      <td> 80</td>\n",
       "      <td>2008-06-20 03:46:16</td>\n",
       "      <td>  1</td>\n",
       "      <td>  1</td>\n",
       "      <td>2008-08-01 09:18:02</td>\n",
       "      <td> 1</td>\n",
       "    </tr>\n",
       "    <tr>\n",
       "      <th>1</th>\n",
       "      <td> 60</td>\n",
       "      <td>2008-06-20 04:37:13</td>\n",
       "      <td>  2</td>\n",
       "      <td>  2</td>\n",
       "      <td>2008-08-01 09:18:02</td>\n",
       "      <td> 2</td>\n",
       "    </tr>\n",
       "    <tr>\n",
       "      <th>2</th>\n",
       "      <td> 80</td>\n",
       "      <td>2008-06-20 04:38:35</td>\n",
       "      <td>  3</td>\n",
       "      <td>  3</td>\n",
       "      <td>2008-08-01 09:18:02</td>\n",
       "      <td> 3</td>\n",
       "    </tr>\n",
       "    <tr>\n",
       "      <th>3</th>\n",
       "      <td> 80</td>\n",
       "      <td>2008-06-20 04:40:06</td>\n",
       "      <td>  4</td>\n",
       "      <td>  4</td>\n",
       "      <td>2008-08-01 09:18:02</td>\n",
       "      <td> 3</td>\n",
       "    </tr>\n",
       "    <tr>\n",
       "      <th>4</th>\n",
       "      <td> 70</td>\n",
       "      <td>2008-06-20 05:08:31</td>\n",
       "      <td>  5</td>\n",
       "      <td>  5</td>\n",
       "      <td>2008-08-01 09:18:02</td>\n",
       "      <td> 4</td>\n",
       "    </tr>\n",
       "    <tr>\n",
       "      <th>5</th>\n",
       "      <td> 70</td>\n",
       "      <td>2008-06-20 05:24:24</td>\n",
       "      <td>  6</td>\n",
       "      <td>  6</td>\n",
       "      <td>2008-08-01 09:18:02</td>\n",
       "      <td> 2</td>\n",
       "    </tr>\n",
       "    <tr>\n",
       "      <th>6</th>\n",
       "      <td> 90</td>\n",
       "      <td>2008-06-20 06:46:23</td>\n",
       "      <td>  7</td>\n",
       "      <td>  7</td>\n",
       "      <td>2008-08-01 09:18:02</td>\n",
       "      <td> 5</td>\n",
       "    </tr>\n",
       "    <tr>\n",
       "      <th>7</th>\n",
       "      <td> 80</td>\n",
       "      <td>2008-06-20 11:43:07</td>\n",
       "      <td>  8</td>\n",
       "      <td>  8</td>\n",
       "      <td>2008-08-01 09:18:02</td>\n",
       "      <td> 6</td>\n",
       "    </tr>\n",
       "    <tr>\n",
       "      <th>8</th>\n",
       "      <td> 95</td>\n",
       "      <td>2008-06-20 11:47:54</td>\n",
       "      <td>  9</td>\n",
       "      <td>  9</td>\n",
       "      <td>2008-08-01 09:18:02</td>\n",
       "      <td> 6</td>\n",
       "    </tr>\n",
       "    <tr>\n",
       "      <th>9</th>\n",
       "      <td> 78</td>\n",
       "      <td>2008-06-20 12:12:28</td>\n",
       "      <td> 10</td>\n",
       "      <td> 10</td>\n",
       "      <td>2008-08-01 09:18:02</td>\n",
       "      <td> 7</td>\n",
       "    </tr>\n",
       "  </tbody>\n",
       "</table>\n",
       "</div>"
      ],
      "text/plain": [
       "   responses.confidence responses.created_at  responses.id  \\\n",
       "0                    80  2008-06-20 03:46:16             1   \n",
       "1                    60  2008-06-20 04:37:13             2   \n",
       "2                    80  2008-06-20 04:38:35             3   \n",
       "3                    80  2008-06-20 04:40:06             4   \n",
       "4                    70  2008-06-20 05:08:31             5   \n",
       "5                    70  2008-06-20 05:24:24             6   \n",
       "6                    90  2008-06-20 06:46:23             7   \n",
       "7                    80  2008-06-20 11:43:07             8   \n",
       "8                    95  2008-06-20 11:47:54             9   \n",
       "9                    78  2008-06-20 12:12:28            10   \n",
       "\n",
       "   responses.prediction_id responses.updated_at  responses.user_id  \n",
       "0                        1  2008-08-01 09:18:02                  1  \n",
       "1                        2  2008-08-01 09:18:02                  2  \n",
       "2                        3  2008-08-01 09:18:02                  3  \n",
       "3                        4  2008-08-01 09:18:02                  3  \n",
       "4                        5  2008-08-01 09:18:02                  4  \n",
       "5                        6  2008-08-01 09:18:02                  2  \n",
       "6                        7  2008-08-01 09:18:02                  5  \n",
       "7                        8  2008-08-01 09:18:02                  6  \n",
       "8                        9  2008-08-01 09:18:02                  6  \n",
       "9                       10  2008-08-01 09:18:02                  7  "
      ]
     },
     "execution_count": 5,
     "metadata": {},
     "output_type": "execute_result"
    }
   ],
   "source": [
    "queryAsTable(\"\"\"select * from  mysql.responses\"\"\", maxrows=10)"
   ]
  },
  {
   "cell_type": "markdown",
   "metadata": {},
   "source": [
    "## predictions ##"
   ]
  },
  {
   "cell_type": "code",
   "execution_count": 6,
   "metadata": {
    "collapsed": false
   },
   "outputs": [
    {
     "data": {
      "text/html": [
       "<div style=\"max-height:1000px;max-width:1500px;overflow:auto;\">\n",
       "<table border=\"1\" class=\"dataframe\">\n",
       "  <thead>\n",
       "    <tr style=\"text-align: right;\">\n",
       "      <th></th>\n",
       "      <th>predictions.created_at</th>\n",
       "      <th>predictions.creator_id</th>\n",
       "      <th>predictions.deadline</th>\n",
       "      <th>predictions.id</th>\n",
       "      <th>predictions.private</th>\n",
       "      <th>predictions.updated_at</th>\n",
       "      <th>predictions.uuid</th>\n",
       "      <th>predictions.version</th>\n",
       "      <th>predictions.withdrawn</th>\n",
       "    </tr>\n",
       "  </thead>\n",
       "  <tbody>\n",
       "    <tr>\n",
       "      <th>0</th>\n",
       "      <td>2008-06-20 03:46:16</td>\n",
       "      <td> 1</td>\n",
       "      <td>2008-06-20 12:00:00</td>\n",
       "      <td>  1</td>\n",
       "      <td> 0</td>\n",
       "      <td>2008-08-14 02:28:40</td>\n",
       "      <td> d52eeaf6-cb20-456f-a375-bec2d1acc44d</td>\n",
       "      <td> 1</td>\n",
       "      <td> 0</td>\n",
       "    </tr>\n",
       "    <tr>\n",
       "      <th>1</th>\n",
       "      <td>2008-06-20 04:37:13</td>\n",
       "      <td> 2</td>\n",
       "      <td>2008-06-23 12:00:00</td>\n",
       "      <td>  2</td>\n",
       "      <td> 0</td>\n",
       "      <td>2008-08-01 09:18:01</td>\n",
       "      <td> 86530ca2-fbd5-47a8-b2d8-12110e05c3b4</td>\n",
       "      <td> 1</td>\n",
       "      <td> 0</td>\n",
       "    </tr>\n",
       "    <tr>\n",
       "      <th>2</th>\n",
       "      <td>2008-06-20 04:38:35</td>\n",
       "      <td> 3</td>\n",
       "      <td>2008-06-30 12:00:00</td>\n",
       "      <td>  3</td>\n",
       "      <td> 0</td>\n",
       "      <td>2008-08-01 09:18:01</td>\n",
       "      <td> d5adb0ee-ecf2-48ce-88ce-7b40b5b2179f</td>\n",
       "      <td> 1</td>\n",
       "      <td> 0</td>\n",
       "    </tr>\n",
       "    <tr>\n",
       "      <th>3</th>\n",
       "      <td>2008-06-20 04:40:06</td>\n",
       "      <td> 3</td>\n",
       "      <td>2008-06-19 12:00:00</td>\n",
       "      <td>  4</td>\n",
       "      <td> 0</td>\n",
       "      <td>2008-08-01 09:18:01</td>\n",
       "      <td> 100f4ff6-4ee7-44e8-aa2d-5394dcaead7e</td>\n",
       "      <td> 1</td>\n",
       "      <td> 0</td>\n",
       "    </tr>\n",
       "    <tr>\n",
       "      <th>4</th>\n",
       "      <td>2008-06-20 05:08:31</td>\n",
       "      <td> 4</td>\n",
       "      <td>2008-06-20 06:08:31</td>\n",
       "      <td>  5</td>\n",
       "      <td> 0</td>\n",
       "      <td>2008-08-01 09:18:01</td>\n",
       "      <td> c0314cd4-070a-4d4b-ae3c-ec03ddbdc621</td>\n",
       "      <td> 1</td>\n",
       "      <td> 0</td>\n",
       "    </tr>\n",
       "    <tr>\n",
       "      <th>5</th>\n",
       "      <td>2008-06-20 05:24:24</td>\n",
       "      <td> 2</td>\n",
       "      <td>2008-06-26 12:00:00</td>\n",
       "      <td>  6</td>\n",
       "      <td> 0</td>\n",
       "      <td>2008-08-01 09:18:01</td>\n",
       "      <td> 5c73114a-e22d-4a5a-9026-03f45acc0f19</td>\n",
       "      <td> 1</td>\n",
       "      <td> 0</td>\n",
       "    </tr>\n",
       "    <tr>\n",
       "      <th>6</th>\n",
       "      <td>2008-06-20 06:46:23</td>\n",
       "      <td> 5</td>\n",
       "      <td>2008-12-30 12:00:00</td>\n",
       "      <td>  7</td>\n",
       "      <td> 0</td>\n",
       "      <td>2008-08-01 09:18:01</td>\n",
       "      <td> 54df1626-bf7a-4ae9-b162-826d2a67fec1</td>\n",
       "      <td> 1</td>\n",
       "      <td> 0</td>\n",
       "    </tr>\n",
       "    <tr>\n",
       "      <th>7</th>\n",
       "      <td>2008-06-20 11:43:07</td>\n",
       "      <td> 6</td>\n",
       "      <td>2008-08-01 12:00:00</td>\n",
       "      <td>  8</td>\n",
       "      <td> 0</td>\n",
       "      <td>2008-08-01 09:18:01</td>\n",
       "      <td> d5fbc343-9de5-41a2-ba89-b599bf60ae81</td>\n",
       "      <td> 1</td>\n",
       "      <td> 0</td>\n",
       "    </tr>\n",
       "    <tr>\n",
       "      <th>8</th>\n",
       "      <td>2008-06-20 11:47:54</td>\n",
       "      <td> 6</td>\n",
       "      <td>2013-01-06 12:00:00</td>\n",
       "      <td>  9</td>\n",
       "      <td> 1</td>\n",
       "      <td>2013-01-26 01:15:36</td>\n",
       "      <td> ffa789d4-c40e-489e-af69-7000ce34cbf0</td>\n",
       "      <td> 2</td>\n",
       "      <td> 0</td>\n",
       "    </tr>\n",
       "    <tr>\n",
       "      <th>9</th>\n",
       "      <td>2008-06-20 12:12:28</td>\n",
       "      <td> 7</td>\n",
       "      <td>2013-06-20 22:00:00</td>\n",
       "      <td> 10</td>\n",
       "      <td> 1</td>\n",
       "      <td>2013-11-01 18:38:07</td>\n",
       "      <td> 19128b35-38ac-4748-9a44-42cbda3309fb</td>\n",
       "      <td> 2</td>\n",
       "      <td> 0</td>\n",
       "    </tr>\n",
       "  </tbody>\n",
       "</table>\n",
       "</div>"
      ],
      "text/plain": [
       "  predictions.created_at  predictions.creator_id predictions.deadline  \\\n",
       "0    2008-06-20 03:46:16                       1  2008-06-20 12:00:00   \n",
       "1    2008-06-20 04:37:13                       2  2008-06-23 12:00:00   \n",
       "2    2008-06-20 04:38:35                       3  2008-06-30 12:00:00   \n",
       "3    2008-06-20 04:40:06                       3  2008-06-19 12:00:00   \n",
       "4    2008-06-20 05:08:31                       4  2008-06-20 06:08:31   \n",
       "5    2008-06-20 05:24:24                       2  2008-06-26 12:00:00   \n",
       "6    2008-06-20 06:46:23                       5  2008-12-30 12:00:00   \n",
       "7    2008-06-20 11:43:07                       6  2008-08-01 12:00:00   \n",
       "8    2008-06-20 11:47:54                       6  2013-01-06 12:00:00   \n",
       "9    2008-06-20 12:12:28                       7  2013-06-20 22:00:00   \n",
       "\n",
       "   predictions.id  predictions.private predictions.updated_at  \\\n",
       "0               1                    0    2008-08-14 02:28:40   \n",
       "1               2                    0    2008-08-01 09:18:01   \n",
       "2               3                    0    2008-08-01 09:18:01   \n",
       "3               4                    0    2008-08-01 09:18:01   \n",
       "4               5                    0    2008-08-01 09:18:01   \n",
       "5               6                    0    2008-08-01 09:18:01   \n",
       "6               7                    0    2008-08-01 09:18:01   \n",
       "7               8                    0    2008-08-01 09:18:01   \n",
       "8               9                    1    2013-01-26 01:15:36   \n",
       "9              10                    1    2013-11-01 18:38:07   \n",
       "\n",
       "                       predictions.uuid  predictions.version  \\\n",
       "0  d52eeaf6-cb20-456f-a375-bec2d1acc44d                    1   \n",
       "1  86530ca2-fbd5-47a8-b2d8-12110e05c3b4                    1   \n",
       "2  d5adb0ee-ecf2-48ce-88ce-7b40b5b2179f                    1   \n",
       "3  100f4ff6-4ee7-44e8-aa2d-5394dcaead7e                    1   \n",
       "4  c0314cd4-070a-4d4b-ae3c-ec03ddbdc621                    1   \n",
       "5  5c73114a-e22d-4a5a-9026-03f45acc0f19                    1   \n",
       "6  54df1626-bf7a-4ae9-b162-826d2a67fec1                    1   \n",
       "7  d5fbc343-9de5-41a2-ba89-b599bf60ae81                    1   \n",
       "8  ffa789d4-c40e-489e-af69-7000ce34cbf0                    2   \n",
       "9  19128b35-38ac-4748-9a44-42cbda3309fb                    2   \n",
       "\n",
       "   predictions.withdrawn  \n",
       "0                      0  \n",
       "1                      0  \n",
       "2                      0  \n",
       "3                      0  \n",
       "4                      0  \n",
       "5                      0  \n",
       "6                      0  \n",
       "7                      0  \n",
       "8                      0  \n",
       "9                      0  "
      ]
     },
     "execution_count": 6,
     "metadata": {},
     "output_type": "execute_result"
    }
   ],
   "source": [
    "queryAsTable(\"\"\"select * from  mysql.predictions\"\"\", maxrows=10)"
   ]
  },
  {
   "cell_type": "markdown",
   "metadata": {},
   "source": [
    "##Users##"
   ]
  },
  {
   "cell_type": "code",
   "execution_count": 7,
   "metadata": {
    "collapsed": false
   },
   "outputs": [
    {
     "data": {
      "text/html": [
       "<div style=\"max-height:1000px;max-width:1500px;overflow:auto;\">\n",
       "<table border=\"1\" class=\"dataframe\">\n",
       "  <thead>\n",
       "    <tr style=\"text-align: right;\">\n",
       "      <th></th>\n",
       "      <th>users.created_at</th>\n",
       "      <th>users.id</th>\n",
       "      <th>users.private_default</th>\n",
       "      <th>users.timezone</th>\n",
       "      <th>users.updated_at</th>\n",
       "    </tr>\n",
       "  </thead>\n",
       "  <tbody>\n",
       "    <tr>\n",
       "      <th>0</th>\n",
       "      <td>2008-08-01 09:18:00</td>\n",
       "      <td>  1</td>\n",
       "      <td> 0</td>\n",
       "      <td>      None</td>\n",
       "      <td>2013-08-28 06:34:18</td>\n",
       "    </tr>\n",
       "    <tr>\n",
       "      <th>1</th>\n",
       "      <td>2008-08-01 09:18:00</td>\n",
       "      <td>  2</td>\n",
       "      <td> 0</td>\n",
       "      <td>      None</td>\n",
       "      <td>2012-10-12 01:52:14</td>\n",
       "    </tr>\n",
       "    <tr>\n",
       "      <th>2</th>\n",
       "      <td>2008-08-01 09:18:00</td>\n",
       "      <td>  3</td>\n",
       "      <td> 0</td>\n",
       "      <td>      None</td>\n",
       "      <td>2008-08-01 09:18:00</td>\n",
       "    </tr>\n",
       "    <tr>\n",
       "      <th>3</th>\n",
       "      <td>2008-08-01 09:18:00</td>\n",
       "      <td>  4</td>\n",
       "      <td> 0</td>\n",
       "      <td>    London</td>\n",
       "      <td>2013-01-11 01:47:45</td>\n",
       "    </tr>\n",
       "    <tr>\n",
       "      <th>4</th>\n",
       "      <td>2008-08-01 09:18:00</td>\n",
       "      <td>  5</td>\n",
       "      <td> 0</td>\n",
       "      <td>      None</td>\n",
       "      <td>2008-08-01 09:18:00</td>\n",
       "    </tr>\n",
       "    <tr>\n",
       "      <th>5</th>\n",
       "      <td>2008-08-01 09:18:00</td>\n",
       "      <td>  6</td>\n",
       "      <td> 0</td>\n",
       "      <td> Melbourne</td>\n",
       "      <td>2008-09-08 05:58:02</td>\n",
       "    </tr>\n",
       "    <tr>\n",
       "      <th>6</th>\n",
       "      <td>2008-08-01 09:18:00</td>\n",
       "      <td>  7</td>\n",
       "      <td> 0</td>\n",
       "      <td>      None</td>\n",
       "      <td>2013-06-06 02:00:49</td>\n",
       "    </tr>\n",
       "    <tr>\n",
       "      <th>7</th>\n",
       "      <td>2008-08-01 09:18:00</td>\n",
       "      <td>  8</td>\n",
       "      <td> 0</td>\n",
       "      <td> Melbourne</td>\n",
       "      <td>2009-05-13 06:49:42</td>\n",
       "    </tr>\n",
       "    <tr>\n",
       "      <th>8</th>\n",
       "      <td>2008-08-01 09:18:00</td>\n",
       "      <td>  9</td>\n",
       "      <td> 0</td>\n",
       "      <td> Melbourne</td>\n",
       "      <td>2013-03-15 04:21:33</td>\n",
       "    </tr>\n",
       "    <tr>\n",
       "      <th>9</th>\n",
       "      <td>2008-08-01 09:18:00</td>\n",
       "      <td> 10</td>\n",
       "      <td> 0</td>\n",
       "      <td>      None</td>\n",
       "      <td>2008-08-01 09:18:00</td>\n",
       "    </tr>\n",
       "  </tbody>\n",
       "</table>\n",
       "</div>"
      ],
      "text/plain": [
       "     users.created_at  users.id  users.private_default users.timezone  \\\n",
       "0 2008-08-01 09:18:00         1                      0           None   \n",
       "1 2008-08-01 09:18:00         2                      0           None   \n",
       "2 2008-08-01 09:18:00         3                      0           None   \n",
       "3 2008-08-01 09:18:00         4                      0         London   \n",
       "4 2008-08-01 09:18:00         5                      0           None   \n",
       "5 2008-08-01 09:18:00         6                      0      Melbourne   \n",
       "6 2008-08-01 09:18:00         7                      0           None   \n",
       "7 2008-08-01 09:18:00         8                      0      Melbourne   \n",
       "8 2008-08-01 09:18:00         9                      0      Melbourne   \n",
       "9 2008-08-01 09:18:00        10                      0           None   \n",
       "\n",
       "     users.updated_at  \n",
       "0 2013-08-28 06:34:18  \n",
       "1 2012-10-12 01:52:14  \n",
       "2 2008-08-01 09:18:00  \n",
       "3 2013-01-11 01:47:45  \n",
       "4 2008-08-01 09:18:00  \n",
       "5 2008-09-08 05:58:02  \n",
       "6 2013-06-06 02:00:49  \n",
       "7 2009-05-13 06:49:42  \n",
       "8 2013-03-15 04:21:33  \n",
       "9 2008-08-01 09:18:00  "
      ]
     },
     "execution_count": 7,
     "metadata": {},
     "output_type": "execute_result"
    }
   ],
   "source": [
    "queryAsTable(\"\"\"select * from  mysql.users\"\"\", maxrows=10)"
   ]
  },
  {
   "cell_type": "code",
   "execution_count": 8,
   "metadata": {
    "collapsed": false
   },
   "outputs": [
    {
     "data": {
      "text/html": [
       "<div style=\"max-height:1000px;max-width:1500px;overflow:auto;\">\n",
       "<table border=\"1\" class=\"dataframe\">\n",
       "  <thead>\n",
       "    <tr style=\"text-align: right;\">\n",
       "      <th></th>\n",
       "      <th>judgements.created_at</th>\n",
       "      <th>judgements.id</th>\n",
       "      <th>judgements.outcome</th>\n",
       "      <th>judgements.prediction_id</th>\n",
       "      <th>judgements.updated_at</th>\n",
       "      <th>judgements.user_id</th>\n",
       "    </tr>\n",
       "  </thead>\n",
       "  <tbody>\n",
       "    <tr>\n",
       "      <th>0</th>\n",
       "      <td>2008-08-14 02:28:40</td>\n",
       "      <td>  1</td>\n",
       "      <td> 1</td>\n",
       "      <td>  1</td>\n",
       "      <td>2008-08-14 02:28:40</td>\n",
       "      <td> None</td>\n",
       "    </tr>\n",
       "    <tr>\n",
       "      <th>1</th>\n",
       "      <td>2008-08-01 09:18:01</td>\n",
       "      <td>  2</td>\n",
       "      <td> 0</td>\n",
       "      <td>  2</td>\n",
       "      <td>2008-08-01 09:18:01</td>\n",
       "      <td> None</td>\n",
       "    </tr>\n",
       "    <tr>\n",
       "      <th>2</th>\n",
       "      <td>2008-08-01 09:18:01</td>\n",
       "      <td>  3</td>\n",
       "      <td> 0</td>\n",
       "      <td>  3</td>\n",
       "      <td>2008-08-01 09:18:01</td>\n",
       "      <td> None</td>\n",
       "    </tr>\n",
       "    <tr>\n",
       "      <th>3</th>\n",
       "      <td>2008-08-01 09:18:01</td>\n",
       "      <td>  4</td>\n",
       "      <td> 0</td>\n",
       "      <td>  4</td>\n",
       "      <td>2008-08-01 09:18:01</td>\n",
       "      <td> None</td>\n",
       "    </tr>\n",
       "    <tr>\n",
       "      <th>4</th>\n",
       "      <td>2008-08-01 09:18:01</td>\n",
       "      <td>  5</td>\n",
       "      <td> 1</td>\n",
       "      <td>  5</td>\n",
       "      <td>2008-08-01 09:18:01</td>\n",
       "      <td> None</td>\n",
       "    </tr>\n",
       "    <tr>\n",
       "      <th>5</th>\n",
       "      <td>2008-08-01 09:18:01</td>\n",
       "      <td>  6</td>\n",
       "      <td> 0</td>\n",
       "      <td>  6</td>\n",
       "      <td>2008-08-01 09:18:01</td>\n",
       "      <td> None</td>\n",
       "    </tr>\n",
       "    <tr>\n",
       "      <th>6</th>\n",
       "      <td>2008-08-01 09:18:01</td>\n",
       "      <td>  8</td>\n",
       "      <td> 0</td>\n",
       "      <td>  8</td>\n",
       "      <td>2008-08-01 09:18:01</td>\n",
       "      <td> None</td>\n",
       "    </tr>\n",
       "    <tr>\n",
       "      <th>7</th>\n",
       "      <td>2008-08-01 09:18:01</td>\n",
       "      <td> 12</td>\n",
       "      <td> 0</td>\n",
       "      <td> 12</td>\n",
       "      <td>2008-08-01 09:18:01</td>\n",
       "      <td> None</td>\n",
       "    </tr>\n",
       "    <tr>\n",
       "      <th>8</th>\n",
       "      <td>2008-08-01 09:18:01</td>\n",
       "      <td> 13</td>\n",
       "      <td> 0</td>\n",
       "      <td> 15</td>\n",
       "      <td>2008-08-01 09:18:01</td>\n",
       "      <td> None</td>\n",
       "    </tr>\n",
       "    <tr>\n",
       "      <th>9</th>\n",
       "      <td>2008-08-01 09:18:01</td>\n",
       "      <td> 14</td>\n",
       "      <td> 1</td>\n",
       "      <td> 16</td>\n",
       "      <td>2008-08-01 09:18:01</td>\n",
       "      <td> None</td>\n",
       "    </tr>\n",
       "  </tbody>\n",
       "</table>\n",
       "</div>"
      ],
      "text/plain": [
       "  judgements.created_at  judgements.id  judgements.outcome  \\\n",
       "0   2008-08-14 02:28:40              1                   1   \n",
       "1   2008-08-01 09:18:01              2                   0   \n",
       "2   2008-08-01 09:18:01              3                   0   \n",
       "3   2008-08-01 09:18:01              4                   0   \n",
       "4   2008-08-01 09:18:01              5                   1   \n",
       "5   2008-08-01 09:18:01              6                   0   \n",
       "6   2008-08-01 09:18:01              8                   0   \n",
       "7   2008-08-01 09:18:01             12                   0   \n",
       "8   2008-08-01 09:18:01             13                   0   \n",
       "9   2008-08-01 09:18:01             14                   1   \n",
       "\n",
       "   judgements.prediction_id judgements.updated_at judgements.user_id  \n",
       "0                         1   2008-08-14 02:28:40               None  \n",
       "1                         2   2008-08-01 09:18:01               None  \n",
       "2                         3   2008-08-01 09:18:01               None  \n",
       "3                         4   2008-08-01 09:18:01               None  \n",
       "4                         5   2008-08-01 09:18:01               None  \n",
       "5                         6   2008-08-01 09:18:01               None  \n",
       "6                         8   2008-08-01 09:18:01               None  \n",
       "7                        12   2008-08-01 09:18:01               None  \n",
       "8                        15   2008-08-01 09:18:01               None  \n",
       "9                        16   2008-08-01 09:18:01               None  "
      ]
     },
     "execution_count": 8,
     "metadata": {},
     "output_type": "execute_result"
    }
   ],
   "source": [
    "queryAsTable(\"\"\"select * from  mysql.judgements\"\"\", maxrows=10)"
   ]
  },
  {
   "cell_type": "markdown",
   "metadata": {},
   "source": [
    "So the general structure of this seems to be that a **user** makes a **prediction**. The prediction is just the *what* part of the **prediction**, i.e. the text, e.g. '*Newtown jets will win the superbowl*'. At the same time the user makes a **response** to that **prediction**. The **response** is the part where they assign a *confidence* in it. \n",
    "\n",
    "Each **prediction** can have many **response**s.\n",
    "\n",
    "A **prediction** can later be judged, [TODO: check if each prediction only hasone or can hasmany judgements? The site records many judgements, so my guess is that it post processes them at render time; meaning that I'll need to search for the most recent one.]"
   ]
  },
  {
   "cell_type": "markdown",
   "metadata": {},
   "source": [
    "------------------\n",
    "Before we get into trying to merge these, lets see how many users there are, and how many predictions they've made:"
   ]
  },
  {
   "cell_type": "code",
   "execution_count": 9,
   "metadata": {
    "collapsed": false
   },
   "outputs": [
    {
     "name": "stdout",
     "output_type": "stream",
     "text": [
      "22578 unique users\n",
      "22455 unique predictions\n"
     ]
    }
   ],
   "source": [
    "db = MySQLdb.connect(user = 'root', \n",
    "                     passwd = 'password',\n",
    "                     db = 'mysql', \n",
    "                     host = 'localhost')\n",
    "db.query(\"\"\"SELECT count(distinct id ) from  mysql.users\"\"\")\n",
    "result = db.store_result()\n",
    "rdict = result.fetch_row() #max=0 means all, how=0 means tuple, how=1-dict, how=2 dict with fully qualified names\n",
    "uUsers = rdict[0][0]\n",
    "print uUsers, \"unique users\"\n",
    "\n",
    "db.query(\"\"\"SELECT count(distinct id ) from  mysql.predictions\"\"\")\n",
    "result = db.store_result()\n",
    "rdict = result.fetch_row() #max=0 means all, how=0 means tuple, how=1-dict, how=2 dict with fully qualified names\n",
    "uPredictions = rdict[0][0]\n",
    "db.close()\n",
    "print uPredictions, \"unique predictions\""
   ]
  },
  {
   "cell_type": "code",
   "execution_count": 10,
   "metadata": {
    "collapsed": false
   },
   "outputs": [
    {
     "data": {
      "text/plain": [
       "1.0054776219104877"
      ]
     },
     "execution_count": 10,
     "metadata": {},
     "output_type": "execute_result"
    }
   ],
   "source": [
    "#so all in all that's \n",
    "uUsers/uPredictions"
   ]
  },
  {
   "cell_type": "markdown",
   "metadata": {},
   "source": [
    "Almost exactly 1 per person.\n",
    "\n",
    "Given that we know that there is quite an active core of users there must be a lot of people who have made no predictions at all! Lets see what the distributuon is:\n"
   ]
  },
  {
   "cell_type": "code",
   "execution_count": 11,
   "metadata": {
    "collapsed": false
   },
   "outputs": [
    {
     "name": "stdout",
     "output_type": "stream",
     "text": [
      "top predictor: 1844 (id:  500)\n",
      "number two:    1827 (id:16360)\n",
      "#100:            29 (id:    7)\n",
      "#500:             2 (id:18584)\n"
     ]
    },
    {
     "data": {
      "text/plain": [
       "<matplotlib.axes.AxesSubplot at 0x417b210>"
      ]
     },
     "execution_count": 11,
     "metadata": {},
     "output_type": "execute_result"
    },
    {
     "data": {
      "image/png": "[encoded data removed]"
     },
     "metadata": {},
     "output_type": "display_data"
    }
   ],
   "source": [
    "q = queryAsTable(\"\"\"\n",
    "SELECT creator_id, \n",
    "       Count(creator_id) \n",
    "FROM   mysql.predictions \n",
    "GROUP  BY creator_id \n",
    "ORDER  BY Count(creator_id) DESC \n",
    "\"\"\", maxrows=0)\n",
    "\n",
    "print \"top predictor: {:>4} (id:{:>5})\".format( q[\"Count(creator_id)\"][0],   q.iloc[0]['predictions.creator_id'] )\n",
    "print \"number two:    {:>4} (id:{:>5})\".format( q[\"Count(creator_id)\"][1],   q.iloc[1]['predictions.creator_id'] )\n",
    "print \"#100:          {:>4} (id:{:>5})\".format( q[\"Count(creator_id)\"][99],  q.iloc[99]['predictions.creator_id'] )\n",
    "print \"#500:          {:>4} (id:{:>5})\".format( q[\"Count(creator_id)\"][499], q.iloc[499]['predictions.creator_id'] )\n",
    "\n",
    "counts=q.drop(\"predictions.creator_id\",1)\n",
    "counts.plot()"
   ]
  },
  {
   "cell_type": "markdown",
   "metadata": {},
   "source": [
    "The above graph only shows the number of predictions a person has made, not the number of responses they have made. The specific terminology of the database probably needs this to be explaned again: predictions are the statement that someone makes, and responses are their (or someone else's) confidence in that occuring.\n",
    "\n",
    "If we redo this graph to show people's **responses** instead:"
   ]
  },
  {
   "cell_type": "code",
   "execution_count": 12,
   "metadata": {
    "collapsed": false
   },
   "outputs": [
    {
     "name": "stdout",
     "output_type": "stream",
     "text": [
      "top responder: 6189 (id:  500)\n",
      "number two:    1919 (id:  535)\n",
      "#100:            66 (id:19500)\n",
      "#500:             4 (id:16614)\n"
     ]
    },
    {
     "data": {
      "text/plain": [
       "<matplotlib.axes.AxesSubplot at 0x4182650>"
      ]
     },
     "execution_count": 12,
     "metadata": {},
     "output_type": "execute_result"
    },
    {
     "data": {
      "image/png": "[encoded data removed]"
     },
     "metadata": {},
     "output_type": "display_data"
    }
   ],
   "source": [
    "#responses.confidence\tresponses.created_at\tresponses.id\tresponses.prediction_id\tresponses.updated_at\tresponses.user_id\n",
    "response_q = queryAsTable(\"\"\"\n",
    "SELECT user_id, \n",
    "       Count(user_id) \n",
    "FROM   mysql.responses \n",
    "GROUP  BY user_id \n",
    "ORDER  BY Count(user_id) DESC \n",
    "\"\"\", maxrows=0)\n",
    "\n",
    "print \"top responder: {:>4} (id:{:>5})\".format( response_q[\"Count(user_id)\"][0], response_q.iloc[0]['responses.user_id'] )\n",
    "print \"number two:    {:>4} (id:{:>5})\".format( response_q[\"Count(user_id)\"][1], response_q.iloc[1]['responses.user_id'] )\n",
    "print \"#100:          {:>4} (id:{:>5})\".format( response_q[\"Count(user_id)\"][99], response_q.iloc[99]['responses.user_id'] )\n",
    "print \"#500:          {:>4} (id:{:>5})\".format( response_q[\"Count(user_id)\"][499], response_q.iloc[499]['responses.user_id'] )\n",
    "\n",
    "response_counts=response_q.drop(\"responses.user_id\",1)\n",
    "response_counts.plot()"
   ]
  },
  {
   "cell_type": "markdown",
   "metadata": {},
   "source": [
    "We get an even more pronounced corner, driven by #500 being a prolific responder to other people's predictions (they respond to other's predictions about 3.2 times more often than their own). It seems to settle down significantly after that though, with number 2 being very similar in both sets (although they *are* different people)"
   ]
  },
  {
   "cell_type": "code",
   "execution_count": 13,
   "metadata": {
    "collapsed": false
   },
   "outputs": [
    {
     "data": {
      "text/plain": [
       "<matplotlib.axes.AxesSubplot at 0x417bd50>"
      ]
     },
     "execution_count": 13,
     "metadata": {},
     "output_type": "execute_result"
    },
    {
     "data": {
      "image/png": "[encoded data removed]"
     },
     "metadata": {},
     "output_type": "display_data"
    }
   ],
   "source": [
    "#zoom in on the corner\n",
    "z=counts[20:100]\n",
    "z.plot()"
   ]
  },
  {
   "cell_type": "markdown",
   "metadata": {},
   "source": [
    "So the most enthusiastic predictor had made 1844 predictions when this data was exported, but once we're outside the top 100 we're under 30 predictions, and then by the time we get to about 500 we're down to 1 prediction. I presume that this is a pretty common pattern for websites that offer a service.\n",
    "\n",
    "I don't remember if I read it or if it's just something that I've noticed myself, but the confidence graphs don't really settle down untill there are about 100 predictions. I think that this could be supported statistically, but just as a heuristic minimum, 5 columns (10 folded back on itself due to filiping the semantics of the statement) with 10 predictions in each gives 50 predictions needed to  to show a decent graph.\n",
    "\n",
    "Lets try to build one of these graphs (as they are shown on the PB website) and see if this is correct."
   ]
  },
  {
   "cell_type": "code",
   "execution_count": 14,
   "metadata": {
    "collapsed": false
   },
   "outputs": [
    {
     "name": "stdout",
     "output_type": "stream",
     "text": [
      "select predictions.created_at, \n",
      "predictions.creator_id, \n",
      "predictions.deadline, \n",
      "predictions.id, \n",
      "predictions.updated_at, \n",
      "predictions.withdrawn from predictions where creator_id='18111'\n"
     ]
    },
    {
     "data": {
      "text/html": [
       "<div style=\"max-height:1000px;max-width:1500px;overflow:auto;\">\n",
       "<table border=\"1\" class=\"dataframe\">\n",
       "  <thead>\n",
       "    <tr style=\"text-align: right;\">\n",
       "      <th></th>\n",
       "      <th>predictions.created_at</th>\n",
       "      <th>predictions.creator_id</th>\n",
       "      <th>predictions.deadline</th>\n",
       "      <th>predictions.id</th>\n",
       "      <th>predictions.updated_at</th>\n",
       "      <th>predictions.withdrawn</th>\n",
       "    </tr>\n",
       "  </thead>\n",
       "  <tbody>\n",
       "    <tr>\n",
       "      <th>0</th>\n",
       "      <td>2013-05-11 08:20:25</td>\n",
       "      <td> 18111</td>\n",
       "      <td>2013-05-11 14:20:00</td>\n",
       "      <td> 18111</td>\n",
       "      <td>2013-05-11 08:20:25</td>\n",
       "      <td> 0</td>\n",
       "    </tr>\n",
       "    <tr>\n",
       "      <th>1</th>\n",
       "      <td>2013-05-12 19:23:07</td>\n",
       "      <td> 18111</td>\n",
       "      <td>2013-05-12 14:20:00</td>\n",
       "      <td> 18146</td>\n",
       "      <td>2013-05-12 19:23:07</td>\n",
       "      <td> 0</td>\n",
       "    </tr>\n",
       "    <tr>\n",
       "      <th>2</th>\n",
       "      <td>2013-05-12 19:23:37</td>\n",
       "      <td> 18111</td>\n",
       "      <td>2013-05-12 14:20:00</td>\n",
       "      <td> 18147</td>\n",
       "      <td>2013-05-12 19:23:37</td>\n",
       "      <td> 0</td>\n",
       "    </tr>\n",
       "    <tr>\n",
       "      <th>3</th>\n",
       "      <td>2013-05-17 23:05:01</td>\n",
       "      <td> 18111</td>\n",
       "      <td>2013-05-17 14:20:00</td>\n",
       "      <td> 18198</td>\n",
       "      <td>2013-05-17 23:05:01</td>\n",
       "      <td> 0</td>\n",
       "    </tr>\n",
       "    <tr>\n",
       "      <th>4</th>\n",
       "      <td>2013-05-17 23:05:15</td>\n",
       "      <td> 18111</td>\n",
       "      <td>2013-05-17 14:20:00</td>\n",
       "      <td> 18199</td>\n",
       "      <td>2013-05-17 23:05:15</td>\n",
       "      <td> 0</td>\n",
       "    </tr>\n",
       "    <tr>\n",
       "      <th>5</th>\n",
       "      <td>2013-05-17 23:05:25</td>\n",
       "      <td> 18111</td>\n",
       "      <td>2013-05-17 14:20:00</td>\n",
       "      <td> 18200</td>\n",
       "      <td>2013-05-17 23:05:25</td>\n",
       "      <td> 0</td>\n",
       "    </tr>\n",
       "    <tr>\n",
       "      <th>6</th>\n",
       "      <td>2013-05-17 23:05:34</td>\n",
       "      <td> 18111</td>\n",
       "      <td>2013-05-17 14:20:00</td>\n",
       "      <td> 18201</td>\n",
       "      <td>2013-05-17 23:05:34</td>\n",
       "      <td> 0</td>\n",
       "    </tr>\n",
       "    <tr>\n",
       "      <th>7</th>\n",
       "      <td>2013-05-17 23:05:44</td>\n",
       "      <td> 18111</td>\n",
       "      <td>2013-05-17 14:20:00</td>\n",
       "      <td> 18202</td>\n",
       "      <td>2013-05-17 23:05:44</td>\n",
       "      <td> 0</td>\n",
       "    </tr>\n",
       "    <tr>\n",
       "      <th>8</th>\n",
       "      <td>2013-05-17 23:05:53</td>\n",
       "      <td> 18111</td>\n",
       "      <td>2013-05-17 14:20:00</td>\n",
       "      <td> 18203</td>\n",
       "      <td>2013-05-17 23:05:53</td>\n",
       "      <td> 0</td>\n",
       "    </tr>\n",
       "    <tr>\n",
       "      <th>9</th>\n",
       "      <td>2013-05-17 23:06:08</td>\n",
       "      <td> 18111</td>\n",
       "      <td>2013-05-17 14:20:00</td>\n",
       "      <td> 18204</td>\n",
       "      <td>2013-05-17 23:06:08</td>\n",
       "      <td> 0</td>\n",
       "    </tr>\n",
       "  </tbody>\n",
       "</table>\n",
       "</div>"
      ],
      "text/plain": [
       "  predictions.created_at  predictions.creator_id predictions.deadline  \\\n",
       "0    2013-05-11 08:20:25                   18111  2013-05-11 14:20:00   \n",
       "1    2013-05-12 19:23:07                   18111  2013-05-12 14:20:00   \n",
       "2    2013-05-12 19:23:37                   18111  2013-05-12 14:20:00   \n",
       "3    2013-05-17 23:05:01                   18111  2013-05-17 14:20:00   \n",
       "4    2013-05-17 23:05:15                   18111  2013-05-17 14:20:00   \n",
       "5    2013-05-17 23:05:25                   18111  2013-05-17 14:20:00   \n",
       "6    2013-05-17 23:05:34                   18111  2013-05-17 14:20:00   \n",
       "7    2013-05-17 23:05:44                   18111  2013-05-17 14:20:00   \n",
       "8    2013-05-17 23:05:53                   18111  2013-05-17 14:20:00   \n",
       "9    2013-05-17 23:06:08                   18111  2013-05-17 14:20:00   \n",
       "\n",
       "   predictions.id predictions.updated_at  predictions.withdrawn  \n",
       "0           18111    2013-05-11 08:20:25                      0  \n",
       "1           18146    2013-05-12 19:23:07                      0  \n",
       "2           18147    2013-05-12 19:23:37                      0  \n",
       "3           18198    2013-05-17 23:05:01                      0  \n",
       "4           18199    2013-05-17 23:05:15                      0  \n",
       "5           18200    2013-05-17 23:05:25                      0  \n",
       "6           18201    2013-05-17 23:05:34                      0  \n",
       "7           18202    2013-05-17 23:05:44                      0  \n",
       "8           18203    2013-05-17 23:05:53                      0  \n",
       "9           18204    2013-05-17 23:06:08                      0  "
      ]
     },
     "execution_count": 14,
     "metadata": {},
     "output_type": "execute_result"
    }
   ],
   "source": [
    "columns = ['predictions.created_at', 'predictions.creator_id', 'predictions.deadline', 'predictions.id', 'predictions.updated_at',  'predictions.withdrawn'] \n",
    "#removed  'predictions.uuid' 'predictions.private' 'predictions.version' as they probably aren't useful at this stage\n",
    "heroPredictor = str(q[\"predictions.creator_id\"][2])\n",
    "query = \"select {} from predictions where creator_id='{}'\".format(\", \\n\".join(columns), heroPredictor)\n",
    "print query\n",
    "newq = queryAsTable(query, maxrows=10, how=2)\n",
    "newq"
   ]
  },
  {
   "cell_type": "markdown",
   "metadata": {},
   "source": [
    "Now to join it to the predictions that they refer to and their judgements"
   ]
  },
  {
   "cell_type": "code",
   "execution_count": 15,
   "metadata": {
    "collapsed": false
   },
   "outputs": [
    {
     "name": "stdout",
     "output_type": "stream",
     "text": [
      "\n",
      "SELECT j.outcome, p.withdrawn, r.confidence, r.created_at, r.id, r.prediction_id, r.user_id \n",
      "FROM   mysql.predictions p \n",
      "       LEFT OUTER JOIN mysql.responses r \n",
      "                    ON p.id = r.prediction_id \n",
      "       LEFT OUTER JOIN mysql.judgements j \n",
      "                    ON p.id = j.prediction_id \n",
      "WHERE  creator_id = '18111' \n",
      "       AND j.id IS NOT NULL \n",
      "       AND r.confidence IS NOT NULL \n",
      "       AND j.outcome IS NOT NULL \n",
      "       AND j.user_id = '18111' \n",
      "\n"
     ]
    }
   ],
   "source": [
    "columns = [ 'j.outcome',\n",
    "            #'j.created_at',\n",
    "            #'j.id',          \n",
    "            #'j.prediction_id',\n",
    "            #'j.updated_at',            \n",
    "            #'p.created_at',            \n",
    "            #'p.deadline',\n",
    "            #'p.id',\n",
    "            #'p.private',\n",
    "            #'p.updated_at',\n",
    "            #'p.uuid',\n",
    "            #'p.version',\n",
    "            'p.withdrawn',\n",
    "            'r.confidence',\n",
    "            'r.created_at',\n",
    "            'r.id',\n",
    "            'r.prediction_id',\n",
    "            #'r.updated_at',\n",
    "            #'j.user_id',\n",
    "            #'p.creator_id',\n",
    "            'r.user_id']\n",
    "\n",
    "query = \"\"\"\n",
    "SELECT {0} \n",
    "FROM   mysql.predictions p \n",
    "       LEFT OUTER JOIN mysql.responses r \n",
    "                    ON p.id = r.prediction_id \n",
    "       LEFT OUTER JOIN mysql.judgements j \n",
    "                    ON p.id = j.prediction_id \n",
    "WHERE  creator_id = '{1}' \n",
    "       AND j.id IS NOT NULL \n",
    "       AND r.confidence IS NOT NULL \n",
    "       AND j.outcome IS NOT NULL \n",
    "       AND j.user_id = '{1}' \n",
    "\"\"\".format(\", \".join(columns), heroPredictor)\n",
    "print query"
   ]
  },
  {
   "cell_type": "markdown",
   "metadata": {},
   "source": [
    "I don't know why `j.outcome` would be null, maybe judged 'unknown'\n",
    "\n",
    "Make sure that all the User IDs match so that we are only judging responses to their own predictions, in future we'll need to pick up other people's predictiosn that they've weighed in on"
   ]
  },
  {
   "cell_type": "code",
   "execution_count": 16,
   "metadata": {
    "collapsed": false
   },
   "outputs": [
    {
     "data": {
      "text/html": [
       "<div style=\"max-height:1000px;max-width:1500px;overflow:auto;\">\n",
       "<table border=\"1\" class=\"dataframe\">\n",
       "  <tbody>\n",
       "    <tr>\n",
       "      <td>Int64Index([], dtype=int64)</td>\n",
       "      <td>Empty DataFrame</td>\n",
       "    </tr>\n",
       "  </tbody>\n",
       "</table>\n",
       "</div>"
      ],
      "text/plain": [
       "Empty DataFrame\n",
       "Columns: []\n",
       "Index: []"
      ]
     },
     "execution_count": 16,
     "metadata": {},
     "output_type": "execute_result"
    }
   ],
   "source": [
    "q = queryAsTable(query, maxrows=20, how=2)\n",
    "#q.keys()\n",
    "q"
   ]
  },
  {
   "cell_type": "code",
   "execution_count": 17,
   "metadata": {
    "collapsed": false
   },
   "outputs": [
    {
     "data": {
      "text/html": [
       "<div style=\"max-height:1000px;max-width:1500px;overflow:auto;\">\n",
       "<table border=\"1\" class=\"dataframe\">\n",
       "  <tbody>\n",
       "    <tr>\n",
       "      <td>Int64Index([], dtype=int64)</td>\n",
       "      <td>Empty DataFrame</td>\n",
       "    </tr>\n",
       "  </tbody>\n",
       "</table>\n",
       "</div>"
      ],
      "text/plain": [
       "Empty DataFrame\n",
       "Columns: []\n",
       "Index: []"
      ]
     },
     "execution_count": 17,
     "metadata": {},
     "output_type": "execute_result"
    }
   ],
   "source": [
    "columns = [ 'j.outcome',\n",
    "            #'j.created_at',\n",
    "            'j.id jid',          \n",
    "            #'j.prediction_id',\n",
    "            #'j.updated_at',            \n",
    "             'p.created_at pca',            \n",
    "             'p.deadline',\n",
    "            #'p.id',\n",
    "            #'p.private',\n",
    "            #'p.updated_at',\n",
    "            #'p.uuid',\n",
    "            #'p.version',\n",
    "            #'p.withdrawn',\n",
    "            'r.confidence',\n",
    "            'r.created_at rca',\n",
    "            'r.id pid',\n",
    "            'r.prediction_id',\n",
    "            #'r.updated_at',\n",
    "            #'j.user_id',\n",
    "            #'p.creator_id',\n",
    "            'r.user_id']\n",
    "\n",
    "query = \"\"\"\n",
    "SELECT {0} \n",
    "FROM   mysql.responses r  \n",
    "       LEFT OUTER JOIN mysql.predictions p \n",
    "                    ON r.prediction_id = p.id\n",
    "       LEFT OUTER JOIN mysql.judgements j \n",
    "                    ON p.id = j.prediction_id \n",
    "WHERE  j.id IS NOT NULL \n",
    "       AND r.confidence IS NOT NULL \n",
    "       AND j.outcome IS NOT NULL \n",
    "       AND p.withdrawn = 0\n",
    "       AND r.user_id = '{1}' \n",
    "\"\"\".format(\", \".join(columns), heroPredictor)\n",
    "#print query\n",
    "q = queryAsTable(query, maxrows=20, how=2)\n",
    "#q.keys()\n",
    "q"
   ]
  },
  {
   "cell_type": "code",
   "execution_count": 18,
   "metadata": {
    "collapsed": false
   },
   "outputs": [],
   "source": [
    "query = \"\"\"\n",
    "SELECT myp.confidence        AS conf, \n",
    "       Count(myp.confidence) AS cnt \n",
    "FROM   (SELECT {0} \n",
    "        FROM   mysql.predictions p \n",
    "               LEFT OUTER JOIN mysql.responses r \n",
    "                            ON p.id = r.prediction_id \n",
    "               LEFT OUTER JOIN mysql.judgements j \n",
    "                            ON p.id = j.prediction_id \n",
    "        WHERE  creator_id = '{1}' \n",
    "               AND j.id IS NOT NULL \n",
    "               AND r.confidence IS NOT NULL \n",
    "               AND j.outcome IS NOT NULL \n",
    "               AND j.user_id = '{1}' \n",
    "               AND j.outcome = '{2}') AS myp \n",
    "GROUP  BY myp.confidence \n",
    "\"\"\"\n",
    "#Q is this really a good way to do this? Can sql do this for me better?\n",
    "trueP  = queryAsTable(query.format(\", \".join(columns), heroPredictor, 1), maxrows=0, how=2)\n",
    "falseP = queryAsTable(query.format(\", \".join(columns), heroPredictor, 0), maxrows=0, how=2)"
   ]
  },
  {
   "cell_type": "code",
   "execution_count": 19,
   "metadata": {
    "collapsed": false
   },
   "outputs": [
    {
     "data": {
      "text/html": [
       "<div style=\"max-height:1000px;max-width:1500px;overflow:auto;\">\n",
       "<table border=\"1\" class=\"dataframe\">\n",
       "  <tbody>\n",
       "    <tr>\n",
       "      <td>Int64Index([], dtype=int64)</td>\n",
       "      <td>Empty DataFrame</td>\n",
       "    </tr>\n",
       "  </tbody>\n",
       "</table>\n",
       "</div>"
      ],
      "text/plain": [
       "Empty DataFrame\n",
       "Columns: []\n",
       "Index: []"
      ]
     },
     "execution_count": 19,
     "metadata": {},
     "output_type": "execute_result"
    }
   ],
   "source": [
    "trueP"
   ]
  },
  {
   "cell_type": "code",
   "execution_count": 20,
   "metadata": {
    "collapsed": false
   },
   "outputs": [
    {
     "data": {
      "text/html": [
       "<div style=\"max-height:1000px;max-width:1500px;overflow:auto;\">\n",
       "<table border=\"1\" class=\"dataframe\">\n",
       "  <tbody>\n",
       "    <tr>\n",
       "      <td>Int64Index([], dtype=int64)</td>\n",
       "      <td>Empty DataFrame</td>\n",
       "    </tr>\n",
       "  </tbody>\n",
       "</table>\n",
       "</div>"
      ],
      "text/plain": [
       "Empty DataFrame\n",
       "Columns: []\n",
       "Index: []"
      ]
     },
     "execution_count": 20,
     "metadata": {},
     "output_type": "execute_result"
    }
   ],
   "source": [
    "falseP"
   ]
  },
  {
   "cell_type": "markdown",
   "metadata": {},
   "source": [
    "Ok, so these are the predictions that were made, split into correct and incorrect and grouped by their confidence. To faithfully reproduce the PB graph as a first step we need to bin the predictions; rounding to the nearest multiple of 10 to begin with (0,10,20...) and folding the graph over on itself (10% confidence that it will happen = 90% confidence that it won't).\n",
    "\n",
    "This step is jsut for verification as I think that we'll probably get some interesting things when we try to look at an unfolded graph, and at changing the bin sizes. I think that the binning is a biased score as the feedback that people get is based on teh binned results so it encourages people to think in 10s."
   ]
  },
  {
   "cell_type": "code",
   "execution_count": 21,
   "metadata": {
    "collapsed": false
   },
   "outputs": [
    {
     "name": "stdout",
     "output_type": "stream",
     "text": [
      "true:  {0: 0, 100: 0, 70: 0, 40: 0, 10: 0, 80: 0, 50: 0, 20: 0, 90: 0, 60: 0, 30: 0}\n",
      "false: {0: 0, 100: 0, 70: 0, 40: 0, 10: 0, 80: 0, 50: 0, 20: 0, 90: 0, 60: 0, 30: 0}\n"
     ]
    }
   ],
   "source": [
    "trueConfBins = {}\n",
    "for b in range(0,110,10):  \n",
    "    trueConfBins[b] = 0   #produces: {0: 0, 100: 0, 70: 0, 40: 0, 10: 0, 80: 0, 50: 0, 20: 0, 90: 0, 60: 0, 30: 0} (dicts are unordered)\n",
    "    \n",
    "falseConfBins = trueConfBins\n",
    "print \"true: \", trueConfBins\n",
    "print \"false:\", falseConfBins"
   ]
  },
  {
   "cell_type": "markdown",
   "metadata": {},
   "source": [
    "These are the empty bins ready to fill up with values"
   ]
  },
  {
   "cell_type": "code",
   "execution_count": 22,
   "metadata": {
    "collapsed": false
   },
   "outputs": [
    {
     "name": "stdout",
     "output_type": "stream",
     "text": [
      "true:  {0: 0, 100: 0, 70: 0, 40: 0, 10: 0, 80: 0, 50: 0, 20: 0, 90: 0, 60: 0, 30: 0}\n",
      "false: {0: 0, 100: 0, 70: 0, 40: 0, 10: 0, 80: 0, 50: 0, 20: 0, 90: 0, 60: 0, 30: 0}\n"
     ]
    }
   ],
   "source": [
    "trueConfBins  = binConfidence(trueP)\n",
    "falseConfBins = binConfidence(falseP)\n",
    "\n",
    "print \"true: \", trueConfBins\n",
    "print \"false:\", falseConfBins\n"
   ]
  },
  {
   "cell_type": "code",
   "execution_count": 23,
   "metadata": {
    "collapsed": false
   },
   "outputs": [
    {
     "data": {
      "text/html": [
       "<div style=\"max-height:1000px;max-width:1500px;overflow:auto;\">\n",
       "<table border=\"1\" class=\"dataframe\">\n",
       "  <thead>\n",
       "    <tr style=\"text-align: right;\">\n",
       "      <th></th>\n",
       "      <th>Confidence</th>\n",
       "      <th>True_Prediction_count</th>\n",
       "    </tr>\n",
       "  </thead>\n",
       "  <tbody>\n",
       "    <tr>\n",
       "      <th>0 </th>\n",
       "      <td>   0</td>\n",
       "      <td> 0</td>\n",
       "    </tr>\n",
       "    <tr>\n",
       "      <th>4 </th>\n",
       "      <td>  10</td>\n",
       "      <td> 0</td>\n",
       "    </tr>\n",
       "    <tr>\n",
       "      <th>7 </th>\n",
       "      <td>  20</td>\n",
       "      <td> 0</td>\n",
       "    </tr>\n",
       "    <tr>\n",
       "      <th>10</th>\n",
       "      <td>  30</td>\n",
       "      <td> 0</td>\n",
       "    </tr>\n",
       "    <tr>\n",
       "      <th>3 </th>\n",
       "      <td>  40</td>\n",
       "      <td> 0</td>\n",
       "    </tr>\n",
       "    <tr>\n",
       "      <th>6 </th>\n",
       "      <td>  50</td>\n",
       "      <td> 0</td>\n",
       "    </tr>\n",
       "    <tr>\n",
       "      <th>9 </th>\n",
       "      <td>  60</td>\n",
       "      <td> 0</td>\n",
       "    </tr>\n",
       "    <tr>\n",
       "      <th>2 </th>\n",
       "      <td>  70</td>\n",
       "      <td> 0</td>\n",
       "    </tr>\n",
       "    <tr>\n",
       "      <th>5 </th>\n",
       "      <td>  80</td>\n",
       "      <td> 0</td>\n",
       "    </tr>\n",
       "    <tr>\n",
       "      <th>8 </th>\n",
       "      <td>  90</td>\n",
       "      <td> 0</td>\n",
       "    </tr>\n",
       "    <tr>\n",
       "      <th>1 </th>\n",
       "      <td> 100</td>\n",
       "      <td> 0</td>\n",
       "    </tr>\n",
       "  </tbody>\n",
       "</table>\n",
       "</div>"
      ],
      "text/plain": [
       "    Confidence  True_Prediction_count\n",
       "0            0                      0\n",
       "4           10                      0\n",
       "7           20                      0\n",
       "10          30                      0\n",
       "3           40                      0\n",
       "6           50                      0\n",
       "9           60                      0\n",
       "2           70                      0\n",
       "5           80                      0\n",
       "8           90                      0\n",
       "1          100                      0"
      ]
     },
     "execution_count": 23,
     "metadata": {},
     "output_type": "execute_result"
    }
   ],
   "source": [
    "trueDF = pd.DataFrame(trueConfBins.items(), columns=['Confidence', 'True_Prediction_count']).sort(columns=\"Confidence\")\n",
    "trueDF"
   ]
  },
  {
   "cell_type": "code",
   "execution_count": 24,
   "metadata": {
    "collapsed": false
   },
   "outputs": [
    {
     "data": {
      "text/html": [
       "<div style=\"max-height:1000px;max-width:1500px;overflow:auto;\">\n",
       "<table border=\"1\" class=\"dataframe\">\n",
       "  <thead>\n",
       "    <tr style=\"text-align: right;\">\n",
       "      <th></th>\n",
       "      <th>Confidence</th>\n",
       "      <th>False_Prediction_count</th>\n",
       "    </tr>\n",
       "  </thead>\n",
       "  <tbody>\n",
       "    <tr>\n",
       "      <th>0 </th>\n",
       "      <td>   0</td>\n",
       "      <td> 0</td>\n",
       "    </tr>\n",
       "    <tr>\n",
       "      <th>4 </th>\n",
       "      <td>  10</td>\n",
       "      <td> 0</td>\n",
       "    </tr>\n",
       "    <tr>\n",
       "      <th>7 </th>\n",
       "      <td>  20</td>\n",
       "      <td> 0</td>\n",
       "    </tr>\n",
       "    <tr>\n",
       "      <th>10</th>\n",
       "      <td>  30</td>\n",
       "      <td> 0</td>\n",
       "    </tr>\n",
       "    <tr>\n",
       "      <th>3 </th>\n",
       "      <td>  40</td>\n",
       "      <td> 0</td>\n",
       "    </tr>\n",
       "    <tr>\n",
       "      <th>6 </th>\n",
       "      <td>  50</td>\n",
       "      <td> 0</td>\n",
       "    </tr>\n",
       "    <tr>\n",
       "      <th>9 </th>\n",
       "      <td>  60</td>\n",
       "      <td> 0</td>\n",
       "    </tr>\n",
       "    <tr>\n",
       "      <th>2 </th>\n",
       "      <td>  70</td>\n",
       "      <td> 0</td>\n",
       "    </tr>\n",
       "    <tr>\n",
       "      <th>5 </th>\n",
       "      <td>  80</td>\n",
       "      <td> 0</td>\n",
       "    </tr>\n",
       "    <tr>\n",
       "      <th>8 </th>\n",
       "      <td>  90</td>\n",
       "      <td> 0</td>\n",
       "    </tr>\n",
       "    <tr>\n",
       "      <th>1 </th>\n",
       "      <td> 100</td>\n",
       "      <td> 0</td>\n",
       "    </tr>\n",
       "  </tbody>\n",
       "</table>\n",
       "</div>"
      ],
      "text/plain": [
       "    Confidence  False_Prediction_count\n",
       "0            0                       0\n",
       "4           10                       0\n",
       "7           20                       0\n",
       "10          30                       0\n",
       "3           40                       0\n",
       "6           50                       0\n",
       "9           60                       0\n",
       "2           70                       0\n",
       "5           80                       0\n",
       "8           90                       0\n",
       "1          100                       0"
      ]
     },
     "execution_count": 24,
     "metadata": {},
     "output_type": "execute_result"
    }
   ],
   "source": [
    "falseDF = pd.DataFrame(falseConfBins.items(), columns=['Confidence', 'False_Prediction_count']).sort(columns=\"Confidence\")\n",
    "falseDF"
   ]
  },
  {
   "cell_type": "code",
   "execution_count": 25,
   "metadata": {
    "collapsed": false
   },
   "outputs": [
    {
     "data": {
      "text/html": [
       "<div style=\"max-height:1000px;max-width:1500px;overflow:auto;\">\n",
       "<table border=\"1\" class=\"dataframe\">\n",
       "  <thead>\n",
       "    <tr style=\"text-align: right;\">\n",
       "      <th></th>\n",
       "      <th>Confidence</th>\n",
       "      <th>True_Prediction_count</th>\n",
       "      <th>False_Prediction_count</th>\n",
       "    </tr>\n",
       "  </thead>\n",
       "  <tbody>\n",
       "    <tr>\n",
       "      <th>0 </th>\n",
       "      <td>   0</td>\n",
       "      <td> 0</td>\n",
       "      <td> 0</td>\n",
       "    </tr>\n",
       "    <tr>\n",
       "      <th>1 </th>\n",
       "      <td>  10</td>\n",
       "      <td> 0</td>\n",
       "      <td> 0</td>\n",
       "    </tr>\n",
       "    <tr>\n",
       "      <th>2 </th>\n",
       "      <td>  20</td>\n",
       "      <td> 0</td>\n",
       "      <td> 0</td>\n",
       "    </tr>\n",
       "    <tr>\n",
       "      <th>3 </th>\n",
       "      <td>  30</td>\n",
       "      <td> 0</td>\n",
       "      <td> 0</td>\n",
       "    </tr>\n",
       "    <tr>\n",
       "      <th>4 </th>\n",
       "      <td>  40</td>\n",
       "      <td> 0</td>\n",
       "      <td> 0</td>\n",
       "    </tr>\n",
       "    <tr>\n",
       "      <th>5 </th>\n",
       "      <td>  50</td>\n",
       "      <td> 0</td>\n",
       "      <td> 0</td>\n",
       "    </tr>\n",
       "    <tr>\n",
       "      <th>6 </th>\n",
       "      <td>  60</td>\n",
       "      <td> 0</td>\n",
       "      <td> 0</td>\n",
       "    </tr>\n",
       "    <tr>\n",
       "      <th>7 </th>\n",
       "      <td>  70</td>\n",
       "      <td> 0</td>\n",
       "      <td> 0</td>\n",
       "    </tr>\n",
       "    <tr>\n",
       "      <th>8 </th>\n",
       "      <td>  80</td>\n",
       "      <td> 0</td>\n",
       "      <td> 0</td>\n",
       "    </tr>\n",
       "    <tr>\n",
       "      <th>9 </th>\n",
       "      <td>  90</td>\n",
       "      <td> 0</td>\n",
       "      <td> 0</td>\n",
       "    </tr>\n",
       "    <tr>\n",
       "      <th>10</th>\n",
       "      <td> 100</td>\n",
       "      <td> 0</td>\n",
       "      <td> 0</td>\n",
       "    </tr>\n",
       "  </tbody>\n",
       "</table>\n",
       "</div>"
      ],
      "text/plain": [
       "    Confidence  True_Prediction_count  False_Prediction_count\n",
       "0            0                      0                       0\n",
       "1           10                      0                       0\n",
       "2           20                      0                       0\n",
       "3           30                      0                       0\n",
       "4           40                      0                       0\n",
       "5           50                      0                       0\n",
       "6           60                      0                       0\n",
       "7           70                      0                       0\n",
       "8           80                      0                       0\n",
       "9           90                      0                       0\n",
       "10         100                      0                       0"
      ]
     },
     "execution_count": 25,
     "metadata": {},
     "output_type": "execute_result"
    }
   ],
   "source": [
    "conf_profile = pd.merge(trueDF, falseDF, on=\"Confidence\")\n",
    "conf_profile\n",
    "#http://pandas.pydata.org/pandas-docs/dev/merging.html#database-style-dataframe-joining-merging\n",
    "#conveniently this resets the indeces too!"
   ]
  },
  {
   "cell_type": "code",
   "execution_count": 26,
   "metadata": {
    "collapsed": false
   },
   "outputs": [
    {
     "data": {
      "text/plain": [
       "<matplotlib.axes.AxesSubplot at 0x44d4150>"
      ]
     },
     "execution_count": 26,
     "metadata": {},
     "output_type": "execute_result"
    },
    {
     "data": {
      "image/png": "[encoded data removed]"
     },
     "metadata": {},
     "output_type": "display_data"
    }
   ],
   "source": [
    "conf_profile.set_index('Confidence').plot(kind='bar', stacked=True)"
   ]
  },
  {
   "cell_type": "markdown",
   "metadata": {},
   "source": [
    "We would expect there to be more wrong below the 50% mark, so that's good. Obviously this person is keen on predicting that unlikely things won't happen!\n",
    "\n",
    "This is a little hard to read in terms of assessing their overall calibration as we cant mentally scale things in our heads so well; lets transform the data into percentages and look at it again."
   ]
  },
  {
   "cell_type": "code",
   "execution_count": 27,
   "metadata": {
    "collapsed": false
   },
   "outputs": [
    {
     "data": {
      "text/html": [
       "<div style=\"max-height:1000px;max-width:1500px;overflow:auto;\">\n",
       "<table border=\"1\" class=\"dataframe\">\n",
       "  <thead>\n",
       "    <tr style=\"text-align: right;\">\n",
       "      <th></th>\n",
       "      <th>Confidence</th>\n",
       "      <th>True_Prediction_count</th>\n",
       "      <th>False_Prediction_count</th>\n",
       "      <th>PredictionCountTotal</th>\n",
       "      <th>truePC</th>\n",
       "      <th>falsePC</th>\n",
       "      <th>check</th>\n",
       "    </tr>\n",
       "  </thead>\n",
       "  <tbody>\n",
       "    <tr>\n",
       "      <th>0 </th>\n",
       "      <td>    0-5</td>\n",
       "      <td> 0</td>\n",
       "      <td> 0</td>\n",
       "      <td> 0</td>\n",
       "      <td> inf</td>\n",
       "      <td> inf</td>\n",
       "      <td> inf</td>\n",
       "    </tr>\n",
       "    <tr>\n",
       "      <th>1 </th>\n",
       "      <td>   5-15</td>\n",
       "      <td> 0</td>\n",
       "      <td> 0</td>\n",
       "      <td> 0</td>\n",
       "      <td> inf</td>\n",
       "      <td> inf</td>\n",
       "      <td> inf</td>\n",
       "    </tr>\n",
       "    <tr>\n",
       "      <th>2 </th>\n",
       "      <td>  15-25</td>\n",
       "      <td> 0</td>\n",
       "      <td> 0</td>\n",
       "      <td> 0</td>\n",
       "      <td> inf</td>\n",
       "      <td> inf</td>\n",
       "      <td> inf</td>\n",
       "    </tr>\n",
       "    <tr>\n",
       "      <th>3 </th>\n",
       "      <td>  25-35</td>\n",
       "      <td> 0</td>\n",
       "      <td> 0</td>\n",
       "      <td> 0</td>\n",
       "      <td> inf</td>\n",
       "      <td> inf</td>\n",
       "      <td> inf</td>\n",
       "    </tr>\n",
       "    <tr>\n",
       "      <th>4 </th>\n",
       "      <td>  35-45</td>\n",
       "      <td> 0</td>\n",
       "      <td> 0</td>\n",
       "      <td> 0</td>\n",
       "      <td> inf</td>\n",
       "      <td> inf</td>\n",
       "      <td> inf</td>\n",
       "    </tr>\n",
       "    <tr>\n",
       "      <th>5 </th>\n",
       "      <td>  45-55</td>\n",
       "      <td> 0</td>\n",
       "      <td> 0</td>\n",
       "      <td> 0</td>\n",
       "      <td> inf</td>\n",
       "      <td> inf</td>\n",
       "      <td> inf</td>\n",
       "    </tr>\n",
       "    <tr>\n",
       "      <th>6 </th>\n",
       "      <td>  55-65</td>\n",
       "      <td> 0</td>\n",
       "      <td> 0</td>\n",
       "      <td> 0</td>\n",
       "      <td> inf</td>\n",
       "      <td> inf</td>\n",
       "      <td> inf</td>\n",
       "    </tr>\n",
       "    <tr>\n",
       "      <th>7 </th>\n",
       "      <td>  65-75</td>\n",
       "      <td> 0</td>\n",
       "      <td> 0</td>\n",
       "      <td> 0</td>\n",
       "      <td> inf</td>\n",
       "      <td> inf</td>\n",
       "      <td> inf</td>\n",
       "    </tr>\n",
       "    <tr>\n",
       "      <th>8 </th>\n",
       "      <td>  75-85</td>\n",
       "      <td> 0</td>\n",
       "      <td> 0</td>\n",
       "      <td> 0</td>\n",
       "      <td> inf</td>\n",
       "      <td> inf</td>\n",
       "      <td> inf</td>\n",
       "    </tr>\n",
       "    <tr>\n",
       "      <th>9 </th>\n",
       "      <td>  85-95</td>\n",
       "      <td> 0</td>\n",
       "      <td> 0</td>\n",
       "      <td> 0</td>\n",
       "      <td> inf</td>\n",
       "      <td> inf</td>\n",
       "      <td> inf</td>\n",
       "    </tr>\n",
       "    <tr>\n",
       "      <th>10</th>\n",
       "      <td> 95-100</td>\n",
       "      <td> 0</td>\n",
       "      <td> 0</td>\n",
       "      <td> 0</td>\n",
       "      <td> inf</td>\n",
       "      <td> inf</td>\n",
       "      <td> inf</td>\n",
       "    </tr>\n",
       "  </tbody>\n",
       "</table>\n",
       "</div>"
      ],
      "text/plain": [
       "   Confidence  True_Prediction_count  False_Prediction_count  \\\n",
       "0         0-5                      0                       0   \n",
       "1        5-15                      0                       0   \n",
       "2       15-25                      0                       0   \n",
       "3       25-35                      0                       0   \n",
       "4       35-45                      0                       0   \n",
       "5       45-55                      0                       0   \n",
       "6       55-65                      0                       0   \n",
       "7       65-75                      0                       0   \n",
       "8       75-85                      0                       0   \n",
       "9       85-95                      0                       0   \n",
       "10     95-100                      0                       0   \n",
       "\n",
       "    PredictionCountTotal  truePC  falsePC  check  \n",
       "0                      0     inf      inf    inf  \n",
       "1                      0     inf      inf    inf  \n",
       "2                      0     inf      inf    inf  \n",
       "3                      0     inf      inf    inf  \n",
       "4                      0     inf      inf    inf  \n",
       "5                      0     inf      inf    inf  \n",
       "6                      0     inf      inf    inf  \n",
       "7                      0     inf      inf    inf  \n",
       "8                      0     inf      inf    inf  \n",
       "9                      0     inf      inf    inf  \n",
       "10                     0     inf      inf    inf  "
      ]
     },
     "execution_count": 27,
     "metadata": {},
     "output_type": "execute_result"
    }
   ],
   "source": [
    "conf_profile[\"PredictionCountTotal\"] = conf_profile[\"True_Prediction_count\"] + conf_profile[\"False_Prediction_count\"]\n",
    "conf_profile[\"truePC\"]  = conf_profile[\"True_Prediction_count\"] / conf_profile[\"PredictionCountTotal\"]\n",
    "conf_profile[\"falsePC\"] = conf_profile[\"False_Prediction_count\"] / conf_profile[\"PredictionCountTotal\"]\n",
    "\n",
    "conf_profile[\"Confidence\"]= conf_profile[\"Confidence\"].map(lambda x: makeLables(x))\n",
    "conf_profile[\"check\"] = conf_profile[\"truePC\"] + conf_profile[\"falsePC\"]\n",
    "conf_profile"
   ]
  },
  {
   "cell_type": "code",
   "execution_count": 28,
   "metadata": {
    "collapsed": false
   },
   "outputs": [
    {
     "data": {
      "text/plain": [
       "<matplotlib.axes.AxesSubplot at 0x46cdf50>"
      ]
     },
     "execution_count": 28,
     "metadata": {},
     "output_type": "execute_result"
    },
    {
     "data": {
      "image/png": "[encoded data removed]"
     },
     "metadata": {},
     "output_type": "display_data"
    }
   ],
   "source": [
    "#conf_profile[\"Confidence\", \"truePC\", \"falsePC\"].set_index('Confidence').plot(kind='bar', stacked=True)\n",
    "conf_profile.loc[:,[\"Confidence\", \"truePC\", \"falsePC\"]].set_index('Confidence').plot(kind='bar', stacked=True)"
   ]
  },
  {
   "cell_type": "code",
   "execution_count": 29,
   "metadata": {
    "collapsed": false
   },
   "outputs": [
    {
     "data": {
      "text/plain": [
       "(0, 10)"
      ]
     },
     "execution_count": 29,
     "metadata": {},
     "output_type": "execute_result"
    },
    {
     "data": {
      "image/png": "[encoded data removed]"
     },
     "metadata": {},
     "output_type": "display_data"
    }
   ],
   "source": [
    "plt.plot([0, 10], [0, 1], 'k-', lw=1)\n",
    "plt.scatter(    [0,1,2,3,4,5,6,7,8,9,10],              #vector of y values\n",
    "                conf_profile.truePC,                   #vector of x values\n",
    "                s=conf_profile.PredictionCountTotal*3) #vector of sizes\n",
    "\n",
    "pylab.ylim([0,1])\n",
    "pylab.xlim([0,10])"
   ]
  },
  {
   "cell_type": "markdown",
   "metadata": {},
   "source": [
    "This is essentially the PB graph, but not folded onto itself to represent only positively worded predictions. \n",
    "\n",
    "The black line represents the perfect calibration line, so this person is pretty well calibrated, but a little underconfident on all levels."
   ]
  },
  {
   "cell_type": "markdown",
   "metadata": {},
   "source": [
    "Lets try to collapse going from a `user id` to a graph into as little code as possible."
   ]
  },
  {
   "cell_type": "code",
   "execution_count": 44,
   "metadata": {
    "collapsed": false
   },
   "outputs": [
    {
     "data": {
      "text/plain": [
       "<matplotlib.text.Text at 0x5c0cad0>"
      ]
     },
     "execution_count": 44,
     "metadata": {},
     "output_type": "execute_result"
    },
    {
     "data": {
      "image/png": "[encoded data removed]"
     },
     "metadata": {},
     "output_type": "display_data"
    },
    {
     "data": {
      "image/png": "[encoded data removed]"
     },
     "metadata": {},
     "output_type": "display_data"
    },
    {
     "data": {
      "image/png": "[encoded data removed]"
     },
     "metadata": {},
     "output_type": "display_data"
    }
   ],
   "source": [
    "query = \"\"\"\n",
    "SELECT r.user_id, \n",
    "       Count(r.user_id) \n",
    "FROM   mysql.responses r \n",
    "       LEFT OUTER JOIN mysql.judgements j \n",
    "                    ON r.prediction_id = j.prediction_id \n",
    "WHERE  j.outcome {0} NULL \n",
    "       AND r.confidence {1} NULL \n",
    "GROUP  BY r.user_id \n",
    "ORDER  BY Count(r.user_id) DESC  \n",
    "\"\"\"\n",
    "not_q = queryAsTable(query.format('IS NOT','IS NOT'), maxrows=50)\n",
    "response_counts=not_q.drop(\"r.user_id\",1)\n",
    "response_counts.plot()\n",
    "plt.xlabel('Ranking of prolificness (most predictions on the left)')\n",
    "plt.ylabel('Number of judged predictions made')\n",
    "plt.title('Profile of number of judged predictions made: \\nwhere judgement.outcome IS NOT NULL and\\nresponse.confidence IS NOT NULL')\n",
    "\n",
    "is_q  = queryAsTable(query.format('IS','IS NOT'), maxrows=50)\n",
    "response_counts=is_q.drop(\"r.user_id\",1)\n",
    "response_counts.plot()\n",
    "plt.xlabel('Ranking of prolificness (most predictions on the left)')\n",
    "plt.ylabel('Number of judged predictions made')\n",
    "plt.title('Profile of number of judged predictions made: \\nwhere judgement.outcome IS NULL and\\nresponse.confidence IS NOT NULL')\n",
    "\n",
    "nullconf_q  = queryAsTable(query.format('IS','IS'), maxrows=50)\n",
    "response_counts=nullconf_q.drop(\"r.user_id\",1)\n",
    "response_counts.plot()\n",
    "plt.xlabel('Ranking of prolificness (most predictions on the left)')\n",
    "plt.ylabel('Number of judged predictions made')\n",
    "plt.title('Profile of number of judged predictions made: \\nwhere judgement.outcome IS NULL and\\nresponse.confidence IS NULL')"
   ]
  },
  {
   "cell_type": "markdown",
   "metadata": {},
   "source": [
    "The graphs above show an interesting (and frustrating to find) outcome, at least the first 50 people have a similar number of judgements pending as they do judged, indicating that people who haveve been using the site for a while tend to do a lot of long term predicting. I might look into this a bit later on.\n",
    "\n",
    "In the third graph, if you allow for only responses that have no confidence and no outcome (I'm presuming these are jsut comments) you can write off another 1500 responses from 500.\n",
    "\n",
    "These factors taken together mean that it probably isn't that many more responses than predictions for most users. It would be worth looking into the distribution of self:other responses at some point."
   ]
  },
  {
   "cell_type": "code",
   "execution_count": 31,
   "metadata": {
    "collapsed": false
   },
   "outputs": [
    {
     "data": {
      "text/html": [
       "<div style=\"max-height:1000px;max-width:1500px;overflow:auto;\">\n",
       "<table border=\"1\" class=\"dataframe\">\n",
       "  <thead>\n",
       "    <tr style=\"text-align: right;\">\n",
       "      <th></th>\n",
       "      <th>count(j.outcome)</th>\n",
       "      <th>j.outcome</th>\n",
       "      <th>r.user_id</th>\n",
       "    </tr>\n",
       "  </thead>\n",
       "  <tbody>\n",
       "    <tr>\n",
       "      <th>0</th>\n",
       "      <td>  0</td>\n",
       "      <td>NaN</td>\n",
       "      <td> 16360</td>\n",
       "    </tr>\n",
       "    <tr>\n",
       "      <th>1</th>\n",
       "      <td> 25</td>\n",
       "      <td>  0</td>\n",
       "      <td> 16360</td>\n",
       "    </tr>\n",
       "    <tr>\n",
       "      <th>2</th>\n",
       "      <td> 17</td>\n",
       "      <td>  1</td>\n",
       "      <td> 16360</td>\n",
       "    </tr>\n",
       "  </tbody>\n",
       "</table>\n",
       "</div>"
      ],
      "text/plain": [
       "   count(j.outcome)  j.outcome  r.user_id\n",
       "0                 0        NaN      16360\n",
       "1                25          0      16360\n",
       "2                17          1      16360"
      ]
     },
     "execution_count": 31,
     "metadata": {},
     "output_type": "execute_result"
    }
   ],
   "source": [
    "fivehundred = queryAsTable(\"\"\"\n",
    "SELECT j.outcome, count(j.outcome),r.user_id\n",
    "FROM   mysql.responses r\n",
    "LEFT OUTER JOIN mysql.judgements j\n",
    "                    ON r.prediction_id = j.prediction_id \n",
    "WHERE r.user_id = '16360'\n",
    "group by j.outcome\n",
    "\"\"\", maxrows=50)\n",
    "fivehundred"
   ]
  },
  {
   "cell_type": "code",
   "execution_count": 45,
   "metadata": {
    "collapsed": false
   },
   "outputs": [
    {
     "name": "stdout",
     "output_type": "stream",
     "text": [
      "1839\n"
     ]
    },
    {
     "data": {
      "text/html": [
       "<div style=\"max-height:1000px;max-width:1500px;overflow:auto;\">\n",
       "<table border=\"1\" class=\"dataframe\">\n",
       "  <thead>\n",
       "    <tr style=\"text-align: right;\">\n",
       "      <th></th>\n",
       "      <th>Confidence</th>\n",
       "      <th>True_Prediction_count</th>\n",
       "      <th>False_Prediction_count</th>\n",
       "      <th>PredictionCountTotal</th>\n",
       "      <th>truePC</th>\n",
       "      <th>falsePC</th>\n",
       "      <th>ConfidenceIntervals</th>\n",
       "      <th>check</th>\n",
       "    </tr>\n",
       "  </thead>\n",
       "  <tbody>\n",
       "    <tr>\n",
       "      <th>0 </th>\n",
       "      <td>   0</td>\n",
       "      <td>  17</td>\n",
       "      <td> 201</td>\n",
       "      <td> 218</td>\n",
       "      <td> 0.077982</td>\n",
       "      <td> 0.922018</td>\n",
       "      <td>    0-5</td>\n",
       "      <td> 1</td>\n",
       "    </tr>\n",
       "    <tr>\n",
       "      <th>1 </th>\n",
       "      <td>  10</td>\n",
       "      <td>  24</td>\n",
       "      <td> 193</td>\n",
       "      <td> 217</td>\n",
       "      <td> 0.110599</td>\n",
       "      <td> 0.889401</td>\n",
       "      <td>   5-15</td>\n",
       "      <td> 1</td>\n",
       "    </tr>\n",
       "    <tr>\n",
       "      <th>2 </th>\n",
       "      <td>  20</td>\n",
       "      <td>  26</td>\n",
       "      <td> 129</td>\n",
       "      <td> 155</td>\n",
       "      <td> 0.167742</td>\n",
       "      <td> 0.832258</td>\n",
       "      <td>  15-25</td>\n",
       "      <td> 1</td>\n",
       "    </tr>\n",
       "    <tr>\n",
       "      <th>3 </th>\n",
       "      <td>  30</td>\n",
       "      <td>  39</td>\n",
       "      <td> 136</td>\n",
       "      <td> 175</td>\n",
       "      <td> 0.222857</td>\n",
       "      <td> 0.777143</td>\n",
       "      <td>  25-35</td>\n",
       "      <td> 1</td>\n",
       "    </tr>\n",
       "    <tr>\n",
       "      <th>4 </th>\n",
       "      <td>  40</td>\n",
       "      <td>  53</td>\n",
       "      <td> 147</td>\n",
       "      <td> 200</td>\n",
       "      <td> 0.265000</td>\n",
       "      <td> 0.735000</td>\n",
       "      <td>  35-45</td>\n",
       "      <td> 1</td>\n",
       "    </tr>\n",
       "    <tr>\n",
       "      <th>5 </th>\n",
       "      <td>  50</td>\n",
       "      <td>  87</td>\n",
       "      <td> 137</td>\n",
       "      <td> 224</td>\n",
       "      <td> 0.388393</td>\n",
       "      <td> 0.611607</td>\n",
       "      <td>  45-55</td>\n",
       "      <td> 1</td>\n",
       "    </tr>\n",
       "    <tr>\n",
       "      <th>6 </th>\n",
       "      <td>  60</td>\n",
       "      <td>  85</td>\n",
       "      <td>  82</td>\n",
       "      <td> 167</td>\n",
       "      <td> 0.508982</td>\n",
       "      <td> 0.491018</td>\n",
       "      <td>  55-65</td>\n",
       "      <td> 1</td>\n",
       "    </tr>\n",
       "    <tr>\n",
       "      <th>7 </th>\n",
       "      <td>  70</td>\n",
       "      <td>  99</td>\n",
       "      <td>  67</td>\n",
       "      <td> 166</td>\n",
       "      <td> 0.596386</td>\n",
       "      <td> 0.403614</td>\n",
       "      <td>  65-75</td>\n",
       "      <td> 1</td>\n",
       "    </tr>\n",
       "    <tr>\n",
       "      <th>8 </th>\n",
       "      <td>  80</td>\n",
       "      <td> 112</td>\n",
       "      <td>  44</td>\n",
       "      <td> 156</td>\n",
       "      <td> 0.717949</td>\n",
       "      <td> 0.282051</td>\n",
       "      <td>  75-85</td>\n",
       "      <td> 1</td>\n",
       "    </tr>\n",
       "    <tr>\n",
       "      <th>9 </th>\n",
       "      <td>  90</td>\n",
       "      <td>  53</td>\n",
       "      <td>  17</td>\n",
       "      <td>  70</td>\n",
       "      <td> 0.757143</td>\n",
       "      <td> 0.242857</td>\n",
       "      <td>  85-95</td>\n",
       "      <td> 1</td>\n",
       "    </tr>\n",
       "    <tr>\n",
       "      <th>10</th>\n",
       "      <td> 100</td>\n",
       "      <td>  84</td>\n",
       "      <td>   7</td>\n",
       "      <td>  91</td>\n",
       "      <td> 0.923077</td>\n",
       "      <td> 0.076923</td>\n",
       "      <td> 95-100</td>\n",
       "      <td> 1</td>\n",
       "    </tr>\n",
       "  </tbody>\n",
       "</table>\n",
       "</div>"
      ],
      "text/plain": [
       "    Confidence  True_Prediction_count  False_Prediction_count  \\\n",
       "0            0                     17                     201   \n",
       "1           10                     24                     193   \n",
       "2           20                     26                     129   \n",
       "3           30                     39                     136   \n",
       "4           40                     53                     147   \n",
       "5           50                     87                     137   \n",
       "6           60                     85                      82   \n",
       "7           70                     99                      67   \n",
       "8           80                    112                      44   \n",
       "9           90                     53                      17   \n",
       "10         100                     84                       7   \n",
       "\n",
       "    PredictionCountTotal    truePC   falsePC ConfidenceIntervals  check  \n",
       "0                    218  0.077982  0.922018                 0-5      1  \n",
       "1                    217  0.110599  0.889401                5-15      1  \n",
       "2                    155  0.167742  0.832258               15-25      1  \n",
       "3                    175  0.222857  0.777143               25-35      1  \n",
       "4                    200  0.265000  0.735000               35-45      1  \n",
       "5                    224  0.388393  0.611607               45-55      1  \n",
       "6                    167  0.508982  0.491018               55-65      1  \n",
       "7                    166  0.596386  0.403614               65-75      1  \n",
       "8                    156  0.717949  0.282051               75-85      1  \n",
       "9                     70  0.757143  0.242857               85-95      1  \n",
       "10                    91  0.923077  0.076923              95-100      1  "
      ]
     },
     "execution_count": 45,
     "metadata": {},
     "output_type": "execute_result"
    },
    {
     "data": {
      "image/png": "[encoded data removed]"
     },
     "metadata": {},
     "output_type": "display_data"
    }
   ],
   "source": [
    "this_user = 500\n",
    "\n",
    "columns = [ 'j.outcome',                                                            #from judgements\n",
    "            #'p.withdrawn',                                                          #from predictions\n",
    "            'r.confidence', 'r.created_at', 'r.id', 'r.prediction_id', 'r.user_id'] #from responses\n",
    "columns = \", \".join(columns) #make the array into a string\n",
    "\n",
    "\n",
    "\n",
    "query = \"\"\"\n",
    "SELECT myp.confidence        AS conf,\n",
    "       Count(myp.confidence) AS cnt\n",
    "FROM   (SELECT {0} \n",
    "        FROM   mysql.responses r \n",
    "               LEFT OUTER JOIN mysql.judgements j \n",
    "                            ON r.prediction_id = j.prediction_id \n",
    "        WHERE  j.outcome IS NOT NULL AND\n",
    "               r.confidence IS NOT NULL AND\n",
    "               r.user_id = '{1}' AND\n",
    "               j.outcome = '{2}'\n",
    ") AS myp \n",
    "GROUP BY myp.confidence\n",
    "ORDER BY myp.confidence\n",
    "\"\"\"\n",
    " \n",
    "               #LEFT OUTER JOIN mysql.predictions p   #we'll check if it's been withdrawn later\n",
    "               #             ON r.prediction_id = p.id  \n",
    "\n",
    "\n",
    "\n",
    "#Q is this really a good way to do this? Can sql do this for me better?\n",
    "trueP  = queryAsTable(query.format(columns, this_user, 1), maxrows=0)\n",
    "falseP = queryAsTable(query.format(columns, this_user, 0), maxrows=0)\n",
    "\n",
    "trueConfBins  = binConfidence(trueP)\n",
    "falseConfBins = binConfidence(falseP)\n",
    "\n",
    "trueDF = pd.DataFrame(trueConfBins.items(), columns=['Confidence', 'True_Prediction_count']).sort(columns=\"Confidence\")\n",
    "falseDF = pd.DataFrame(falseConfBins.items(), columns=['Confidence', 'False_Prediction_count']).sort(columns=\"Confidence\")\n",
    "\n",
    "#merge the true anf false data frames on the confidence bins\n",
    "conf_profile = pd.merge(trueDF, falseDF, on=\"Confidence\")\n",
    "#make a new column that gives the total number of predictions in that bracket\n",
    "conf_profile[\"PredictionCountTotal\"] = conf_profile[\"True_Prediction_count\"] + conf_profile[\"False_Prediction_count\"]\n",
    "#make a new column that gives the % of predictions that came true at in that bracket\n",
    "conf_profile[\"truePC\"]  = conf_profile[\"True_Prediction_count\"] / conf_profile[\"PredictionCountTotal\"]\n",
    "conf_profile[\"falsePC\"] = conf_profile[\"False_Prediction_count\"] / conf_profile[\"PredictionCountTotal\"] # not needed, but used in sanity check\n",
    "\n",
    "#make labels for the x axis\n",
    "conf_profile[\"ConfidenceIntervals\"] = conf_profile[\"Confidence\"].map(lambda x: makeLables(x))\n",
    "#sanity check\n",
    "conf_profile[\"check\"] = conf_profile[\"truePC\"] + conf_profile[\"falsePC\"]\n",
    "\n",
    "#Plot the scatter, x is confidences\n",
    "plt.scatter( conf_profile[\"Confidence\"].map(lambda x: x/10).tolist(),   #vector of y values (currently [0,1,2,3,4,5,6,7,8,9,10])\n",
    "             conf_profile.truePC,                                       #vector of x values\n",
    "             s=conf_profile.PredictionCountTotal*3)                     #vector of sizes\n",
    "#draw a diagonal line across the graph\n",
    "plt.plot([0, 10], [0, 1], 'k-', lw=1)\n",
    "#set the limits of the graph\n",
    "pylab.ylim([0,1])\n",
    "pylab.xlim([0,10])\n",
    "#add a background grid\n",
    "plt.grid()\n",
    "#make the ticks and labels\n",
    "plt.xticks([x    for x in range(11)], [x           for x in conf_profile[\"ConfidenceIntervals\"].tolist()]) #locations, labels\n",
    "plt.yticks([x/10 for x in range(11)], [str(x)+ \"%\" for x in conf_profile[\"Confidence\"].tolist()])\n",
    "plt.xlabel('Confidence Intervals')\n",
    "plt.ylabel('% of responses correct')\n",
    "plt.title('Calibration Profile for user {}'.format(this_user))\n",
    "\n",
    "print sum(conf_profile[\"PredictionCountTotal\"].tolist())\n",
    "\n",
    "conf_profile #show the df"
   ]
  },
  {
   "cell_type": "code",
   "execution_count": 33,
   "metadata": {
    "collapsed": false
   },
   "outputs": [
    {
     "data": {
      "text/html": [
       "<div style=\"max-height:1000px;max-width:1500px;overflow:auto;\">\n",
       "<table border=\"1\" class=\"dataframe\">\n",
       "  <thead>\n",
       "    <tr style=\"text-align: right;\">\n",
       "      <th></th>\n",
       "      <th>Confidence</th>\n",
       "      <th>True_Prediction_count</th>\n",
       "      <th>False_Prediction_count</th>\n",
       "      <th>PredictionCountTotal</th>\n",
       "      <th>truePC</th>\n",
       "      <th>falsePC</th>\n",
       "      <th>ConfidenceIntervals</th>\n",
       "      <th>check</th>\n",
       "      <th>sqError</th>\n",
       "      <th>signedSqError</th>\n",
       "    </tr>\n",
       "  </thead>\n",
       "  <tbody>\n",
       "    <tr>\n",
       "      <th>0 </th>\n",
       "      <td>   0</td>\n",
       "      <td>  17</td>\n",
       "      <td> 201</td>\n",
       "      <td> 218</td>\n",
       "      <td> 0.077982</td>\n",
       "      <td> 0.922018</td>\n",
       "      <td>    0-5</td>\n",
       "      <td> 1</td>\n",
       "      <td> 0.006081</td>\n",
       "      <td> 0.006081</td>\n",
       "    </tr>\n",
       "    <tr>\n",
       "      <th>1 </th>\n",
       "      <td>  10</td>\n",
       "      <td>  24</td>\n",
       "      <td> 193</td>\n",
       "      <td> 217</td>\n",
       "      <td> 0.110599</td>\n",
       "      <td> 0.889401</td>\n",
       "      <td>   5-15</td>\n",
       "      <td> 1</td>\n",
       "      <td> 0.000112</td>\n",
       "      <td> 0.000112</td>\n",
       "    </tr>\n",
       "    <tr>\n",
       "      <th>2 </th>\n",
       "      <td>  20</td>\n",
       "      <td>  26</td>\n",
       "      <td> 129</td>\n",
       "      <td> 155</td>\n",
       "      <td> 0.167742</td>\n",
       "      <td> 0.832258</td>\n",
       "      <td>  15-25</td>\n",
       "      <td> 1</td>\n",
       "      <td> 0.001041</td>\n",
       "      <td>-0.001041</td>\n",
       "    </tr>\n",
       "    <tr>\n",
       "      <th>3 </th>\n",
       "      <td>  30</td>\n",
       "      <td>  39</td>\n",
       "      <td> 136</td>\n",
       "      <td> 175</td>\n",
       "      <td> 0.222857</td>\n",
       "      <td> 0.777143</td>\n",
       "      <td>  25-35</td>\n",
       "      <td> 1</td>\n",
       "      <td> 0.005951</td>\n",
       "      <td>-0.005951</td>\n",
       "    </tr>\n",
       "    <tr>\n",
       "      <th>4 </th>\n",
       "      <td>  40</td>\n",
       "      <td>  53</td>\n",
       "      <td> 147</td>\n",
       "      <td> 200</td>\n",
       "      <td> 0.265000</td>\n",
       "      <td> 0.735000</td>\n",
       "      <td>  35-45</td>\n",
       "      <td> 1</td>\n",
       "      <td> 0.018225</td>\n",
       "      <td>-0.018225</td>\n",
       "    </tr>\n",
       "    <tr>\n",
       "      <th>5 </th>\n",
       "      <td>  50</td>\n",
       "      <td>  87</td>\n",
       "      <td> 137</td>\n",
       "      <td> 224</td>\n",
       "      <td> 0.388393</td>\n",
       "      <td> 0.611607</td>\n",
       "      <td>  45-55</td>\n",
       "      <td> 1</td>\n",
       "      <td> 0.012456</td>\n",
       "      <td>-0.012456</td>\n",
       "    </tr>\n",
       "    <tr>\n",
       "      <th>6 </th>\n",
       "      <td>  60</td>\n",
       "      <td>  85</td>\n",
       "      <td>  82</td>\n",
       "      <td> 167</td>\n",
       "      <td> 0.508982</td>\n",
       "      <td> 0.491018</td>\n",
       "      <td>  55-65</td>\n",
       "      <td> 1</td>\n",
       "      <td> 0.008284</td>\n",
       "      <td>-0.008284</td>\n",
       "    </tr>\n",
       "    <tr>\n",
       "      <th>7 </th>\n",
       "      <td>  70</td>\n",
       "      <td>  99</td>\n",
       "      <td>  67</td>\n",
       "      <td> 166</td>\n",
       "      <td> 0.596386</td>\n",
       "      <td> 0.403614</td>\n",
       "      <td>  65-75</td>\n",
       "      <td> 1</td>\n",
       "      <td> 0.010736</td>\n",
       "      <td>-0.010736</td>\n",
       "    </tr>\n",
       "    <tr>\n",
       "      <th>8 </th>\n",
       "      <td>  80</td>\n",
       "      <td> 112</td>\n",
       "      <td>  44</td>\n",
       "      <td> 156</td>\n",
       "      <td> 0.717949</td>\n",
       "      <td> 0.282051</td>\n",
       "      <td>  75-85</td>\n",
       "      <td> 1</td>\n",
       "      <td> 0.006732</td>\n",
       "      <td>-0.006732</td>\n",
       "    </tr>\n",
       "    <tr>\n",
       "      <th>9 </th>\n",
       "      <td>  90</td>\n",
       "      <td>  53</td>\n",
       "      <td>  17</td>\n",
       "      <td>  70</td>\n",
       "      <td> 0.757143</td>\n",
       "      <td> 0.242857</td>\n",
       "      <td>  85-95</td>\n",
       "      <td> 1</td>\n",
       "      <td> 0.020408</td>\n",
       "      <td>-0.020408</td>\n",
       "    </tr>\n",
       "    <tr>\n",
       "      <th>10</th>\n",
       "      <td> 100</td>\n",
       "      <td>  84</td>\n",
       "      <td>   7</td>\n",
       "      <td>  91</td>\n",
       "      <td> 0.923077</td>\n",
       "      <td> 0.076923</td>\n",
       "      <td> 95-100</td>\n",
       "      <td> 1</td>\n",
       "      <td> 0.005917</td>\n",
       "      <td>-0.005917</td>\n",
       "    </tr>\n",
       "  </tbody>\n",
       "</table>\n",
       "</div>"
      ],
      "text/plain": [
       "    Confidence  True_Prediction_count  False_Prediction_count  \\\n",
       "0            0                     17                     201   \n",
       "1           10                     24                     193   \n",
       "2           20                     26                     129   \n",
       "3           30                     39                     136   \n",
       "4           40                     53                     147   \n",
       "5           50                     87                     137   \n",
       "6           60                     85                      82   \n",
       "7           70                     99                      67   \n",
       "8           80                    112                      44   \n",
       "9           90                     53                      17   \n",
       "10         100                     84                       7   \n",
       "\n",
       "    PredictionCountTotal    truePC   falsePC ConfidenceIntervals  check  \\\n",
       "0                    218  0.077982  0.922018                 0-5      1   \n",
       "1                    217  0.110599  0.889401                5-15      1   \n",
       "2                    155  0.167742  0.832258               15-25      1   \n",
       "3                    175  0.222857  0.777143               25-35      1   \n",
       "4                    200  0.265000  0.735000               35-45      1   \n",
       "5                    224  0.388393  0.611607               45-55      1   \n",
       "6                    167  0.508982  0.491018               55-65      1   \n",
       "7                    166  0.596386  0.403614               65-75      1   \n",
       "8                    156  0.717949  0.282051               75-85      1   \n",
       "9                     70  0.757143  0.242857               85-95      1   \n",
       "10                    91  0.923077  0.076923              95-100      1   \n",
       "\n",
       "     sqError  signedSqError  \n",
       "0   0.006081       0.006081  \n",
       "1   0.000112       0.000112  \n",
       "2   0.001041      -0.001041  \n",
       "3   0.005951      -0.005951  \n",
       "4   0.018225      -0.018225  \n",
       "5   0.012456      -0.012456  \n",
       "6   0.008284      -0.008284  \n",
       "7   0.010736      -0.010736  \n",
       "8   0.006732      -0.006732  \n",
       "9   0.020408      -0.020408  \n",
       "10  0.005917      -0.005917  "
      ]
     },
     "execution_count": 33,
     "metadata": {},
     "output_type": "execute_result"
    }
   ],
   "source": [
    "pair = zip(conf_profile[\"Confidence\"],conf_profile[\"truePC\"])\n",
    "conf_profile[\"sqError\"]       = [      sqError(x[0]/100,x[1]) for x in pair]\n",
    "conf_profile[\"signedSqError\"] = [signedSqError(x[0]/100,x[1]) for x in pair]\n",
    "conf_profile\n"
   ]
  },
  {
   "cell_type": "code",
   "execution_count": 34,
   "metadata": {
    "collapsed": false
   },
   "outputs": [
    {
     "data": {
      "text/plain": [
       "0.09594419745459852"
      ]
     },
     "execution_count": 34,
     "metadata": {},
     "output_type": "execute_result"
    }
   ],
   "source": [
    "#sum of squared errors is an attempt to capture overall calibration\n",
    "sum(conf_profile[\"sqError\"].tolist())"
   ]
  },
  {
   "cell_type": "code",
   "execution_count": 35,
   "metadata": {
    "collapsed": false
   },
   "outputs": [
    {
     "data": {
      "text/plain": [
       "-0.083557240628538823"
      ]
     },
     "execution_count": 35,
     "metadata": {},
     "output_type": "execute_result"
    }
   ],
   "source": [
    "#sum of signed squared errors is an attempt to capture the direction of calibration. If the result comes up negative then the predictor is generally underconfident.\n",
    "sum(conf_profile[\"signedSqError\"].tolist())"
   ]
  },
  {
   "cell_type": "code",
   "execution_count": 48,
   "metadata": {
    "collapsed": false
   },
   "outputs": [
    {
     "data": {
      "text/plain": [
       "<matplotlib.text.Text at 0x6214610>"
      ]
     },
     "execution_count": 48,
     "metadata": {},
     "output_type": "execute_result"
    },
    {
     "data": {
      "image/png": "[encoded data removed]"
     },
     "metadata": {},
     "output_type": "display_data"
    }
   ],
   "source": [
    "plt.plot( conf_profile[\"Confidence\"].map(lambda x: x/10).tolist(),   #vector of y values (currently [0,1,2,3,4,5,6,7,8,9,10])\n",
    "          conf_profile[\"PredictionCountTotal\"])                      #vector of x values\n",
    "#add a background grid\n",
    "plt.grid()\n",
    "#make the ticks and labels\n",
    "plt.xticks([x    for x in range(11)], [x           for x in conf_profile[\"ConfidenceIntervals\"].tolist()]) #locations, labels\n",
    "plt.xlabel('Confidence Intervals')\n",
    "plt.ylabel('number of responses')\n",
    "plt.title('Response frequency Profile for user {}'.format(this_user))            "
   ]
  },
  {
   "cell_type": "code",
   "execution_count": 37,
   "metadata": {
    "collapsed": false
   },
   "outputs": [],
   "source": [
    "rtn = {}\n",
    "rtn[\"conf_profile\"] = conf_profile"
   ]
  },
  {
   "cell_type": "code",
   "execution_count": 38,
   "metadata": {
    "collapsed": false
   },
   "outputs": [
    {
     "data": {
      "image/png": "[encoded data removed]"
     },
     "metadata": {},
     "output_type": "display_data"
    }
   ],
   "source": [
    "def quantifyUser(this_user = 500):\n",
    "\n",
    "    columns = [ 'j.outcome',                                                            #from judgements\n",
    "                #'p.withdrawn',                                                          #from predictions\n",
    "                'r.confidence', 'r.created_at', 'r.id', 'r.prediction_id', 'r.user_id'] #from responses\n",
    "    columns = \", \".join(columns) #make the array into a string\n",
    "\n",
    "    query = \"\"\"\n",
    "    SELECT myp.confidence        AS conf,\n",
    "       Count(myp.confidence) AS cnt\n",
    "FROM   (SELECT {0} \n",
    "        FROM   mysql.responses r \n",
    "               LEFT OUTER JOIN mysql.judgements j \n",
    "                            ON r.prediction_id = j.prediction_id \n",
    "        WHERE  j.outcome IS NOT NULL AND\n",
    "               r.confidence IS NOT NULL AND\n",
    "               r.user_id = '{1}' AND\n",
    "               j.outcome = '{2}'\n",
    ") AS myp \n",
    "GROUP BY myp.confidence\n",
    "ORDER BY myp.confidence\n",
    "    \"\"\"\n",
    "\n",
    "    #Q is this really a good way to do this? Can sql do this for me better?\n",
    "    trueP  = queryAsTable(query.format(columns, this_user, 1), maxrows=0, how=2)\n",
    "    falseP = queryAsTable(query.format(columns, this_user, 0), maxrows=0, how=2)\n",
    "\n",
    "    trueConfBins  = binConfidence(trueP)\n",
    "    falseConfBins = binConfidence(falseP)\n",
    "\n",
    "    trueDF = pd.DataFrame(trueConfBins.items(), columns=['Confidence', 'True_Prediction_count']).sort(columns=\"Confidence\")\n",
    "    falseDF = pd.DataFrame(falseConfBins.items(), columns=['Confidence', 'False_Prediction_count']).sort(columns=\"Confidence\")\n",
    "\n",
    "    #merge the true anf false data frames on the confidence bins\n",
    "    conf_profile = pd.merge(trueDF, falseDF, on=\"Confidence\")\n",
    "    #make a new column that gives the total number of predictions in that bracket\n",
    "    conf_profile[\"PredictionCountTotal\"] = conf_profile[\"True_Prediction_count\"] + conf_profile[\"False_Prediction_count\"]\n",
    "    #make a new column that gives the % of predictions that came true at in that bracket\n",
    "    conf_profile[\"truePC\"]  = conf_profile[\"True_Prediction_count\"] / conf_profile[\"PredictionCountTotal\"]\n",
    "    conf_profile[\"falsePC\"] = conf_profile[\"False_Prediction_count\"] / conf_profile[\"PredictionCountTotal\"] # not needed, but used in sanity check\n",
    "\n",
    "    #make labels for the x axis\n",
    "    conf_profile[\"ConfidenceIntervals\"] = conf_profile[\"Confidence\"].map(lambda x: makeLables(x))\n",
    "    #sanity check\n",
    "    conf_profile[\"check\"] = conf_profile[\"truePC\"] + conf_profile[\"falsePC\"]\n",
    "\n",
    "    def sqError(target, actual):\n",
    "        return (target-actual) ** 2\n",
    "\n",
    "    def signedSqError(target, actual):\n",
    "        dif = target-actual\n",
    "        sign = 1 if dif<0 else -1\n",
    "        return sqError(target, actual) * sign\n",
    "\n",
    "    pair = zip(conf_profile[\"Confidence\"],conf_profile[\"truePC\"])\n",
    "    conf_profile[\"sqError\"]       = [      sqError(x[0]/100,x[1]) for x in pair]\n",
    "    conf_profile[\"signedSqError\"] = [signedSqError(x[0]/100,x[1]) for x in pair]\n",
    "    conf_profile\n",
    "\n",
    "    \n",
    "\n",
    "    calibrationPlot = plt.figure(1)\n",
    "    plt.subplot(211)\n",
    "    \n",
    "    #calibrationPlot = Figure()#(figsize=None, dpi=None, facecolor=None, edgecolor=None, linewidth=0.0, frameon=None, subplotpars=None, tight_layout=None)\n",
    "    #Plot the scatter, x is confidences\n",
    "    plt.scatter( conf_profile[\"Confidence\"].map(lambda x: x/10).tolist(),   #vector of y values (currently [0,1,2,3,4,5,6,7,8,9,10])\n",
    "                      conf_profile.truePC,                                       #vector of x values\n",
    "                      s=conf_profile.PredictionCountTotal*3)                     #vector of sizes\n",
    "    #draw a diagonal line across the graph\n",
    "    plt.plot([0, 10], [0, 1], 'k-', lw=1)\n",
    "    #set the limits of the graph\n",
    "    pylab.ylim([0,1])\n",
    "    pylab.xlim([0,10])\n",
    "    #add a background grid\n",
    "    plt.grid()\n",
    "    #make the ticks and labels\n",
    "    plt.xticks([x    for x in range(11)], [x           for x in conf_profile[\"ConfidenceIntervals\"].tolist()]) #locations, labels\n",
    "    plt.yticks([x/10 for x in range(11)], [str(x)+ \"%\" for x in conf_profile[\"Confidence\"].tolist()])\n",
    "\n",
    "    plt.subplot(212)\n",
    "    \n",
    "    plt.plot( conf_profile[\"Confidence\"].map(lambda x: x/10).tolist(),   #vector of y values (currently [0,1,2,3,4,5,6,7,8,9,10])\n",
    "              conf_profile[\"PredictionCountTotal\"])                      #vector of x values\n",
    "\n",
    "    #sum of squared errors is an attempt to capture overall calibration\n",
    "    sqe=sum(conf_profile[\"sqError\"].tolist())\n",
    "    #sum of signed squared errors is an attempt to capture the direction of calibration. If the result comes up negative then the predictor is generally underconfident.\n",
    "    ssqe=sum(conf_profile[\"signedSqError\"].tolist())\n",
    "\n",
    "\n",
    "    rtn = {}\n",
    "    rtn[\"conf_profileDF\"] = conf_profile\n",
    "    rtn[\"calibrationPlot\"]=calibrationPlot\n",
    "    rtn[\"summedSquaredError\"]=sqe\n",
    "    rtn[\"signedSummedSquaredError\"]=ssqe\n",
    "    rtn[\"user\"]=this_user\n",
    "    rtn[\"totalPredictions\"]=sum(conf_profile[\"PredictionCountTotal\"].tolist())\n",
    "    return rtn\n",
    "\n",
    "u = quantifyUser()"
   ]
  },
  {
   "cell_type": "code",
   "execution_count": 39,
   "metadata": {
    "collapsed": false
   },
   "outputs": [
    {
     "data": {
      "text/plain": [
       "1839"
      ]
     },
     "execution_count": 39,
     "metadata": {},
     "output_type": "execute_result"
    }
   ],
   "source": [
    "u[\"conf_profileDF\"]\n",
    "u[\"calibrationPlot\"]\n",
    "u[\"summedSquaredError\"]\n",
    "u[\"signedSummedSquaredError\"]\n",
    "u[\"user\"]\n",
    "u[\"totalPredictions\"]"
   ]
  },
  {
   "cell_type": "code",
   "execution_count": 39,
   "metadata": {
    "collapsed": false
   },
   "outputs": [],
   "source": []
  },
  {
   "cell_type": "code",
   "execution_count": 39,
   "metadata": {
    "collapsed": false
   },
   "outputs": [],
   "source": []
  }
 ],
 "metadata": {
  "kernelspec": {
   "display_name": "Python 2",
   "language": "python",
   "name": "python2"
  },
  "language_info": {
   "codemirror_mode": {
    "name": "ipython",
    "version": 2
   },
   "file_extension": ".py",
   "mimetype": "text/x-python",
   "name": "python",
   "nbconvert_exporter": "python",
   "pygments_lexer": "ipython2",
   "version": "2.7.9"
  }
 },
 "nbformat": 4,
 "nbformat_minor": 0
}
