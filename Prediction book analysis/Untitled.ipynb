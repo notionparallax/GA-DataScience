{
 "cells": [
  {
   "cell_type": "code",
   "execution_count": 2,
   "metadata": {
    "collapsed": false
   },
   "outputs": [
    {
     "data": {
      "text/html": [
       "<div>\n",
       "<table border=\"1\" class=\"dataframe\">\n",
       "  <thead>\n",
       "    <tr style=\"text-align: right;\">\n",
       "      <th></th>\n",
       "      <th>tables.table_name</th>\n",
       "      <th>tables.table_rows</th>\n",
       "    </tr>\n",
       "  </thead>\n",
       "  <tbody>\n",
       "    <tr>\n",
       "      <th>0</th>\n",
       "      <td>help_relation</td>\n",
       "      <td>1215</td>\n",
       "    </tr>\n",
       "    <tr>\n",
       "      <th>1</th>\n",
       "      <td>help_keyword</td>\n",
       "      <td>608</td>\n",
       "    </tr>\n",
       "    <tr>\n",
       "      <th>2</th>\n",
       "      <td>help_topic</td>\n",
       "      <td>583</td>\n",
       "    </tr>\n",
       "    <tr>\n",
       "      <th>3</th>\n",
       "      <td>help_category</td>\n",
       "      <td>40</td>\n",
       "    </tr>\n",
       "    <tr>\n",
       "      <th>4</th>\n",
       "      <td>user</td>\n",
       "      <td>5</td>\n",
       "    </tr>\n",
       "    <tr>\n",
       "      <th>5</th>\n",
       "      <td>plugin</td>\n",
       "      <td>4</td>\n",
       "    </tr>\n",
       "    <tr>\n",
       "      <th>6</th>\n",
       "      <td>proxies_priv</td>\n",
       "      <td>2</td>\n",
       "    </tr>\n",
       "    <tr>\n",
       "      <th>7</th>\n",
       "      <td>general_log</td>\n",
       "      <td>2</td>\n",
       "    </tr>\n",
       "    <tr>\n",
       "      <th>8</th>\n",
       "      <td>slow_log</td>\n",
       "      <td>2</td>\n",
       "    </tr>\n",
       "    <tr>\n",
       "      <th>9</th>\n",
       "      <td>slave_worker_info</td>\n",
       "      <td>0</td>\n",
       "    </tr>\n",
       "  </tbody>\n",
       "</table>\n",
       "</div>"
      ],
      "text/plain": [
       "   tables.table_name  tables.table_rows\n",
       "0      help_relation               1215\n",
       "1       help_keyword                608\n",
       "2         help_topic                583\n",
       "3      help_category                 40\n",
       "4               user                  5\n",
       "5             plugin                  4\n",
       "6       proxies_priv                  2\n",
       "7        general_log                  2\n",
       "8           slow_log                  2\n",
       "9  slave_worker_info                  0"
      ]
     },
     "execution_count": 2,
     "metadata": {},
     "output_type": "execute_result"
    }
   ],
   "source": [
    "import MySQLdb\n",
    "import pandas as pd\n",
    "\n",
    "def queryAsTable(query, maxrows=5, how=2):\n",
    "    \"\"\"This queries a db and returns the response as a pandas dataframe\"\"\"\n",
    "    # Open database connection\n",
    "    db = MySQLdb.connect(user   = 'root', \n",
    "                         passwd = 'password',\n",
    "                         db     = 'mysql', \n",
    "                         host   = 'localhost')\n",
    "    db.query(query)\n",
    "    result = db.store_result()\n",
    "    rdict = list(result.fetch_row(maxrows=maxrows, how=how)) #max=0 means all, how=0 means tuple, how=1-dict, how=2 dict with fully qualified names\n",
    "    df = pd.DataFrame(rdict)\n",
    "    # disconnect from server\n",
    "    db.close()\n",
    "    return df\n",
    "\n",
    "queryAsTable(\"\"\"\n",
    "SELECT table_name, \n",
    "       table_rows \n",
    "FROM   information_schema.tables \n",
    "WHERE  table_type = 'BASE TABLE' \n",
    "       AND table_schema = 'mysql' \n",
    "ORDER  BY table_rows DESC\n",
    "\"\"\", maxrows=10)"
   ]
  },
  {
   "cell_type": "code",
   "execution_count": null,
   "metadata": {
    "collapsed": true
   },
   "outputs": [],
   "source": []
  }
 ],
 "metadata": {
  "kernelspec": {
   "display_name": "Python 2",
   "language": "python",
   "name": "python2"
  },
  "language_info": {
   "codemirror_mode": {
    "name": "ipython",
    "version": 2
   },
   "file_extension": ".py",
   "mimetype": "text/x-python",
   "name": "python",
   "nbconvert_exporter": "python",
   "pygments_lexer": "ipython2",
   "version": "2.7.9"
  }
 },
 "nbformat": 4,
 "nbformat_minor": 0
}
