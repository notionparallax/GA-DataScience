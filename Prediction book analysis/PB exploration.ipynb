{
 "metadata": {
  "name": "PB exploration"
 },
 "nbformat": 3,
 "nbformat_minor": 0,
 "worksheets": [
  {
   "cells": [
    {
     "cell_type": "code",
     "collapsed": false,
     "input": [
      "# using the tutorial found here:\n",
      "# http://mysql-python.sourceforge.net/MySQLdb.html\n",
      "\n",
      "import MySQLdb\n",
      "import pandas as pd"
     ],
     "language": "python",
     "metadata": {},
     "outputs": [],
     "prompt_number": 1
    },
    {
     "cell_type": "markdown",
     "metadata": {},
     "source": [
      "# tables #\n",
      "This section goes through the tables to get an idea of what's going on inside them"
     ]
    },
    {
     "cell_type": "code",
     "collapsed": false,
     "input": [
      "def queryAsTable(query, maxrows=5, how=2):\n",
      "    \"\"\"This queries a db and returns the response as a pandas dataframe\"\"\"\n",
      "    # Open database connection\n",
      "    db = MySQLdb.connect(user = 'root', \n",
      "                         passwd = 'password',\n",
      "                         db = 'mysql', \n",
      "                         host = 'localhost')\n",
      "    db.query(query)\n",
      "    result = db.store_result()\n",
      "    rdict = list(result.fetch_row(maxrows=maxrows, how=how)) #max=0 means all, how=0 means tuple, how=1-dict, how=2 dict with fully qualified names\n",
      "    df = pd.DataFrame(rdict)\n",
      "    # disconnect from server\n",
      "    db.close()\n",
      "    return df"
     ],
     "language": "python",
     "metadata": {},
     "outputs": [],
     "prompt_number": 2
    },
    {
     "cell_type": "code",
     "collapsed": false,
     "input": [
      "print queryAsTable(\"\"\"SELECT table_name,table_rows FROM INFORMATION_SCHEMA.TABLES \n",
      "                        WHERE TABLE_TYPE='BASE TABLE' and TABLE_SCHEMA='mysql' \n",
      "                        ORDER By  table_rows DESC\"\"\", maxrows=10).to_string(index=None)\n"
     ],
     "language": "python",
     "metadata": {},
     "outputs": [
      {
       "output_type": "stream",
       "stream": "stdout",
       "text": [
        "TABLES.table_name  TABLES.table_rows\n",
        "        responses              45393\n",
        "      predictions              22542\n",
        "            users              22403\n",
        "       judgements              10991\n",
        "    help_relation               1047\n",
        "       help_topic                511\n",
        "     help_keyword                467\n",
        "    help_category                 40\n",
        "             user                  7\n",
        "      general_log                  2\n"
       ]
      }
     ],
     "prompt_number": 3
    },
    {
     "cell_type": "markdown",
     "metadata": {},
     "source": [
      "So it looks like there's not really any point thinking about any tables other than responses, predictions, users and judgements.\n",
      "\n",
      "The help tables seem to be mysql help, not predictionbook help!"
     ]
    },
    {
     "cell_type": "markdown",
     "metadata": {},
     "source": [
      "## responses ##"
     ]
    },
    {
     "cell_type": "code",
     "collapsed": false,
     "input": [
      "print queryAsTable(\"\"\"select * from  mysql.responses\"\"\", maxrows=10).to_string(index=None)"
     ],
     "language": "python",
     "metadata": {},
     "outputs": [
      {
       "output_type": "stream",
       "stream": "stdout",
       "text": [
        " responses.confidence responses.created_at  responses.id  responses.prediction_id responses.updated_at  responses.user_id\n",
        "                   80  2008-06-20 03:46:16             1                        1  2008-08-01 09:18:02                  1\n",
        "                   60  2008-06-20 04:37:13             2                        2  2008-08-01 09:18:02                  2\n",
        "                   80  2008-06-20 04:38:35             3                        3  2008-08-01 09:18:02                  3\n",
        "                   80  2008-06-20 04:40:06             4                        4  2008-08-01 09:18:02                  3\n",
        "                   70  2008-06-20 05:08:31             5                        5  2008-08-01 09:18:02                  4\n",
        "                   70  2008-06-20 05:24:24             6                        6  2008-08-01 09:18:02                  2\n",
        "                   90  2008-06-20 06:46:23             7                        7  2008-08-01 09:18:02                  5\n",
        "                   80  2008-06-20 11:43:07             8                        8  2008-08-01 09:18:02                  6\n",
        "                   95  2008-06-20 11:47:54             9                        9  2008-08-01 09:18:02                  6\n",
        "                   78  2008-06-20 12:12:28            10                       10  2008-08-01 09:18:02                  7\n"
       ]
      }
     ],
     "prompt_number": 4
    },
    {
     "cell_type": "markdown",
     "metadata": {},
     "source": [
      "## predictions ##"
     ]
    },
    {
     "cell_type": "code",
     "collapsed": false,
     "input": [
      "q = queryAsTable(\"\"\"select * from  mysql.predictions\"\"\", maxrows=10, how=0)\n",
      "print q.to_string(index=None)"
     ],
     "language": "python",
     "metadata": {},
     "outputs": [
      {
       "output_type": "stream",
       "stream": "stdout",
       "text": [
        "  0                   1                   2                   3  4                                     5  6  7  8\n",
        "  1 2008-06-20 12:00:00 2008-06-20 03:46:16 2008-08-14 02:28:40  1  d52eeaf6-cb20-456f-a375-bec2d1acc44d  0  0  1\n",
        "  2 2008-06-23 12:00:00 2008-06-20 04:37:13 2008-08-01 09:18:01  2  86530ca2-fbd5-47a8-b2d8-12110e05c3b4  0  0  1\n",
        "  3 2008-06-30 12:00:00 2008-06-20 04:38:35 2008-08-01 09:18:01  3  d5adb0ee-ecf2-48ce-88ce-7b40b5b2179f  0  0  1\n",
        "  4 2008-06-19 12:00:00 2008-06-20 04:40:06 2008-08-01 09:18:01  3  100f4ff6-4ee7-44e8-aa2d-5394dcaead7e  0  0  1\n",
        "  5 2008-06-20 06:08:31 2008-06-20 05:08:31 2008-08-01 09:18:01  4  c0314cd4-070a-4d4b-ae3c-ec03ddbdc621  0  0  1\n",
        "  6 2008-06-26 12:00:00 2008-06-20 05:24:24 2008-08-01 09:18:01  2  5c73114a-e22d-4a5a-9026-03f45acc0f19  0  0  1\n",
        "  7 2008-12-30 12:00:00 2008-06-20 06:46:23 2008-08-01 09:18:01  5  54df1626-bf7a-4ae9-b162-826d2a67fec1  0  0  1\n",
        "  8 2008-08-01 12:00:00 2008-06-20 11:43:07 2008-08-01 09:18:01  6  d5fbc343-9de5-41a2-ba89-b599bf60ae81  0  0  1\n",
        "  9 2013-01-06 12:00:00 2008-06-20 11:47:54 2013-01-26 01:15:36  6  ffa789d4-c40e-489e-af69-7000ce34cbf0  0  1  2\n",
        " 10 2013-06-20 22:00:00 2008-06-20 12:12:28 2013-11-01 18:38:07  7  19128b35-38ac-4748-9a44-42cbda3309fb  0  1  2\n"
       ]
      }
     ],
     "prompt_number": 5
    },
    {
     "cell_type": "code",
     "collapsed": false,
     "input": [
      "q = queryAsTable(\"\"\"select * from  mysql.predictions\"\"\", maxrows=10, how=1)\n",
      "keys = q.keys()\n",
      "for idx, key in enumerate(keys): \n",
      "    print idx,key"
     ],
     "language": "python",
     "metadata": {},
     "outputs": [
      {
       "output_type": "stream",
       "stream": "stdout",
       "text": [
        "0 created_at\n",
        "1 creator_id\n",
        "2 deadline\n",
        "3 id\n",
        "4 private\n",
        "5 updated_at\n",
        "6 uuid\n",
        "7 version\n",
        "8 withdrawn\n"
       ]
      }
     ],
     "prompt_number": 6
    },
    {
     "cell_type": "markdown",
     "metadata": {},
     "source": [
      "##Users##"
     ]
    },
    {
     "cell_type": "code",
     "collapsed": false,
     "input": [
      "print queryAsTable(\"\"\"select * from  mysql.users\"\"\", maxrows=10).to_string(index=None)"
     ],
     "language": "python",
     "metadata": {},
     "outputs": [
      {
       "output_type": "stream",
       "stream": "stdout",
       "text": [
        "   users.created_at  users.id  users.private_default users.timezone    users.updated_at\n",
        "2008-08-01 09:18:00         1                      0           None 2013-08-28 06:34:18\n",
        "2008-08-01 09:18:00         2                      0           None 2012-10-12 01:52:14\n",
        "2008-08-01 09:18:00         3                      0           None 2008-08-01 09:18:00\n",
        "2008-08-01 09:18:00         4                      0         London 2013-01-11 01:47:45\n",
        "2008-08-01 09:18:00         5                      0           None 2008-08-01 09:18:00\n",
        "2008-08-01 09:18:00         6                      0      Melbourne 2008-09-08 05:58:02\n",
        "2008-08-01 09:18:00         7                      0           None 2013-06-06 02:00:49\n",
        "2008-08-01 09:18:00         8                      0      Melbourne 2009-05-13 06:49:42\n",
        "2008-08-01 09:18:00         9                      0      Melbourne 2013-03-15 04:21:33\n",
        "2008-08-01 09:18:00        10                      0           None 2008-08-01 09:18:00\n"
       ]
      }
     ],
     "prompt_number": 7
    },
    {
     "cell_type": "code",
     "collapsed": false,
     "input": [
      "print queryAsTable(\"\"\"select * from  mysql.judgements\"\"\", maxrows=10).to_string(index=None)"
     ],
     "language": "python",
     "metadata": {},
     "outputs": [
      {
       "output_type": "stream",
       "stream": "stdout",
       "text": [
        "judgements.created_at  judgements.id  judgements.outcome  judgements.prediction_id judgements.updated_at judgements.user_id\n",
        "  2008-08-14 02:28:40              1                   1                         1   2008-08-14 02:28:40               None\n",
        "  2008-08-01 09:18:01              2                   0                         2   2008-08-01 09:18:01               None\n",
        "  2008-08-01 09:18:01              3                   0                         3   2008-08-01 09:18:01               None\n",
        "  2008-08-01 09:18:01              4                   0                         4   2008-08-01 09:18:01               None\n",
        "  2008-08-01 09:18:01              5                   1                         5   2008-08-01 09:18:01               None\n",
        "  2008-08-01 09:18:01              6                   0                         6   2008-08-01 09:18:01               None\n",
        "  2008-08-01 09:18:01              8                   0                         8   2008-08-01 09:18:01               None\n",
        "  2008-08-01 09:18:01             12                   0                        12   2008-08-01 09:18:01               None\n",
        "  2008-08-01 09:18:01             13                   0                        15   2008-08-01 09:18:01               None\n",
        "  2008-08-01 09:18:01             14                   1                        16   2008-08-01 09:18:01               None\n"
       ]
      }
     ],
     "prompt_number": 8
    },
    {
     "cell_type": "markdown",
     "metadata": {},
     "source": [
      "------------------\n",
      "Before we get into trying to merge these, lets see how many users there are, and how many predictions they've made:"
     ]
    },
    {
     "cell_type": "code",
     "collapsed": false,
     "input": [
      "db = MySQLdb.connect(user = 'root', \n",
      "                         passwd = 'password',\n",
      "                         db = 'mysql', \n",
      "                         host = 'localhost')\n",
      "db.query(\"\"\"SELECT count(distinct id ) from  mysql.users\"\"\")\n",
      "result = db.store_result()\n",
      "rdict = result.fetch_row() #max=0 means all, how=0 means tuple, how=1-dict, how=2 dict with fully qualified names\n",
      "uUsers = rdict[0][0]\n",
      "\n",
      "print uUsers, \"unique users\""
     ],
     "language": "python",
     "metadata": {},
     "outputs": [
      {
       "output_type": "stream",
       "stream": "stdout",
       "text": [
        "22578 unique users\n"
       ]
      }
     ],
     "prompt_number": 9
    },
    {
     "cell_type": "code",
     "collapsed": false,
     "input": [
      "db.query(\"\"\"SELECT count(distinct id ) from  mysql.predictions\"\"\")\n",
      "result = db.store_result()\n",
      "rdict = result.fetch_row() #max=0 means all, how=0 means tuple, how=1-dict, how=2 dict with fully qualified names\n",
      "uPredictions = rdict[0][0]\n",
      "db.close()\n",
      "print uPredictions, \"unique predictions\""
     ],
     "language": "python",
     "metadata": {},
     "outputs": [
      {
       "output_type": "stream",
       "stream": "stdout",
       "text": [
        "22455 unique predictions\n"
       ]
      }
     ],
     "prompt_number": 10
    },
    {
     "cell_type": "code",
     "collapsed": false,
     "input": [
      "#so all in all that's \n",
      "uUsers/float(uPredictions)"
     ],
     "language": "python",
     "metadata": {},
     "outputs": [
      {
       "output_type": "pyout",
       "prompt_number": 11,
       "text": [
        "1.0054776219104877"
       ]
      }
     ],
     "prompt_number": 11
    },
    {
     "cell_type": "code",
     "collapsed": false,
     "input": [
      "#almost exactly 1 per person.\n",
      "#given that we know that there is quite an active core of users there must be a lot of people who have made no predictions at all! Lets see what the distributuon is:\n",
      "q = queryAsTable(\"\"\"select creator_id, count(creator_id) from  mysql.predictions group by creator_id order by count(creator_id) desc\"\"\", maxrows=0)\n",
      "#print q.to_string(index=None)\n",
      "counts=q.drop(\"predictions.creator_id\",1)\n",
      "counts.plot()\n",
      "print \"top predictor:\",q[\"count(creator_id)\"][0], \"\\n\", \"number two:\",q[\"count(creator_id)\"][1],\"\\n\", \"#100:\",q[\"count(creator_id)\"][100],\"\\n\", \"#500:\",q[\"count(creator_id)\"][500]"
     ],
     "language": "python",
     "metadata": {},
     "outputs": [
      {
       "output_type": "stream",
       "stream": "stdout",
       "text": [
        "top predictor: 1844 \n",
        "number two: 1827 \n",
        "#100: 29 \n",
        "#500: 2\n"
       ]
      },
      {
       "output_type": "display_data",
       "png": "[encoded data removed]"
      }
     ],
     "prompt_number": 12
    },
    {
     "cell_type": "code",
     "collapsed": false,
     "input": [
      "#zoom in on the corner\n",
      "z=counts[20:100]\n",
      "z.plot()"
     ],
     "language": "python",
     "metadata": {},
     "outputs": [
      {
       "output_type": "pyout",
       "prompt_number": 13,
       "text": [
        "<matplotlib.axes.AxesSubplot at 0x5846c50>"
       ]
      },
      {
       "output_type": "display_data",
       "png": "[encoded data removed]"
      }
     ],
     "prompt_number": 13
    },
    {
     "cell_type": "markdown",
     "metadata": {},
     "source": [
      "So the most enthusiastic predictor had made 1844 predictions when this data was exported, but once we're outside the top 100 we're under 30 predictions, and then by the time we get to about 500 we're down to 1 prediction. I presume that this is a pretty common pattern for websites that offer a service.\n",
      "\n",
      "I don't remember if I read it or if it's just something that I've noticed myself, but the confidence graphs don't really settle down untill there are about 100 predictions. I think that this could be supported statistically, but just as a heuristic minimum, 5 columns (10 folded back on itself due to filiping the semantics of the statement) with 10 predictions in each gives 50 predictions needed to  to show a decent graph.\n",
      "\n",
      "Lets try to build one of these graphs (as they are shown on the PB website) and see if this is correct."
     ]
    },
    {
     "cell_type": "code",
     "collapsed": false,
     "input": [
      "columns = ['predictions.created_at', 'predictions.creator_id', 'predictions.deadline', 'predictions.id', 'predictions.updated_at',  'predictions.withdrawn'] \n",
      "#removed  'predictions.uuid' 'predictions.private' 'predictions.version' as they probably aren't useful at this stage\n",
      "heroPredictor = str(q[\"predictions.creator_id\"][0])\n",
      "query = \"select {} from predictions where creator_id='{}'\".format(\", \\n\".join(columns), heroPredictor)\n",
      "#print query\n",
      "q = queryAsTable(query, maxrows=10, how=2)\n",
      "print q.to_string(index=None)"
     ],
     "language": "python",
     "metadata": {},
     "outputs": [
      {
       "output_type": "stream",
       "stream": "stdout",
       "text": [
        "predictions.created_at  predictions.creator_id predictions.deadline  predictions.id predictions.updated_at  predictions.withdrawn\n",
        "   2010-07-29 18:13:36                     500  2010-09-01 12:00:00            1415    2010-07-29 18:13:36                      0\n",
        "   2010-07-29 18:19:16                     500  2029-01-01 12:00:00            1416    2010-07-29 18:19:16                      0\n",
        "   2010-07-29 18:20:17                     500  2030-01-01 12:00:00            1417    2010-07-29 18:20:17                      0\n",
        "   2010-07-29 18:22:20                     500  2012-01-01 12:00:00            1418    2010-07-29 18:22:20                      0\n",
        "   2010-07-29 18:23:24                     500  2010-12-31 12:00:00            1419    2010-07-29 18:23:24                      0\n",
        "   2010-07-29 18:25:30                     500  2150-01-01 12:00:00            1420    2010-07-29 18:25:30                      0\n",
        "   2010-07-29 18:26:17                     500  2020-01-01 12:00:00            1421    2010-07-29 18:26:17                      0\n",
        "   2010-07-29 18:28:08                     500  2022-12-31 12:00:00            1422    2010-07-29 18:28:08                      0\n",
        "   2010-07-29 18:37:41                     500  2025-01-01 12:00:00            1423    2010-07-29 18:37:41                      0\n",
        "   2010-07-29 18:39:08                     500  2014-06-30 17:19:18            1424    2013-06-30 17:19:18                      0\n"
       ]
      }
     ],
     "prompt_number": 14
    },
    {
     "cell_type": "markdown",
     "metadata": {},
     "source": [
      "Now to join it to the predictions that they refer to and their judgements"
     ]
    },
    {
     "cell_type": "code",
     "collapsed": false,
     "input": [
      "columns = [ 'j.outcome',\n",
      "            #'j.created_at',\n",
      "            #'j.id',          \n",
      "            #'j.prediction_id',\n",
      "            #'j.updated_at',            \n",
      "            #'p.created_at',            \n",
      "            #'p.deadline',\n",
      "            #'p.id',\n",
      "            #'p.private',\n",
      "            #'p.updated_at',\n",
      "            #'p.uuid',\n",
      "            #'p.version',\n",
      "            'p.withdrawn',\n",
      "            'r.confidence',\n",
      "            'r.created_at',\n",
      "            'r.id',\n",
      "            'r.prediction_id',\n",
      "            #'r.updated_at',\n",
      "            #'j.user_id',\n",
      "            #'p.creator_id',\n",
      "            'r.user_id']\n",
      "\n",
      "query = \"\"\"select {0} from  mysql.predictions p \n",
      "                left outer join mysql.responses r\n",
      "                    on p.id = r.prediction_id \n",
      "                left outer join mysql.judgements j\n",
      "                    on p.id = j.prediction_id                 \n",
      "                where creator_id='{1}' \n",
      "                AND j.id IS NOT NULL \n",
      "                AND r.confidence IS NOT NULL\n",
      "                AND j.outcome IS NOT NULL\n",
      "                AND j.user_id='{1}'\"\"\".format(\", \".join(columns), heroPredictor)\n",
      "print query"
     ],
     "language": "python",
     "metadata": {},
     "outputs": [
      {
       "output_type": "stream",
       "stream": "stdout",
       "text": [
        "select j.outcome, p.withdrawn, r.confidence, r.created_at, r.id, r.prediction_id, r.user_id from  mysql.predictions p \n",
        "                left outer join mysql.responses r\n",
        "                    on p.id = r.prediction_id \n",
        "                left outer join mysql.judgements j\n",
        "                    on p.id = j.prediction_id                 \n",
        "                where creator_id='500' \n",
        "                AND j.id IS NOT NULL \n",
        "                AND r.confidence IS NOT NULL\n",
        "                AND j.outcome IS NOT NULL\n",
        "                AND j.user_id='500'\n"
       ]
      }
     ],
     "prompt_number": 15
    },
    {
     "cell_type": "markdown",
     "metadata": {},
     "source": [
      "I don't know why `j.outcome` would be null, maybe judged 'unknown'\n",
      "\n",
      "Make sure that all the User IDs match so that we are only judging responses to their own predictions, in future we'll need to pick up other people's predictiosn that they've weighed in on"
     ]
    },
    {
     "cell_type": "code",
     "collapsed": false,
     "input": [
      "q = queryAsTable(query, maxrows=50, how=2)\n",
      "#q.keys()\n",
      "print q.to_string(index=None)"
     ],
     "language": "python",
     "metadata": {},
     "outputs": [
      {
       "output_type": "stream",
       "stream": "stdout",
       "text": [
        " j.outcome  p.withdrawn  r.confidence        r.created_at  r.id  r.prediction_id  r.user_id\n",
        "         0            0             0 2010-08-03 06:59:15  3182             1562        500\n",
        "         1            0            80 2010-08-26 10:18:32  3589             1719        500\n",
        "         1            0            70 2010-07-29 18:13:37  2815             1415        500\n",
        "         0            0             0 2010-08-03 06:56:42  3178             1561        500\n",
        "         0            0             0 2010-08-04 06:28:17  3209             1571        500\n",
        "         0            0            75 2010-09-02 17:43:37  3650             1571        526\n",
        "         1            0            85 2010-09-30 17:43:40  3953             1818        500\n",
        "         0            0            70 2010-10-05 23:02:41  3992             1829        500\n",
        "         1            0            40 2010-10-05 23:02:57  3993             1830        500\n",
        "         0            0            20 2010-08-05 07:24:52  3250             1586        500\n",
        "         0            0            70 2010-09-02 13:46:13  3644             1738        500\n",
        "         1            0            80 2010-10-22 22:13:03  4126             1863        500\n",
        "         1            0            80 2010-10-05 22:45:25  3990             1827        500\n",
        "         0            0             1 2010-08-02 06:27:50  3076             1520        500\n",
        "         0            0             0 2010-11-12 21:35:47  4330             1945        500\n",
        "         0            0            40 2010-10-05 22:44:43  3989             1826        500\n",
        "         1            0            70 2010-12-23 20:38:04  4695             2002        500\n",
        "         0            0            30 2010-12-23 19:18:56  4693             2001        500\n",
        "         0            0            80 2010-12-26 01:05:37  4696             2003        500\n",
        "         1            0            60 2010-08-04 06:40:10  3219             1574        500\n",
        "         0            0             0 2010-08-12 07:37:01  3360             1629        500\n",
        "         0            0            20 2010-08-26 19:58:25  3595             1629        521\n",
        "         0            0             1 2010-12-12 18:35:11  4615             1629        560\n",
        "         0            0             0 2010-08-12 07:26:18  3351             1626        500\n",
        "         0            0             1 2010-12-12 18:35:05  4614             1626        560\n",
        "         0            0             2 2010-08-12 07:11:35  3329             1618        500\n",
        "         0            0             2 2010-12-12 18:34:53  4613             1618        560\n",
        "         1            0            80 2010-08-09 07:56:34  3262             1591        500\n",
        "         1            0            95 2010-12-12 18:34:41  4612             1591        560\n",
        "         1            0            95 2010-08-05 07:20:26  3242             1583        500\n",
        "         0            0            40 2010-08-05 07:16:54  3240             1582        500\n",
        "         0            0            20 2010-08-05 07:15:17  3235             1580        500\n",
        "         0            0            50 2010-08-05 07:15:56  3238             1581        500\n",
        "         0            0            20 2010-08-05 07:12:56  3233             1579        500\n",
        "         1            0            95 2010-08-05 07:11:38  3230             1578        500\n",
        "         0            0            50 2010-08-05 07:10:10  3228             1577        500\n",
        "         0            0             5 2010-08-04 06:42:22  3222             1575        500\n",
        "         0            0             2 2010-07-29 18:23:25  2822             1419        500\n",
        "         0            0             1 2010-11-27 20:33:31  4490             1419        140\n",
        "         0            0            40 2010-08-13 13:42:46  3393             1641        500\n",
        "         0            0            20 2010-11-27 20:14:47  4471             1641        140\n",
        "         0            0             1 2010-08-01 13:02:47  3035             1502        500\n",
        "         0            0             1 2010-09-29 22:02:01  3913             1502        164\n",
        "         0            0            15 2010-09-11 22:55:08  3676             1753        500\n",
        "         0            0             1 2010-08-02 06:29:18  3082             1523        500\n",
        "         0            0             5 2010-11-20 06:16:30  4384             1523        554\n",
        "         0            0            20 2010-08-03 10:30:27  3192             1565        500\n",
        "         1            0            95 2010-08-16 08:35:03  3430             1655        500\n",
        "         1            0            35 2010-08-16 08:36:00  3432             1656        500\n",
        "         1            0            30 2010-08-16 08:37:06  3434             1657        500\n"
       ]
      }
     ],
     "prompt_number": 16
    },
    {
     "cell_type": "code",
     "collapsed": false,
     "input": [
      "query = \"\"\"\n",
      "SELECT myp.confidence as conf, count(myp.confidence) as cnt FROM (\n",
      "               select {0} from  mysql.predictions p \n",
      "                left outer join mysql.responses r\n",
      "                    on p.id = r.prediction_id \n",
      "                left outer join mysql.judgements j\n",
      "                    on p.id = j.prediction_id                 \n",
      "                where creator_id='{1}' \n",
      "                AND j.id IS NOT NULL \n",
      "                AND r.confidence IS NOT NULL\n",
      "                AND j.outcome IS NOT NULL\n",
      "                AND j.user_id='{1}'\n",
      "                AND j.outcome='{2}'\n",
      ") as myp\n",
      "group by myp.confidence\n",
      "\"\"\"\n",
      "#Q is this really a good way to do this? Can sql do this for me better?\n",
      "trueP  = queryAsTable(query.format(\", \".join(columns), heroPredictor, 1), maxrows=0, how=2)\n",
      "falseP = queryAsTable(query.format(\", \".join(columns), heroPredictor, 0), maxrows=0, how=2)\n",
      "print \"trueP\\n\", trueP.to_string(index=None)\n",
      "print\n",
      "print \"falseP\\n\", falseP.to_string(index=None)"
     ],
     "language": "python",
     "metadata": {},
     "outputs": [
      {
       "output_type": "stream",
       "stream": "stdout",
       "text": [
        "trueP\n",
        " cnt  myp.conf\n",
        "   5         5\n",
        "   1         8\n",
        "   1         9\n",
        "   6        10\n",
        "   2        15\n",
        "   1        17\n",
        "   3        20\n",
        "   5        25\n",
        "  15        30\n",
        "   1        33\n",
        "   6        35\n",
        "   1        38\n",
        "  30        40\n",
        "   1        42\n",
        "  10        45\n",
        "  43        50\n",
        "   1        54\n",
        "  21        55\n",
        "  39        60\n",
        "   1        61\n",
        "   1        62\n",
        "   1        63\n",
        "  21        65\n",
        "   1        66\n",
        "  42        70\n",
        "  41        75\n",
        "   1        77\n",
        "   1        78\n",
        "  32        80\n",
        "   2        82\n",
        "  15        85\n",
        "   1        87\n",
        "   1        89\n",
        "  31        90\n",
        "   1        93\n",
        "   1        94\n",
        "  26        95\n",
        "   4        96\n",
        "   4        97\n",
        "   5        98\n",
        "  13        99\n",
        "   2       100\n",
        "\n",
        "falseP\n",
        " cnt  myp.conf\n",
        " 107         0\n",
        "  81         1\n",
        "  61         2\n",
        "  20         3\n",
        "  13         4\n",
        " 117         5\n",
        "   7         6\n",
        "   5         7\n",
        "  12         8\n",
        "   4         9\n",
        "  93        10\n",
        "   3        11\n",
        "   1        12\n",
        "   5        13\n",
        "  46        15\n",
        "   1        18\n",
        "   2        19\n",
        "  81        20\n",
        "  47        25\n",
        "   2        26\n",
        "   1        27\n",
        "   1        28\n",
        "   1        29\n",
        "  63        30\n",
        "   6        33\n",
        "  44        35\n",
        "   2        38\n",
        "  71        40\n",
        "  19        45\n",
        "   1        46\n",
        "   1        47\n",
        "   1        48\n",
        "  71        50\n",
        "   2        51\n",
        "   1        52\n",
        "  18        55\n",
        "  34        60\n",
        "  20        65\n",
        "  24        70\n",
        "  20        75\n",
        "  23        80\n",
        "   1        82\n",
        "   1        84\n",
        "   5        85\n",
        "   6        90\n",
        "   1        92\n",
        "   3        95\n",
        "   1        98\n",
        "   1        99\n",
        "   1       100\n"
       ]
      }
     ],
     "prompt_number": 42
    },
    {
     "cell_type": "markdown",
     "metadata": {},
     "source": [
      "------------------\n",
      "\n",
      "So, in trying to find myself this seems promising:"
     ]
    },
    {
     "cell_type": "code",
     "collapsed": false,
     "input": [],
     "language": "python",
     "metadata": {},
     "outputs": []
    },
    {
     "cell_type": "code",
     "collapsed": false,
     "input": [
      "q = queryAsTable(\"\"\"\n",
      "select creator_id, count(creator_id), mysql.users.id,mysql.users.timezone from  mysql.predictions \n",
      "\tleft outer join mysql.users on creator_id = mysql.users.id\n",
      "\t\twhere timezone like '%syd%'\n",
      "\tgroup by creator_id order by count(creator_id) desc\n",
      "\"\"\", maxrows=10, how=0)\n",
      "print q.to_string(index=None)"
     ],
     "language": "python",
     "metadata": {},
     "outputs": []
    },
    {
     "cell_type": "code",
     "collapsed": false,
     "input": [
      "q = queryAsTable(\"\"\"\n",
      "select * from  mysql.users where id='292'\n",
      "\"\"\", maxrows=10, how=2)\n",
      "print q.to_string(index=None)"
     ],
     "language": "python",
     "metadata": {},
     "outputs": []
    },
    {
     "cell_type": "markdown",
     "metadata": {},
     "source": [
      "But doesn't seem to be right. :("
     ]
    },
    {
     "cell_type": "markdown",
     "metadata": {},
     "source": [
      "So, lets try to assess the calibration of the person with the most predictions"
     ]
    },
    {
     "cell_type": "code",
     "collapsed": false,
     "input": [
      "q = queryAsTable(\"\"\"select creator_id, count(creator_id) from  mysql.predictions group by creator_id order by count(creator_id) desc\"\"\", maxrows=1)\n",
      "print q.to_string(index=None)"
     ],
     "language": "python",
     "metadata": {},
     "outputs": []
    },
    {
     "cell_type": "code",
     "collapsed": false,
     "input": [
      "q = queryAsTable(\"\"\"select * from predictions where creator_id='500'\"\"\", maxrows=10, how=1)\n",
      "print q.to_string(index=None)"
     ],
     "language": "python",
     "metadata": {},
     "outputs": []
    },
    {
     "cell_type": "code",
     "collapsed": false,
     "input": [],
     "language": "python",
     "metadata": {},
     "outputs": []
    },
    {
     "cell_type": "code",
     "collapsed": false,
     "input": [
      "q = queryAsTable(\"\"\"select * from  mysql.predictions p\n",
      "                        left outer join mysql.responses r\n",
      "                            on p.id = r.prediction_id \n",
      "                        left outer join mysql.judgements j\n",
      "                            on p.id = j.prediction_id \"\"\", \n",
      "                    maxrows=10, how=0)\n",
      "print q.to_string(index=None)"
     ],
     "language": "python",
     "metadata": {},
     "outputs": []
    },
    {
     "cell_type": "code",
     "collapsed": false,
     "input": [
      "#rewritten to remove ambiguities\n",
      "q = queryAsTable(\"\"\"select * from  mysql.predictions \n",
      "                        left outer join mysql.responses\n",
      "                            on mysql.predictions.id = mysql.responses.prediction_id \n",
      "                        left outer join mysql.judgements\n",
      "                            on mysql.predictions .id = mysql.judgements.prediction_id \"\"\", \n",
      "                    maxrows=10, how=2)\n",
      "keys = q.keys()\n",
      "for idx, key in enumerate(keys): \n",
      "    print idx,key"
     ],
     "language": "python",
     "metadata": {},
     "outputs": []
    },
    {
     "cell_type": "code",
     "collapsed": false,
     "input": [
      "\"\"\"\n",
      "full potential list to get interesting values from:\n",
      "                        mysql.judgements.created_at,\n",
      "                        mysql.judgements.created_at,\n",
      "                        mysql.judgements.created_at,\n",
      "                        mysql.judgements.id,\n",
      "                        mysql.judgements.outcome,\n",
      "                        mysql.judgements.prediction_id,\n",
      "                        mysql.judgements.updated_at,\n",
      "                        mysql.judgements.user_id,\n",
      "                        mysql.predictions.created_at,\n",
      "                        mysql.predictions.creator_id,\n",
      "                        mysql.predictions.deadline,\n",
      "                        mysql.predictions.id,\n",
      "                        mysql.predictions.private,\n",
      "                        mysql.predictions.updated_at,\n",
      "                        mysql.predictions.uuid,\n",
      "                        mysql.predictions.version,\n",
      "                        mysql.predictions.withdrawn,\n",
      "                        mysql.responses.confidence,\n",
      "                        mysql.responses.created_at,\n",
      "                        mysql.responses.id,\n",
      "                        mysql.responses.prediction_id,\n",
      "                        mysql.responses.updated_at,\n",
      "                        mysql.responses.user_id\n",
      "first cull: remove created at and updated at columns\n",
      "\"\"\"\n",
      "q = queryAsTable(\"\"\"select \n",
      "\n",
      "                        \n",
      "                        mysql.judgements.id,\n",
      "                        mysql.judgements.outcome,\n",
      "                        mysql.judgements.prediction_id,\n",
      "                        \n",
      "                        mysql.judgements.user_id,\n",
      "                        \n",
      "                        mysql.predictions.creator_id,\n",
      "                        mysql.predictions.deadline,\n",
      "                        mysql.predictions.id,\n",
      "                        mysql.predictions.private,\n",
      "                        \n",
      "                        \n",
      "                        mysql.predictions.version,\n",
      "                        mysql.predictions.withdrawn,\n",
      "                        mysql.responses.confidence,\n",
      "                        \n",
      "                        mysql.responses.id,\n",
      "                        mysql.responses.prediction_id,\n",
      "                        \n",
      "                        mysql.responses.user_id\n",
      "                    from  mysql.predictions \n",
      "                    left outer join mysql.responses\n",
      "                            on mysql.predictions.id = mysql.responses.prediction_id \n",
      "                        left outer join mysql.judgements\n",
      "                            on mysql.predictions .id = mysql.judgements.prediction_id \"\"\", \n",
      "                    maxrows=10, how=1)\n",
      "print q.to_string(index=None)"
     ],
     "language": "python",
     "metadata": {},
     "outputs": []
    },
    {
     "cell_type": "markdown",
     "metadata": {},
     "source": []
    },
    {
     "cell_type": "code",
     "collapsed": false,
     "input": [],
     "language": "python",
     "metadata": {},
     "outputs": []
    },
    {
     "cell_type": "markdown",
     "metadata": {},
     "source": []
    },
    {
     "cell_type": "code",
     "collapsed": false,
     "input": [],
     "language": "python",
     "metadata": {},
     "outputs": []
    },
    {
     "cell_type": "code",
     "collapsed": false,
     "input": [],
     "language": "python",
     "metadata": {},
     "outputs": []
    },
    {
     "cell_type": "code",
     "collapsed": false,
     "input": [],
     "language": "python",
     "metadata": {},
     "outputs": []
    },
    {
     "cell_type": "code",
     "collapsed": false,
     "input": [],
     "language": "python",
     "metadata": {},
     "outputs": []
    },
    {
     "cell_type": "code",
     "collapsed": false,
     "input": [],
     "language": "python",
     "metadata": {},
     "outputs": []
    },
    {
     "cell_type": "code",
     "collapsed": false,
     "input": [],
     "language": "python",
     "metadata": {},
     "outputs": []
    }
   ],
   "metadata": {}
  }
 ]
}