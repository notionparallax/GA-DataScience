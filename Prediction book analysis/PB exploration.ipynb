{
 "metadata": {
  "name": "PB exploration"
 },
 "nbformat": 3,
 "nbformat_minor": 0,
 "worksheets": [
  {
   "cells": [
    {
     "cell_type": "code",
     "collapsed": false,
     "input": [
      "# using the tutorial found here:\n",
      "# http://mysql-python.sourceforge.net/MySQLdb.html\n",
      "\n",
      "import MySQLdb\n",
      "import pandas as pd\n",
      "from __future__ import division"
     ],
     "language": "python",
     "metadata": {},
     "outputs": [],
     "prompt_number": 111
    },
    {
     "cell_type": "markdown",
     "metadata": {},
     "source": [
      "# tables #\n",
      "This section goes through the tables to get an idea of what's going on inside them"
     ]
    },
    {
     "cell_type": "code",
     "collapsed": false,
     "input": [
      "def queryAsTable(query, maxrows=5, how=2):\n",
      "    \"\"\"This queries a db and returns the response as a pandas dataframe\"\"\"\n",
      "    # Open database connection\n",
      "    db = MySQLdb.connect(user = 'root', \n",
      "                         passwd = 'password',\n",
      "                         db = 'mysql', \n",
      "                         host = 'localhost')\n",
      "    db.query(query)\n",
      "    result = db.store_result()\n",
      "    rdict = list(result.fetch_row(maxrows=maxrows, how=how)) #max=0 means all, how=0 means tuple, how=1-dict, how=2 dict with fully qualified names\n",
      "    df = pd.DataFrame(rdict)\n",
      "    # disconnect from server\n",
      "    db.close()\n",
      "    return df"
     ],
     "language": "python",
     "metadata": {},
     "outputs": [],
     "prompt_number": 3
    },
    {
     "cell_type": "code",
     "collapsed": false,
     "input": [
      "print queryAsTable(\"\"\"SELECT table_name,table_rows FROM INFORMATION_SCHEMA.TABLES \n",
      "                        WHERE TABLE_TYPE='BASE TABLE' and TABLE_SCHEMA='mysql' \n",
      "                        ORDER By  table_rows DESC\"\"\", maxrows=10).to_string(index=None)\n"
     ],
     "language": "python",
     "metadata": {},
     "outputs": [
      {
       "output_type": "stream",
       "stream": "stdout",
       "text": [
        "TABLES.table_name  TABLES.table_rows\n",
        "        responses              42828\n",
        "            users              22868\n",
        "      predictions              22542\n",
        "       judgements              10995\n",
        "    help_relation               1047\n",
        "       help_topic                511\n",
        "     help_keyword                467\n",
        "    help_category                 40\n",
        "             user                  7\n",
        "      general_log                  2\n"
       ]
      }
     ],
     "prompt_number": 4
    },
    {
     "cell_type": "markdown",
     "metadata": {},
     "source": [
      "So it looks like there's not really any point thinking about any tables other than responses, predictions, users and judgements.\n",
      "\n",
      "The help tables seem to be mysql help, not predictionbook help!"
     ]
    },
    {
     "cell_type": "markdown",
     "metadata": {},
     "source": [
      "## responses ##"
     ]
    },
    {
     "cell_type": "code",
     "collapsed": false,
     "input": [
      "print queryAsTable(\"\"\"select * from  mysql.responses\"\"\", maxrows=10).to_string(index=None)"
     ],
     "language": "python",
     "metadata": {},
     "outputs": [
      {
       "output_type": "stream",
       "stream": "stdout",
       "text": [
        " responses.confidence responses.created_at  responses.id  responses.prediction_id responses.updated_at  responses.user_id\n",
        "                   80  2008-06-20 03:46:16             1                        1  2008-08-01 09:18:02                  1\n",
        "                   60  2008-06-20 04:37:13             2                        2  2008-08-01 09:18:02                  2\n",
        "                   80  2008-06-20 04:38:35             3                        3  2008-08-01 09:18:02                  3\n",
        "                   80  2008-06-20 04:40:06             4                        4  2008-08-01 09:18:02                  3\n",
        "                   70  2008-06-20 05:08:31             5                        5  2008-08-01 09:18:02                  4\n",
        "                   70  2008-06-20 05:24:24             6                        6  2008-08-01 09:18:02                  2\n",
        "                   90  2008-06-20 06:46:23             7                        7  2008-08-01 09:18:02                  5\n",
        "                   80  2008-06-20 11:43:07             8                        8  2008-08-01 09:18:02                  6\n",
        "                   95  2008-06-20 11:47:54             9                        9  2008-08-01 09:18:02                  6\n",
        "                   78  2008-06-20 12:12:28            10                       10  2008-08-01 09:18:02                  7\n"
       ]
      }
     ],
     "prompt_number": 5
    },
    {
     "cell_type": "markdown",
     "metadata": {},
     "source": [
      "## predictions ##"
     ]
    },
    {
     "cell_type": "code",
     "collapsed": false,
     "input": [
      "q = queryAsTable(\"\"\"select * from  mysql.predictions\"\"\", maxrows=10, how=0)\n",
      "print q.to_string(index=None)"
     ],
     "language": "python",
     "metadata": {},
     "outputs": [
      {
       "output_type": "stream",
       "stream": "stdout",
       "text": [
        "  0                   1                   2                   3  4                                     5  6  7  8\n",
        "  1 2008-06-20 12:00:00 2008-06-20 03:46:16 2008-08-14 02:28:40  1  d52eeaf6-cb20-456f-a375-bec2d1acc44d  0  0  1\n",
        "  2 2008-06-23 12:00:00 2008-06-20 04:37:13 2008-08-01 09:18:01  2  86530ca2-fbd5-47a8-b2d8-12110e05c3b4  0  0  1\n",
        "  3 2008-06-30 12:00:00 2008-06-20 04:38:35 2008-08-01 09:18:01  3  d5adb0ee-ecf2-48ce-88ce-7b40b5b2179f  0  0  1\n",
        "  4 2008-06-19 12:00:00 2008-06-20 04:40:06 2008-08-01 09:18:01  3  100f4ff6-4ee7-44e8-aa2d-5394dcaead7e  0  0  1\n",
        "  5 2008-06-20 06:08:31 2008-06-20 05:08:31 2008-08-01 09:18:01  4  c0314cd4-070a-4d4b-ae3c-ec03ddbdc621  0  0  1\n",
        "  6 2008-06-26 12:00:00 2008-06-20 05:24:24 2008-08-01 09:18:01  2  5c73114a-e22d-4a5a-9026-03f45acc0f19  0  0  1\n",
        "  7 2008-12-30 12:00:00 2008-06-20 06:46:23 2008-08-01 09:18:01  5  54df1626-bf7a-4ae9-b162-826d2a67fec1  0  0  1\n",
        "  8 2008-08-01 12:00:00 2008-06-20 11:43:07 2008-08-01 09:18:01  6  d5fbc343-9de5-41a2-ba89-b599bf60ae81  0  0  1\n",
        "  9 2013-01-06 12:00:00 2008-06-20 11:47:54 2013-01-26 01:15:36  6  ffa789d4-c40e-489e-af69-7000ce34cbf0  0  1  2\n",
        " 10 2013-06-20 22:00:00 2008-06-20 12:12:28 2013-11-01 18:38:07  7  19128b35-38ac-4748-9a44-42cbda3309fb  0  1  2\n"
       ]
      }
     ],
     "prompt_number": 6
    },
    {
     "cell_type": "code",
     "collapsed": false,
     "input": [
      "q = queryAsTable(\"\"\"select * from  mysql.predictions\"\"\", maxrows=10, how=1)\n",
      "keys = q.keys()\n",
      "for idx, key in enumerate(keys): \n",
      "    print idx,key"
     ],
     "language": "python",
     "metadata": {},
     "outputs": [
      {
       "output_type": "stream",
       "stream": "stdout",
       "text": [
        "0 created_at\n",
        "1 creator_id\n",
        "2 deadline\n",
        "3 id\n",
        "4 private\n",
        "5 updated_at\n",
        "6 uuid\n",
        "7 version\n",
        "8 withdrawn\n"
       ]
      }
     ],
     "prompt_number": 7
    },
    {
     "cell_type": "markdown",
     "metadata": {},
     "source": [
      "##Users##"
     ]
    },
    {
     "cell_type": "code",
     "collapsed": false,
     "input": [
      "print queryAsTable(\"\"\"select * from  mysql.users\"\"\", maxrows=10).to_string(index=None)"
     ],
     "language": "python",
     "metadata": {},
     "outputs": [
      {
       "output_type": "stream",
       "stream": "stdout",
       "text": [
        "   users.created_at  users.id  users.private_default users.timezone    users.updated_at\n",
        "2008-08-01 09:18:00         1                      0           None 2013-08-28 06:34:18\n",
        "2008-08-01 09:18:00         2                      0           None 2012-10-12 01:52:14\n",
        "2008-08-01 09:18:00         3                      0           None 2008-08-01 09:18:00\n",
        "2008-08-01 09:18:00         4                      0         London 2013-01-11 01:47:45\n",
        "2008-08-01 09:18:00         5                      0           None 2008-08-01 09:18:00\n",
        "2008-08-01 09:18:00         6                      0      Melbourne 2008-09-08 05:58:02\n",
        "2008-08-01 09:18:00         7                      0           None 2013-06-06 02:00:49\n",
        "2008-08-01 09:18:00         8                      0      Melbourne 2009-05-13 06:49:42\n",
        "2008-08-01 09:18:00         9                      0      Melbourne 2013-03-15 04:21:33\n",
        "2008-08-01 09:18:00        10                      0           None 2008-08-01 09:18:00\n"
       ]
      }
     ],
     "prompt_number": 8
    },
    {
     "cell_type": "code",
     "collapsed": false,
     "input": [
      "print queryAsTable(\"\"\"select * from  mysql.judgements\"\"\", maxrows=10).to_string(index=None)"
     ],
     "language": "python",
     "metadata": {},
     "outputs": [
      {
       "output_type": "stream",
       "stream": "stdout",
       "text": [
        "judgements.created_at  judgements.id  judgements.outcome  judgements.prediction_id judgements.updated_at judgements.user_id\n",
        "  2008-08-14 02:28:40              1                   1                         1   2008-08-14 02:28:40               None\n",
        "  2008-08-01 09:18:01              2                   0                         2   2008-08-01 09:18:01               None\n",
        "  2008-08-01 09:18:01              3                   0                         3   2008-08-01 09:18:01               None\n",
        "  2008-08-01 09:18:01              4                   0                         4   2008-08-01 09:18:01               None\n",
        "  2008-08-01 09:18:01              5                   1                         5   2008-08-01 09:18:01               None\n",
        "  2008-08-01 09:18:01              6                   0                         6   2008-08-01 09:18:01               None\n",
        "  2008-08-01 09:18:01              8                   0                         8   2008-08-01 09:18:01               None\n",
        "  2008-08-01 09:18:01             12                   0                        12   2008-08-01 09:18:01               None\n",
        "  2008-08-01 09:18:01             13                   0                        15   2008-08-01 09:18:01               None\n",
        "  2008-08-01 09:18:01             14                   1                        16   2008-08-01 09:18:01               None\n"
       ]
      }
     ],
     "prompt_number": 9
    },
    {
     "cell_type": "markdown",
     "metadata": {},
     "source": [
      "------------------\n",
      "Before we get into trying to merge these, lets see how many users there are, and how many predictions they've made:"
     ]
    },
    {
     "cell_type": "code",
     "collapsed": false,
     "input": [
      "db = MySQLdb.connect(user = 'root', \n",
      "                         passwd = 'password',\n",
      "                         db = 'mysql', \n",
      "                         host = 'localhost')\n",
      "db.query(\"\"\"SELECT count(distinct id ) from  mysql.users\"\"\")\n",
      "result = db.store_result()\n",
      "rdict = result.fetch_row() #max=0 means all, how=0 means tuple, how=1-dict, how=2 dict with fully qualified names\n",
      "uUsers = rdict[0][0]\n",
      "\n",
      "print uUsers, \"unique users\""
     ],
     "language": "python",
     "metadata": {},
     "outputs": [
      {
       "output_type": "stream",
       "stream": "stdout",
       "text": [
        "22578 unique users\n"
       ]
      }
     ],
     "prompt_number": 10
    },
    {
     "cell_type": "code",
     "collapsed": false,
     "input": [
      "db.query(\"\"\"SELECT count(distinct id ) from  mysql.predictions\"\"\")\n",
      "result = db.store_result()\n",
      "rdict = result.fetch_row() #max=0 means all, how=0 means tuple, how=1-dict, how=2 dict with fully qualified names\n",
      "uPredictions = rdict[0][0]\n",
      "db.close()\n",
      "print uPredictions, \"unique predictions\""
     ],
     "language": "python",
     "metadata": {},
     "outputs": [
      {
       "output_type": "stream",
       "stream": "stdout",
       "text": [
        "22455 unique predictions\n"
       ]
      }
     ],
     "prompt_number": 11
    },
    {
     "cell_type": "code",
     "collapsed": false,
     "input": [
      "#so all in all that's \n",
      "uUsers/float(uPredictions)"
     ],
     "language": "python",
     "metadata": {},
     "outputs": [
      {
       "output_type": "pyout",
       "prompt_number": 12,
       "text": [
        "1.0054776219104877"
       ]
      }
     ],
     "prompt_number": 12
    },
    {
     "cell_type": "code",
     "collapsed": false,
     "input": [
      "#almost exactly 1 per person.\n",
      "#given that we know that there is quite an active core of users there must be a lot of people who have made no predictions at all! Lets see what the distributuon is:\n",
      "q = queryAsTable(\"\"\"select creator_id, count(creator_id) from  mysql.predictions group by creator_id order by count(creator_id) desc\"\"\", maxrows=0)\n",
      "#print q.to_string(index=None)\n",
      "counts=q.drop(\"predictions.creator_id\",1)\n",
      "counts.plot()\n",
      "print \"top predictor:\",q[\"count(creator_id)\"][0], \"\\n\", \"number two:\",q[\"count(creator_id)\"][1],\"\\n\", \"#100:\",q[\"count(creator_id)\"][100],\"\\n\", \"#500:\",q[\"count(creator_id)\"][500]"
     ],
     "language": "python",
     "metadata": {},
     "outputs": [
      {
       "output_type": "stream",
       "stream": "stdout",
       "text": [
        "top predictor: 1844 \n",
        "number two: 1827 \n",
        "#100: 29 \n",
        "#500: 2\n"
       ]
      },
      {
       "output_type": "display_data",
       "png": "[encoded data removed]"
      }
     ],
     "prompt_number": 13
    },
    {
     "cell_type": "code",
     "collapsed": false,
     "input": [
      "#zoom in on the corner\n",
      "z=counts[20:100]\n",
      "z.plot()"
     ],
     "language": "python",
     "metadata": {},
     "outputs": [
      {
       "output_type": "pyout",
       "prompt_number": 14,
       "text": [
        "<matplotlib.axes.AxesSubplot at 0x5160210>"
       ]
      },
      {
       "output_type": "display_data",
       "png": "[encoded data removed]"
      }
     ],
     "prompt_number": 14
    },
    {
     "cell_type": "markdown",
     "metadata": {},
     "source": [
      "So the most enthusiastic predictor had made 1844 predictions when this data was exported, but once we're outside the top 100 we're under 30 predictions, and then by the time we get to about 500 we're down to 1 prediction. I presume that this is a pretty common pattern for websites that offer a service.\n",
      "\n",
      "I don't remember if I read it or if it's just something that I've noticed myself, but the confidence graphs don't really settle down untill there are about 100 predictions. I think that this could be supported statistically, but just as a heuristic minimum, 5 columns (10 folded back on itself due to filiping the semantics of the statement) with 10 predictions in each gives 50 predictions needed to  to show a decent graph.\n",
      "\n",
      "Lets try to build one of these graphs (as they are shown on the PB website) and see if this is correct."
     ]
    },
    {
     "cell_type": "code",
     "collapsed": false,
     "input": [
      "columns = ['predictions.created_at', 'predictions.creator_id', 'predictions.deadline', 'predictions.id', 'predictions.updated_at',  'predictions.withdrawn'] \n",
      "#removed  'predictions.uuid' 'predictions.private' 'predictions.version' as they probably aren't useful at this stage\n",
      "heroPredictor = str(q[\"predictions.creator_id\"][0])\n",
      "query = \"select {} from predictions where creator_id='{}'\".format(\", \\n\".join(columns), heroPredictor)\n",
      "#print query\n",
      "q = queryAsTable(query, maxrows=10, how=2)\n",
      "print q.to_string(index=None)"
     ],
     "language": "python",
     "metadata": {},
     "outputs": [
      {
       "output_type": "stream",
       "stream": "stdout",
       "text": [
        "predictions.created_at  predictions.creator_id predictions.deadline  predictions.id predictions.updated_at  predictions.withdrawn\n",
        "   2010-07-29 18:13:36                     500  2010-09-01 12:00:00            1415    2010-07-29 18:13:36                      0\n",
        "   2010-07-29 18:19:16                     500  2029-01-01 12:00:00            1416    2010-07-29 18:19:16                      0\n",
        "   2010-07-29 18:20:17                     500  2030-01-01 12:00:00            1417    2010-07-29 18:20:17                      0\n",
        "   2010-07-29 18:22:20                     500  2012-01-01 12:00:00            1418    2010-07-29 18:22:20                      0\n",
        "   2010-07-29 18:23:24                     500  2010-12-31 12:00:00            1419    2010-07-29 18:23:24                      0\n",
        "   2010-07-29 18:25:30                     500  2150-01-01 12:00:00            1420    2010-07-29 18:25:30                      0\n",
        "   2010-07-29 18:26:17                     500  2020-01-01 12:00:00            1421    2010-07-29 18:26:17                      0\n",
        "   2010-07-29 18:28:08                     500  2022-12-31 12:00:00            1422    2010-07-29 18:28:08                      0\n",
        "   2010-07-29 18:37:41                     500  2025-01-01 12:00:00            1423    2010-07-29 18:37:41                      0\n",
        "   2010-07-29 18:39:08                     500  2014-06-30 17:19:18            1424    2013-06-30 17:19:18                      0\n"
       ]
      }
     ],
     "prompt_number": 15
    },
    {
     "cell_type": "markdown",
     "metadata": {},
     "source": [
      "Now to join it to the predictions that they refer to and their judgements"
     ]
    },
    {
     "cell_type": "code",
     "collapsed": false,
     "input": [
      "columns = [ 'j.outcome',\n",
      "            #'j.created_at',\n",
      "            #'j.id',          \n",
      "            #'j.prediction_id',\n",
      "            #'j.updated_at',            \n",
      "            #'p.created_at',            \n",
      "            #'p.deadline',\n",
      "            #'p.id',\n",
      "            #'p.private',\n",
      "            #'p.updated_at',\n",
      "            #'p.uuid',\n",
      "            #'p.version',\n",
      "            'p.withdrawn',\n",
      "            'r.confidence',\n",
      "            'r.created_at',\n",
      "            'r.id',\n",
      "            'r.prediction_id',\n",
      "            #'r.updated_at',\n",
      "            #'j.user_id',\n",
      "            #'p.creator_id',\n",
      "            'r.user_id']\n",
      "\n",
      "query = \"\"\"select {0} from  mysql.predictions p \n",
      "                left outer join mysql.responses r\n",
      "                    on p.id = r.prediction_id \n",
      "                left outer join mysql.judgements j\n",
      "                    on p.id = j.prediction_id                 \n",
      "                where creator_id='{1}' \n",
      "                AND j.id IS NOT NULL \n",
      "                AND r.confidence IS NOT NULL\n",
      "                AND j.outcome IS NOT NULL\n",
      "                AND j.user_id='{1}'\"\"\".format(\", \".join(columns), heroPredictor)\n",
      "print query"
     ],
     "language": "python",
     "metadata": {},
     "outputs": [
      {
       "output_type": "stream",
       "stream": "stdout",
       "text": [
        "select j.outcome, p.withdrawn, r.confidence, r.created_at, r.id, r.prediction_id, r.user_id from  mysql.predictions p \n",
        "                left outer join mysql.responses r\n",
        "                    on p.id = r.prediction_id \n",
        "                left outer join mysql.judgements j\n",
        "                    on p.id = j.prediction_id                 \n",
        "                where creator_id='500' \n",
        "                AND j.id IS NOT NULL \n",
        "                AND r.confidence IS NOT NULL\n",
        "                AND j.outcome IS NOT NULL\n",
        "                AND j.user_id='500'\n"
       ]
      }
     ],
     "prompt_number": 16
    },
    {
     "cell_type": "markdown",
     "metadata": {},
     "source": [
      "I don't know why `j.outcome` would be null, maybe judged 'unknown'\n",
      "\n",
      "Make sure that all the User IDs match so that we are only judging responses to their own predictions, in future we'll need to pick up other people's predictiosn that they've weighed in on"
     ]
    },
    {
     "cell_type": "code",
     "collapsed": false,
     "input": [
      "q = queryAsTable(query, maxrows=50, how=2)\n",
      "#q.keys()\n",
      "print q.to_string(index=None)"
     ],
     "language": "python",
     "metadata": {},
     "outputs": [
      {
       "output_type": "stream",
       "stream": "stdout",
       "text": [
        " j.outcome  p.withdrawn  r.confidence        r.created_at  r.id  r.prediction_id  r.user_id\n",
        "         0            0             0 2010-08-03 06:59:15  3182             1562        500\n",
        "         1            0            80 2010-08-26 10:18:32  3589             1719        500\n",
        "         1            0            70 2010-07-29 18:13:37  2815             1415        500\n",
        "         0            0             0 2010-08-03 06:56:42  3178             1561        500\n",
        "         0            0             0 2010-08-04 06:28:17  3209             1571        500\n",
        "         0            0            75 2010-09-02 17:43:37  3650             1571        526\n",
        "         1            0            85 2010-09-30 17:43:40  3953             1818        500\n",
        "         0            0            70 2010-10-05 23:02:41  3992             1829        500\n",
        "         1            0            40 2010-10-05 23:02:57  3993             1830        500\n",
        "         0            0            20 2010-08-05 07:24:52  3250             1586        500\n",
        "         0            0            70 2010-09-02 13:46:13  3644             1738        500\n",
        "         1            0            80 2010-10-22 22:13:03  4126             1863        500\n",
        "         1            0            80 2010-10-05 22:45:25  3990             1827        500\n",
        "         0            0             1 2010-08-02 06:27:50  3076             1520        500\n",
        "         0            0             0 2010-11-12 21:35:47  4330             1945        500\n",
        "         0            0            40 2010-10-05 22:44:43  3989             1826        500\n",
        "         1            0            70 2010-12-23 20:38:04  4695             2002        500\n",
        "         0            0            30 2010-12-23 19:18:56  4693             2001        500\n",
        "         0            0            80 2010-12-26 01:05:37  4696             2003        500\n",
        "         1            0            60 2010-08-04 06:40:10  3219             1574        500\n",
        "         0            0             0 2010-08-12 07:37:01  3360             1629        500\n",
        "         0            0            20 2010-08-26 19:58:25  3595             1629        521\n",
        "         0            0             1 2010-12-12 18:35:11  4615             1629        560\n",
        "         0            0             0 2010-08-12 07:26:18  3351             1626        500\n",
        "         0            0             1 2010-12-12 18:35:05  4614             1626        560\n",
        "         0            0             2 2010-08-12 07:11:35  3329             1618        500\n",
        "         0            0             2 2010-12-12 18:34:53  4613             1618        560\n",
        "         1            0            80 2010-08-09 07:56:34  3262             1591        500\n",
        "         1            0            95 2010-12-12 18:34:41  4612             1591        560\n",
        "         1            0            95 2010-08-05 07:20:26  3242             1583        500\n",
        "         0            0            40 2010-08-05 07:16:54  3240             1582        500\n",
        "         0            0            20 2010-08-05 07:15:17  3235             1580        500\n",
        "         0            0            50 2010-08-05 07:15:56  3238             1581        500\n",
        "         0            0            20 2010-08-05 07:12:56  3233             1579        500\n",
        "         1            0            95 2010-08-05 07:11:38  3230             1578        500\n",
        "         0            0            50 2010-08-05 07:10:10  3228             1577        500\n",
        "         0            0             5 2010-08-04 06:42:22  3222             1575        500\n",
        "         0            0             2 2010-07-29 18:23:25  2822             1419        500\n",
        "         0            0             1 2010-11-27 20:33:31  4490             1419        140\n",
        "         0            0            40 2010-08-13 13:42:46  3393             1641        500\n",
        "         0            0            20 2010-11-27 20:14:47  4471             1641        140\n",
        "         0            0             1 2010-08-01 13:02:47  3035             1502        500\n",
        "         0            0             1 2010-09-29 22:02:01  3913             1502        164\n",
        "         0            0            15 2010-09-11 22:55:08  3676             1753        500\n",
        "         0            0             1 2010-08-02 06:29:18  3082             1523        500\n",
        "         0            0             5 2010-11-20 06:16:30  4384             1523        554\n",
        "         0            0            20 2010-08-03 10:30:27  3192             1565        500\n",
        "         1            0            95 2010-08-16 08:35:03  3430             1655        500\n",
        "         1            0            35 2010-08-16 08:36:00  3432             1656        500\n",
        "         1            0            30 2010-08-16 08:37:06  3434             1657        500\n"
       ]
      }
     ],
     "prompt_number": 17
    },
    {
     "cell_type": "code",
     "collapsed": false,
     "input": [
      "query = \"\"\"\n",
      "SELECT myp.confidence as conf, count(myp.confidence) as cnt FROM (\n",
      "               select {0} from  mysql.predictions p \n",
      "                left outer join mysql.responses r\n",
      "                    on p.id = r.prediction_id \n",
      "                left outer join mysql.judgements j\n",
      "                    on p.id = j.prediction_id                 \n",
      "                where creator_id='{1}' \n",
      "                    AND j.id IS NOT NULL \n",
      "                    AND r.confidence IS NOT NULL\n",
      "                    AND j.outcome IS NOT NULL\n",
      "                    AND j.user_id='{1}'\n",
      "                    AND j.outcome='{2}'\n",
      ") as myp\n",
      "group by myp.confidence\n",
      "\"\"\"\n",
      "#Q is this really a good way to do this? Can sql do this for me better?\n",
      " in   = queryAsTable(query.format(\", \".join(columns), heroPredictor, 1), maxrows=0, how=2)\n",
      "falseP = queryAsTable(query.format(\", \".join(columns), heroPredictor, 0), maxrows=0, how=2)\n",
      "print \"trueP\\n\", trueP.to_string(index=None)\n",
      "print\n",
      "print \"falseP\\n\", falseP.to_string(index=None)"
     ],
     "language": "python",
     "metadata": {},
     "outputs": [
      {
       "output_type": "stream",
       "stream": "stdout",
       "text": [
        "trueP\n",
        " cnt  myp.conf\n",
        "   5         5\n",
        "   1         8\n",
        "   1         9\n",
        "   6        10\n",
        "   2        15\n",
        "   1        17\n",
        "   3        20\n",
        "   5        25\n",
        "  15        30\n",
        "   1        33\n",
        "   6        35\n",
        "   1        38\n",
        "  30        40\n",
        "   1        42\n",
        "  10        45\n",
        "  43        50\n",
        "   1        54\n",
        "  21        55\n",
        "  39        60\n",
        "   1        61\n",
        "   1        62\n",
        "   1        63\n",
        "  21        65\n",
        "   1        66\n",
        "  42        70\n",
        "  41        75\n",
        "   1        77\n",
        "   1        78\n",
        "  32        80\n",
        "   2        82\n",
        "  15        85\n",
        "   1        87\n",
        "   1        89\n",
        "  31        90\n",
        "   1        93\n",
        "   1        94\n",
        "  26        95\n",
        "   4        96\n",
        "   4        97\n",
        "   5        98\n",
        "  13        99\n",
        "   2       100\n",
        "\n",
        "falseP\n",
        " cnt  myp.conf\n",
        " 107         0\n",
        "  81         1\n",
        "  61         2\n",
        "  20         3\n",
        "  13         4\n",
        " 117         5\n",
        "   7         6\n",
        "   5         7\n",
        "  12         8\n",
        "   4         9\n",
        "  93        10\n",
        "   3        11\n",
        "   1        12\n",
        "   5        13\n",
        "  46        15\n",
        "   1        18\n",
        "   2        19\n",
        "  81        20\n",
        "  47        25\n",
        "   2        26\n",
        "   1        27\n",
        "   1        28\n",
        "   1        29\n",
        "  63        30\n",
        "   6        33\n",
        "  44        35\n",
        "   2        38\n",
        "  71        40\n",
        "  19        45\n",
        "   1        46\n",
        "   1        47\n",
        "   1        48\n",
        "  71        50\n",
        "   2        51\n",
        "   1        52\n",
        "  18        55\n",
        "  34        60\n",
        "  20        65\n",
        "  24        70\n",
        "  20        75\n",
        "  23        80\n",
        "   1        82\n",
        "   1        84\n",
        "   5        85\n",
        "   6        90\n",
        "   1        92\n",
        "   3        95\n",
        "   1        98\n",
        "   1        99\n",
        "   1       100\n"
       ]
      }
     ],
     "prompt_number": 18
    },
    {
     "cell_type": "markdown",
     "metadata": {},
     "source": [
      "Ok, so these are the predictions that were made, split into correct and incorrect and grouped by their confidence. To faithfully reproduce the PB graph as a first step we need to bin the predictions; rounding to the nearest multiple of 10 to begin with (0,10,20...) and folding the graph over on itself (10% confidence that it will happen = 90% confidence that it won't).\n",
      "\n",
      "This step is jsut for verification as I think that we'll probably get some interesting things when we try to look at an unfolded graph, and at changing the bin sizes. I think that the binning is a biased score as the feedback that people get is based on teh binned results so it encourages people to think in 10s."
     ]
    },
    {
     "cell_type": "code",
     "collapsed": false,
     "input": [
      "trueConfBins = {}\n",
      "for b in range(0,110,10):  \n",
      "    trueConfBins[b] = 0   #produces: {0: 0, 100: 0, 70: 0, 40: 0, 10: 0, 80: 0, 50: 0, 20: 0, 90: 0, 60: 0, 30: 0} (dicts are unordered)\n",
      "    \n",
      "falseConfBins = trueConfBins\n",
      "print \"true: \", trueConfBins\n",
      "print \"false:\", falseConfBins"
     ],
     "language": "python",
     "metadata": {},
     "outputs": [
      {
       "output_type": "stream",
       "stream": "stdout",
       "text": [
        "true:  {0: 0, 100: 0, 70: 0, 40: 0, 10: 0, 80: 0, 50: 0, 20: 0, 90: 0, 60: 0, 30: 0}\n",
        "false: {0: 0, 100: 0, 70: 0, 40: 0, 10: 0, 80: 0, 50: 0, 20: 0, 90: 0, 60: 0, 30: 0}\n"
       ]
      }
     ],
     "prompt_number": 67
    },
    {
     "cell_type": "markdown",
     "metadata": {},
     "source": [
      "These are the empty bins ready to fill up with values"
     ]
    },
    {
     "cell_type": "code",
     "collapsed": false,
     "input": [
      "def binConfidence(predictions):\n",
      "    confBins = {}\n",
      "    for b in range(0,110,10):  \n",
      "        confBins[b] = 0   #produces: {0: 0, 100: 0, 70: 0, 40: 0, 10: 0, 80: 0, 50: 0, 20: 0, 90: 0, 60: 0, 30: 0} (dicts are unordered)\n",
      "    \n",
      "    for p in predictions.values:\n",
      "        count = p[0]\n",
      "        conf  = p[1]\n",
      "        binNum = int(round(conf/10.0)*10)\n",
      "        confBins[binNum] += count\n",
      "    return confBins\n",
      "\n",
      "trueConfBins  = binConfidence(trueP)\n",
      "falseConfBins = binConfidence(falseP)\n",
      "\n",
      "print \"true: \", trueConfBins\n",
      "print \"false:\", falseConfBins\n"
     ],
     "language": "python",
     "metadata": {},
     "outputs": [
      {
       "output_type": "stream",
       "stream": "stdout",
       "text": [
        "true:  {0: 0, 100: 54, 70: 64, 40: 38, 10: 13, 80: 77, 50: 54, 20: 6, 90: 50, 60: 63, 30: 21}\n",
        "false: {0: 282, 100: 6, 70: 44, 40: 117, 10: 247, 80: 45, 50: 96, 20: 130, 90: 12, 60: 52, 30: 121}\n"
       ]
      }
     ],
     "prompt_number": 80
    },
    {
     "cell_type": "code",
     "collapsed": false,
     "input": [
      "trueDF = pd.DataFrame(trueConfBins.items(), columns=['Confidence', 'True_Prediction_count']).sort(columns=\"Confidence\")\n",
      "trueDF"
     ],
     "language": "python",
     "metadata": {},
     "outputs": [
      {
       "html": [
        "<div style=\"max-height:1000px;max-width:1500px;overflow:auto;\">\n",
        "<table border=\"1\" class=\"dataframe\">\n",
        "  <thead>\n",
        "    <tr style=\"text-align: right;\">\n",
        "      <th></th>\n",
        "      <th>Confidence</th>\n",
        "      <th>True_Prediction_count</th>\n",
        "    </tr>\n",
        "  </thead>\n",
        "  <tbody>\n",
        "    <tr>\n",
        "      <th>0 </th>\n",
        "      <td>   0</td>\n",
        "      <td>  0</td>\n",
        "    </tr>\n",
        "    <tr>\n",
        "      <th>4 </th>\n",
        "      <td>  10</td>\n",
        "      <td> 13</td>\n",
        "    </tr>\n",
        "    <tr>\n",
        "      <th>7 </th>\n",
        "      <td>  20</td>\n",
        "      <td>  6</td>\n",
        "    </tr>\n",
        "    <tr>\n",
        "      <th>10</th>\n",
        "      <td>  30</td>\n",
        "      <td> 21</td>\n",
        "    </tr>\n",
        "    <tr>\n",
        "      <th>3 </th>\n",
        "      <td>  40</td>\n",
        "      <td> 38</td>\n",
        "    </tr>\n",
        "    <tr>\n",
        "      <th>6 </th>\n",
        "      <td>  50</td>\n",
        "      <td> 54</td>\n",
        "    </tr>\n",
        "    <tr>\n",
        "      <th>9 </th>\n",
        "      <td>  60</td>\n",
        "      <td> 63</td>\n",
        "    </tr>\n",
        "    <tr>\n",
        "      <th>2 </th>\n",
        "      <td>  70</td>\n",
        "      <td> 64</td>\n",
        "    </tr>\n",
        "    <tr>\n",
        "      <th>5 </th>\n",
        "      <td>  80</td>\n",
        "      <td> 77</td>\n",
        "    </tr>\n",
        "    <tr>\n",
        "      <th>8 </th>\n",
        "      <td>  90</td>\n",
        "      <td> 50</td>\n",
        "    </tr>\n",
        "    <tr>\n",
        "      <th>1 </th>\n",
        "      <td> 100</td>\n",
        "      <td> 54</td>\n",
        "    </tr>\n",
        "  </tbody>\n",
        "</table>\n",
        "</div>"
       ],
       "output_type": "pyout",
       "prompt_number": 89,
       "text": [
        "    Confidence  True_Prediction_count\n",
        "0            0                      0\n",
        "4           10                     13\n",
        "7           20                      6\n",
        "10          30                     21\n",
        "3           40                     38\n",
        "6           50                     54\n",
        "9           60                     63\n",
        "2           70                     64\n",
        "5           80                     77\n",
        "8           90                     50\n",
        "1          100                     54"
       ]
      }
     ],
     "prompt_number": 89
    },
    {
     "cell_type": "code",
     "collapsed": false,
     "input": [
      "falseDF = pd.DataFrame(falseConfBins.items(), columns=['Confidence', 'False_Prediction_count']).sort(columns=\"Confidence\")\n",
      "falseDF"
     ],
     "language": "python",
     "metadata": {},
     "outputs": [
      {
       "html": [
        "<div style=\"max-height:1000px;max-width:1500px;overflow:auto;\">\n",
        "<table border=\"1\" class=\"dataframe\">\n",
        "  <thead>\n",
        "    <tr style=\"text-align: right;\">\n",
        "      <th></th>\n",
        "      <th>Confidence</th>\n",
        "      <th>False_Prediction_count</th>\n",
        "    </tr>\n",
        "  </thead>\n",
        "  <tbody>\n",
        "    <tr>\n",
        "      <th>0 </th>\n",
        "      <td>   0</td>\n",
        "      <td> 282</td>\n",
        "    </tr>\n",
        "    <tr>\n",
        "      <th>4 </th>\n",
        "      <td>  10</td>\n",
        "      <td> 247</td>\n",
        "    </tr>\n",
        "    <tr>\n",
        "      <th>7 </th>\n",
        "      <td>  20</td>\n",
        "      <td> 130</td>\n",
        "    </tr>\n",
        "    <tr>\n",
        "      <th>10</th>\n",
        "      <td>  30</td>\n",
        "      <td> 121</td>\n",
        "    </tr>\n",
        "    <tr>\n",
        "      <th>3 </th>\n",
        "      <td>  40</td>\n",
        "      <td> 117</td>\n",
        "    </tr>\n",
        "    <tr>\n",
        "      <th>6 </th>\n",
        "      <td>  50</td>\n",
        "      <td>  96</td>\n",
        "    </tr>\n",
        "    <tr>\n",
        "      <th>9 </th>\n",
        "      <td>  60</td>\n",
        "      <td>  52</td>\n",
        "    </tr>\n",
        "    <tr>\n",
        "      <th>2 </th>\n",
        "      <td>  70</td>\n",
        "      <td>  44</td>\n",
        "    </tr>\n",
        "    <tr>\n",
        "      <th>5 </th>\n",
        "      <td>  80</td>\n",
        "      <td>  45</td>\n",
        "    </tr>\n",
        "    <tr>\n",
        "      <th>8 </th>\n",
        "      <td>  90</td>\n",
        "      <td>  12</td>\n",
        "    </tr>\n",
        "    <tr>\n",
        "      <th>1 </th>\n",
        "      <td> 100</td>\n",
        "      <td>   6</td>\n",
        "    </tr>\n",
        "  </tbody>\n",
        "</table>\n",
        "</div>"
       ],
       "output_type": "pyout",
       "prompt_number": 90,
       "text": [
        "    Confidence  False_Prediction_count\n",
        "0            0                     282\n",
        "4           10                     247\n",
        "7           20                     130\n",
        "10          30                     121\n",
        "3           40                     117\n",
        "6           50                      96\n",
        "9           60                      52\n",
        "2           70                      44\n",
        "5           80                      45\n",
        "8           90                      12\n",
        "1          100                       6"
       ]
      }
     ],
     "prompt_number": 90
    },
    {
     "cell_type": "code",
     "collapsed": false,
     "input": [
      "conf_profile = pd.merge(trueDF, falseDF, on=\"Confidence\")\n",
      "conf_profile\n",
      "#http://pandas.pydata.org/pandas-docs/dev/merging.html#database-style-dataframe-joining-merging\n",
      "#conveniently this resets the indeces too!"
     ],
     "language": "python",
     "metadata": {},
     "outputs": [
      {
       "html": [
        "<div style=\"max-height:1000px;max-width:1500px;overflow:auto;\">\n",
        "<table border=\"1\" class=\"dataframe\">\n",
        "  <thead>\n",
        "    <tr style=\"text-align: right;\">\n",
        "      <th></th>\n",
        "      <th>Confidence</th>\n",
        "      <th>True_Prediction_count</th>\n",
        "      <th>False_Prediction_count</th>\n",
        "    </tr>\n",
        "  </thead>\n",
        "  <tbody>\n",
        "    <tr>\n",
        "      <th>0 </th>\n",
        "      <td>   0</td>\n",
        "      <td>  0</td>\n",
        "      <td> 282</td>\n",
        "    </tr>\n",
        "    <tr>\n",
        "      <th>1 </th>\n",
        "      <td>  10</td>\n",
        "      <td> 13</td>\n",
        "      <td> 247</td>\n",
        "    </tr>\n",
        "    <tr>\n",
        "      <th>2 </th>\n",
        "      <td>  20</td>\n",
        "      <td>  6</td>\n",
        "      <td> 130</td>\n",
        "    </tr>\n",
        "    <tr>\n",
        "      <th>3 </th>\n",
        "      <td>  30</td>\n",
        "      <td> 21</td>\n",
        "      <td> 121</td>\n",
        "    </tr>\n",
        "    <tr>\n",
        "      <th>4 </th>\n",
        "      <td>  40</td>\n",
        "      <td> 38</td>\n",
        "      <td> 117</td>\n",
        "    </tr>\n",
        "    <tr>\n",
        "      <th>5 </th>\n",
        "      <td>  50</td>\n",
        "      <td> 54</td>\n",
        "      <td>  96</td>\n",
        "    </tr>\n",
        "    <tr>\n",
        "      <th>6 </th>\n",
        "      <td>  60</td>\n",
        "      <td> 63</td>\n",
        "      <td>  52</td>\n",
        "    </tr>\n",
        "    <tr>\n",
        "      <th>7 </th>\n",
        "      <td>  70</td>\n",
        "      <td> 64</td>\n",
        "      <td>  44</td>\n",
        "    </tr>\n",
        "    <tr>\n",
        "      <th>8 </th>\n",
        "      <td>  80</td>\n",
        "      <td> 77</td>\n",
        "      <td>  45</td>\n",
        "    </tr>\n",
        "    <tr>\n",
        "      <th>9 </th>\n",
        "      <td>  90</td>\n",
        "      <td> 50</td>\n",
        "      <td>  12</td>\n",
        "    </tr>\n",
        "    <tr>\n",
        "      <th>10</th>\n",
        "      <td> 100</td>\n",
        "      <td> 54</td>\n",
        "      <td>   6</td>\n",
        "    </tr>\n",
        "  </tbody>\n",
        "</table>\n",
        "</div>"
       ],
       "output_type": "pyout",
       "prompt_number": 97,
       "text": [
        "    Confidence  True_Prediction_count  False_Prediction_count\n",
        "0            0                      0                     282\n",
        "1           10                     13                     247\n",
        "2           20                      6                     130\n",
        "3           30                     21                     121\n",
        "4           40                     38                     117\n",
        "5           50                     54                      96\n",
        "6           60                     63                      52\n",
        "7           70                     64                      44\n",
        "8           80                     77                      45\n",
        "9           90                     50                      12\n",
        "10         100                     54                       6"
       ]
      }
     ],
     "prompt_number": 97
    },
    {
     "cell_type": "code",
     "collapsed": false,
     "input": [
      "conf_profile.set_index('Confidence').plot(kind='bar', stacked=True)"
     ],
     "language": "python",
     "metadata": {},
     "outputs": [
      {
       "output_type": "pyout",
       "prompt_number": 104,
       "text": [
        "<matplotlib.axes.AxesSubplot at 0x64c5190>"
       ]
      },
      {
       "output_type": "display_data",
       "png": "[encoded data removed]"
      }
     ],
     "prompt_number": 104
    },
    {
     "cell_type": "markdown",
     "metadata": {},
     "source": [
      "We would expect there to be more wrong below the 50% mark, so that's good. Obviously this person is keen on predicting that unlikely things won't happen!\n",
      "\n",
      "This is a little hard to read in terms of assessing their overall calibration as we cant mentally scale things in our heads so well; lets transform the data into percentages and look at it again."
     ]
    },
    {
     "cell_type": "code",
     "collapsed": false,
     "input": [
      "conf_profile[\"PredictionCountTotal\"] = conf_profile[\"True_Prediction_count\"] + conf_profile[\"False_Prediction_count\"]\n",
      "conf_profile[\"truePC\"]  = conf_profile[\"True_Prediction_count\"] / conf_profile[\"PredictionCountTotal\"]\n",
      "conf_profile[\"falsePC\"] = conf_profile[\"False_Prediction_count\"] / conf_profile[\"PredictionCountTotal\"]\n",
      "def makeLables(mid):\n",
      "    if mid == 0:\n",
      "        return \"{}-{}\".format(mid, mid+5)\n",
      "    elif mid == 100:\n",
      "        return \"{}-{}\".format(mid-5, mid)\n",
      "    else:\n",
      "        return \"{}-{}\".format(mid-5, mid+5)\n",
      "conf_profile[\"Confidence\"]= conf_profile[\"Confidence\"].map(lambda x: makeLables(x))\n",
      "conf_profile[\"check\"] = conf_profile[\"truePC\"] + conf_profile[\"falsePC\"]\n",
      "conf_profile"
     ],
     "language": "python",
     "metadata": {},
     "outputs": [
      {
       "html": [
        "<div style=\"max-height:1000px;max-width:1500px;overflow:auto;\">\n",
        "<table border=\"1\" class=\"dataframe\">\n",
        "  <thead>\n",
        "    <tr style=\"text-align: right;\">\n",
        "      <th></th>\n",
        "      <th>Confidence</th>\n",
        "      <th>True_Prediction_count</th>\n",
        "      <th>False_Prediction_count</th>\n",
        "      <th>PredictionCountTotal</th>\n",
        "      <th>truePC</th>\n",
        "      <th>falsePC</th>\n",
        "      <th>check</th>\n",
        "      <th>colLabel</th>\n",
        "    </tr>\n",
        "  </thead>\n",
        "  <tbody>\n",
        "    <tr>\n",
        "      <th>0 </th>\n",
        "      <td>    0-5</td>\n",
        "      <td>  0</td>\n",
        "      <td> 282</td>\n",
        "      <td> 282</td>\n",
        "      <td> 0.000000</td>\n",
        "      <td> 1.000000</td>\n",
        "      <td> 1</td>\n",
        "      <td>    0-5</td>\n",
        "    </tr>\n",
        "    <tr>\n",
        "      <th>1 </th>\n",
        "      <td>   5-15</td>\n",
        "      <td> 13</td>\n",
        "      <td> 247</td>\n",
        "      <td> 260</td>\n",
        "      <td> 0.050000</td>\n",
        "      <td> 0.950000</td>\n",
        "      <td> 1</td>\n",
        "      <td>   5-15</td>\n",
        "    </tr>\n",
        "    <tr>\n",
        "      <th>2 </th>\n",
        "      <td>  15-25</td>\n",
        "      <td>  6</td>\n",
        "      <td> 130</td>\n",
        "      <td> 136</td>\n",
        "      <td> 0.044118</td>\n",
        "      <td> 0.955882</td>\n",
        "      <td> 1</td>\n",
        "      <td>  15-25</td>\n",
        "    </tr>\n",
        "    <tr>\n",
        "      <th>3 </th>\n",
        "      <td>  25-35</td>\n",
        "      <td> 21</td>\n",
        "      <td> 121</td>\n",
        "      <td> 142</td>\n",
        "      <td> 0.147887</td>\n",
        "      <td> 0.852113</td>\n",
        "      <td> 1</td>\n",
        "      <td>  25-35</td>\n",
        "    </tr>\n",
        "    <tr>\n",
        "      <th>4 </th>\n",
        "      <td>  35-45</td>\n",
        "      <td> 38</td>\n",
        "      <td> 117</td>\n",
        "      <td> 155</td>\n",
        "      <td> 0.245161</td>\n",
        "      <td> 0.754839</td>\n",
        "      <td> 1</td>\n",
        "      <td>  35-45</td>\n",
        "    </tr>\n",
        "    <tr>\n",
        "      <th>5 </th>\n",
        "      <td>  45-55</td>\n",
        "      <td> 54</td>\n",
        "      <td>  96</td>\n",
        "      <td> 150</td>\n",
        "      <td> 0.360000</td>\n",
        "      <td> 0.640000</td>\n",
        "      <td> 1</td>\n",
        "      <td>  45-55</td>\n",
        "    </tr>\n",
        "    <tr>\n",
        "      <th>6 </th>\n",
        "      <td>  55-65</td>\n",
        "      <td> 63</td>\n",
        "      <td>  52</td>\n",
        "      <td> 115</td>\n",
        "      <td> 0.547826</td>\n",
        "      <td> 0.452174</td>\n",
        "      <td> 1</td>\n",
        "      <td>  55-65</td>\n",
        "    </tr>\n",
        "    <tr>\n",
        "      <th>7 </th>\n",
        "      <td>  65-75</td>\n",
        "      <td> 64</td>\n",
        "      <td>  44</td>\n",
        "      <td> 108</td>\n",
        "      <td> 0.592593</td>\n",
        "      <td> 0.407407</td>\n",
        "      <td> 1</td>\n",
        "      <td>  65-75</td>\n",
        "    </tr>\n",
        "    <tr>\n",
        "      <th>8 </th>\n",
        "      <td>  75-85</td>\n",
        "      <td> 77</td>\n",
        "      <td>  45</td>\n",
        "      <td> 122</td>\n",
        "      <td> 0.631148</td>\n",
        "      <td> 0.368852</td>\n",
        "      <td> 1</td>\n",
        "      <td>  75-85</td>\n",
        "    </tr>\n",
        "    <tr>\n",
        "      <th>9 </th>\n",
        "      <td>  85-95</td>\n",
        "      <td> 50</td>\n",
        "      <td>  12</td>\n",
        "      <td>  62</td>\n",
        "      <td> 0.806452</td>\n",
        "      <td> 0.193548</td>\n",
        "      <td> 1</td>\n",
        "      <td>  85-95</td>\n",
        "    </tr>\n",
        "    <tr>\n",
        "      <th>10</th>\n",
        "      <td> 95-100</td>\n",
        "      <td> 54</td>\n",
        "      <td>   6</td>\n",
        "      <td>  60</td>\n",
        "      <td> 0.900000</td>\n",
        "      <td> 0.100000</td>\n",
        "      <td> 1</td>\n",
        "      <td> 95-100</td>\n",
        "    </tr>\n",
        "  </tbody>\n",
        "</table>\n",
        "</div>"
       ],
       "output_type": "pyout",
       "prompt_number": 140,
       "text": [
        "   Confidence  True_Prediction_count  False_Prediction_count  \\\n",
        "0         0-5                      0                     282   \n",
        "1        5-15                     13                     247   \n",
        "2       15-25                      6                     130   \n",
        "3       25-35                     21                     121   \n",
        "4       35-45                     38                     117   \n",
        "5       45-55                     54                      96   \n",
        "6       55-65                     63                      52   \n",
        "7       65-75                     64                      44   \n",
        "8       75-85                     77                      45   \n",
        "9       85-95                     50                      12   \n",
        "10     95-100                     54                       6   \n",
        "\n",
        "    PredictionCountTotal    truePC   falsePC  check colLabel  \n",
        "0                    282  0.000000  1.000000      1      0-5  \n",
        "1                    260  0.050000  0.950000      1     5-15  \n",
        "2                    136  0.044118  0.955882      1    15-25  \n",
        "3                    142  0.147887  0.852113      1    25-35  \n",
        "4                    155  0.245161  0.754839      1    35-45  \n",
        "5                    150  0.360000  0.640000      1    45-55  \n",
        "6                    115  0.547826  0.452174      1    55-65  \n",
        "7                    108  0.592593  0.407407      1    65-75  \n",
        "8                    122  0.631148  0.368852      1    75-85  \n",
        "9                     62  0.806452  0.193548      1    85-95  \n",
        "10                    60  0.900000  0.100000      1   95-100  "
       ]
      }
     ],
     "prompt_number": 140
    },
    {
     "cell_type": "code",
     "collapsed": false,
     "input": [
      "#conf_profile[\"Confidence\", \"truePC\", \"falsePC\"].set_index('Confidence').plot(kind='bar', stacked=True)\n",
      "conf_profile.loc[:,[\"Confidence\", \"truePC\", \"falsePC\"]].set_index('Confidence').plot(kind='bar', stacked=True)"
     ],
     "language": "python",
     "metadata": {},
     "outputs": [
      {
       "output_type": "pyout",
       "prompt_number": 141,
       "text": [
        "<matplotlib.axes.AxesSubplot at 0x6ef9a90>"
       ]
      },
      {
       "output_type": "display_data",
       "png": "[encoded data removed]"
      }
     ],
     "prompt_number": 141
    },
    {
     "cell_type": "code",
     "collapsed": false,
     "input": [
      "plt.plot([0, 10], [0, 1], 'k-', lw=1)\n",
      "plt.scatter(    [0,1,2,3,4,5,6,7,8,9,10],            #vector of y values\n",
      "                conf_profile.truePC,                 #vector of x values\n",
      "                s=conf_profile.PredictionCountTotal) #vector of sizes\n",
      "\n",
      "pylab.ylim([0,1])\n",
      "pylab.xlim([0,10])"
     ],
     "language": "python",
     "metadata": {},
     "outputs": [
      {
       "output_type": "pyout",
       "prompt_number": 149,
       "text": [
        "(0, 10)"
       ]
      },
      {
       "output_type": "display_data",
       "png": "[encoded data removed]"
      }
     ],
     "prompt_number": 149
    },
    {
     "cell_type": "markdown",
     "metadata": {},
     "source": [
      "This is essentially the PB graph, but not folded onto itself to represent only positively worded predictions. \n",
      "\n",
      "The black line represents the perfect calibration line, so this person is pretty well calibrated, but a little underconfident on all levels."
     ]
    },
    {
     "cell_type": "markdown",
     "metadata": {},
     "source": [
      "------------------\n",
      "\n",
      "So, in trying to find myself this seems promising:"
     ]
    },
    {
     "cell_type": "code",
     "collapsed": false,
     "input": [
      "q = queryAsTable(\"\"\"\n",
      "select creator_id, count(creator_id), mysql.users.id,mysql.users.timezone from  mysql.predictions \n",
      "\tleft outer join mysql.users on creator_id = mysql.users.id\n",
      "\t\twhere timezone like '%syd%'\n",
      "\tgroup by creator_id order by count(creator_id) desc\n",
      "\"\"\", maxrows=10, how=0)\n",
      "print q.to_string(index=None)"
     ],
     "language": "python",
     "metadata": {},
     "outputs": [
      {
       "output_type": "stream",
       "stream": "stdout",
       "text": [
        "     0    1      2       3\n",
        "  4758  860   4758  Sydney\n",
        "   292  345    292  Sydney\n",
        "   591   59    591  Sydney\n",
        "   585   21    585  Sydney\n",
        "   605   15    605  Sydney\n",
        " 12440    2  12440  Sydney\n"
       ]
      }
     ],
     "prompt_number": 20
    },
    {
     "cell_type": "code",
     "collapsed": false,
     "input": [
      "q = queryAsTable(\"\"\"\n",
      "select * from  mysql.users where id='292'\n",
      "\"\"\", maxrows=10, how=2)\n",
      "print q.to_string(index=None)"
     ],
     "language": "python",
     "metadata": {},
     "outputs": [
      {
       "output_type": "stream",
       "stream": "stdout",
       "text": [
        "   users.created_at  users.id  users.private_default users.timezone    users.updated_at\n",
        "2009-12-26 14:22:35       292                      0         Sydney 2013-12-13 13:34:10\n"
       ]
      }
     ],
     "prompt_number": 21
    },
    {
     "cell_type": "markdown",
     "metadata": {},
     "source": [
      "But doesn't seem to be right. :("
     ]
    },
    {
     "cell_type": "markdown",
     "metadata": {},
     "source": [
      "So, lets try to assess the calibration of the person with the most predictions"
     ]
    },
    {
     "cell_type": "code",
     "collapsed": false,
     "input": [
      "q = queryAsTable(\"\"\"select creator_id, count(creator_id) from  mysql.predictions group by creator_id order by count(creator_id) desc\"\"\", maxrows=1)\n",
      "print q.to_string(index=None)"
     ],
     "language": "python",
     "metadata": {},
     "outputs": [
      {
       "output_type": "stream",
       "stream": "stdout",
       "text": [
        " count(creator_id)  predictions.creator_id\n",
        "              1844                     500\n"
       ]
      }
     ],
     "prompt_number": 22
    },
    {
     "cell_type": "code",
     "collapsed": false,
     "input": [
      "q = queryAsTable(\"\"\"select * from predictions where creator_id='500'\"\"\", maxrows=10, how=1)\n",
      "print q.to_string(index=None)"
     ],
     "language": "python",
     "metadata": {},
     "outputs": [
      {
       "output_type": "stream",
       "stream": "stdout",
       "text": [
        "         created_at  creator_id            deadline    id  private          updated_at                                  uuid  version  withdrawn\n",
        "2010-07-29 18:13:36         500 2010-09-01 12:00:00  1415        0 2010-07-29 18:13:36  c5cc3145-8a7d-402a-ab81-6a7774f5da95        1          0\n",
        "2010-07-29 18:19:16         500 2029-01-01 12:00:00  1416        0 2010-07-29 18:19:16  2b8d4d1e-e5d5-4f3c-aa7f-97ffe0e57872        1          0\n",
        "2010-07-29 18:20:17         500 2030-01-01 12:00:00  1417        0 2010-07-29 18:20:17  ea7dac9a-ff11-4393-8d4d-da5eab9b4b0e        1          0\n",
        "2010-07-29 18:22:20         500 2012-01-01 12:00:00  1418        0 2010-07-29 18:22:20  f0f6e1a3-ac36-48ac-8434-eb1977746e4f        1          0\n",
        "2010-07-29 18:23:24         500 2010-12-31 12:00:00  1419        0 2010-07-29 18:23:24  0f40a983-8f9c-4879-9900-b686644d800e        1          0\n",
        "2010-07-29 18:25:30         500 2150-01-01 12:00:00  1420        0 2010-07-29 18:25:30  94e15ccd-5d9d-452a-9ea8-104398650baf        1          0\n",
        "2010-07-29 18:26:17         500 2020-01-01 12:00:00  1421        0 2010-07-29 18:26:17  942c243e-1cb6-4b6f-85d3-c28098297895        1          0\n",
        "2010-07-29 18:28:08         500 2022-12-31 12:00:00  1422        0 2010-07-29 18:28:08  e7bf8ee9-ad66-4b27-bfd3-805b745c1c0d        1          0\n",
        "2010-07-29 18:37:41         500 2025-01-01 12:00:00  1423        0 2010-07-29 18:37:41  c1c40139-923f-4f3f-bdba-db96e098e7ff        1          0\n",
        "2010-07-29 18:39:08         500 2014-06-30 17:19:18  1424        0 2013-06-30 17:19:18  54494968-67e4-4dc0-af0e-79eb43213e40        2          0\n"
       ]
      }
     ],
     "prompt_number": 23
    },
    {
     "cell_type": "code",
     "collapsed": false,
     "input": [],
     "language": "python",
     "metadata": {},
     "outputs": [],
     "prompt_number": 23
    },
    {
     "cell_type": "code",
     "collapsed": false,
     "input": [
      "q = queryAsTable(\"\"\"select * from  mysql.predictions p\n",
      "                        left outer join mysql.responses r\n",
      "                            on p.id = r.prediction_id \n",
      "                        left outer join mysql.judgements j\n",
      "                            on p.id = j.prediction_id \"\"\", \n",
      "                    maxrows=10, how=0)\n",
      "print q.to_string(index=None)"
     ],
     "language": "python",
     "metadata": {},
     "outputs": [
      {
       "output_type": "stream",
       "stream": "stdout",
       "text": [
        " 0                   1                   2                   3   4                                     5   6   7   8   9   10  11                  12                  13  14   15  16  17  18                  19                  20\n",
        "  1 2008-06-20 12:00:00 2008-06-20 03:46:16 2008-08-14 02:28:40   1  d52eeaf6-cb20-456f-a375-bec2d1acc44d   0   0   1   1   1  80 2008-06-20 03:46:16 2008-08-01 09:18:02   1    1   1 NaN   1 2008-08-14 02:28:40 2008-08-14 02:28:40\n",
        "  2 2008-06-23 12:00:00 2008-06-20 04:37:13 2008-08-01 09:18:01   2  86530ca2-fbd5-47a8-b2d8-12110e05c3b4   0   0   1   2   2  60 2008-06-20 04:37:13 2008-08-01 09:18:02   2    2   2 NaN   0 2008-08-01 09:18:01 2008-08-01 09:18:01\n",
        "  3 2008-06-30 12:00:00 2008-06-20 04:38:35 2008-08-01 09:18:01   3  d5adb0ee-ecf2-48ce-88ce-7b40b5b2179f   0   0   1   3   3  80 2008-06-20 04:38:35 2008-08-01 09:18:02   3    3   3 NaN   0 2008-08-01 09:18:01 2008-08-01 09:18:01\n",
        "  4 2008-06-19 12:00:00 2008-06-20 04:40:06 2008-08-01 09:18:01   3  100f4ff6-4ee7-44e8-aa2d-5394dcaead7e   0   0   1   4   4  80 2008-06-20 04:40:06 2008-08-01 09:18:02   3    4   4 NaN   0 2008-08-01 09:18:01 2008-08-01 09:18:01\n",
        "  5 2008-06-20 06:08:31 2008-06-20 05:08:31 2008-08-01 09:18:01   4  c0314cd4-070a-4d4b-ae3c-ec03ddbdc621   0   0   1   5   5  70 2008-06-20 05:08:31 2008-08-01 09:18:02   4    5   5 NaN   1 2008-08-01 09:18:01 2008-08-01 09:18:01\n",
        "  6 2008-06-26 12:00:00 2008-06-20 05:24:24 2008-08-01 09:18:01   2  5c73114a-e22d-4a5a-9026-03f45acc0f19   0   0   1   6   6  70 2008-06-20 05:24:24 2008-08-01 09:18:02   2    6   6 NaN   0 2008-08-01 09:18:01 2008-08-01 09:18:01\n",
        "  7 2008-12-30 12:00:00 2008-06-20 06:46:23 2008-08-01 09:18:01   5  54df1626-bf7a-4ae9-b162-826d2a67fec1   0   0   1   7   7  90 2008-06-20 06:46:23 2008-08-01 09:18:02   5  275   7   1   1 2009-01-14 10:49:01 2009-01-14 10:49:01\n",
        "  7 2008-12-30 12:00:00 2008-06-20 06:46:23 2008-08-01 09:18:01   5  54df1626-bf7a-4ae9-b162-826d2a67fec1   0   0   1  15   7  30 2008-06-23 22:47:49 2008-08-01 09:18:02   1  275   7   1   1 2009-01-14 10:49:01 2009-01-14 10:49:01\n",
        "  7 2008-12-30 12:00:00 2008-06-20 06:46:23 2008-08-01 09:18:01   5  54df1626-bf7a-4ae9-b162-826d2a67fec1   0   0   1  30   7  40 2008-07-04 09:00:42 2008-08-01 09:18:02   4  275   7   1   1 2009-01-14 10:49:01 2009-01-14 10:49:01\n",
        "  7 2008-12-30 12:00:00 2008-06-20 06:46:23 2008-08-01 09:18:01   5  54df1626-bf7a-4ae9-b162-826d2a67fec1   0   0   1  37   7  40 2008-07-06 23:04:24 2008-08-01 09:18:03   2  275   7   1   1 2009-01-14 10:49:01 2009-01-14 10:49:01\n"
       ]
      }
     ],
     "prompt_number": 24
    },
    {
     "cell_type": "code",
     "collapsed": false,
     "input": [
      "#rewritten to remove ambiguities\n",
      "q = queryAsTable(\"\"\"select * from  mysql.predictions \n",
      "                        left outer join mysql.responses\n",
      "                            on mysql.predictions.id = mysql.responses.prediction_id \n",
      "                        left outer join mysql.judgements\n",
      "                            on mysql.predictions .id = mysql.judgements.prediction_id \"\"\", \n",
      "                    maxrows=10, how=2)\n",
      "keys = q.keys()\n",
      "for idx, key in enumerate(keys): \n",
      "    print idx,key"
     ],
     "language": "python",
     "metadata": {},
     "outputs": [
      {
       "output_type": "stream",
       "stream": "stdout",
       "text": [
        "0 judgements.created_at\n",
        "1 judgements.id\n",
        "2 judgements.outcome\n",
        "3 judgements.prediction_id\n",
        "4 judgements.updated_at\n",
        "5 judgements.user_id\n",
        "6 predictions.created_at\n",
        "7 predictions.creator_id\n",
        "8 predictions.deadline\n",
        "9 predictions.id\n",
        "10 predictions.private\n",
        "11 predictions.updated_at\n",
        "12 predictions.uuid\n",
        "13 predictions.version\n",
        "14 predictions.withdrawn\n",
        "15 responses.confidence\n",
        "16 responses.created_at\n",
        "17 responses.id\n",
        "18 responses.prediction_id\n",
        "19 responses.updated_at\n",
        "20 responses.user_id\n"
       ]
      }
     ],
     "prompt_number": 25
    },
    {
     "cell_type": "code",
     "collapsed": false,
     "input": [
      "\"\"\"\n",
      "full potential list to get interesting values from:\n",
      "                        mysql.judgements.created_at,\n",
      "                        mysql.judgements.created_at,\n",
      "                        mysql.judgements.created_at,\n",
      "                        mysql.judgements.id,\n",
      "                        mysql.judgements.outcome,\n",
      "                        mysql.judgements.prediction_id,\n",
      "                        mysql.judgements.updated_at,\n",
      "                        mysql.judgements.user_id,\n",
      "                        mysql.predictions.created_at,\n",
      "                        mysql.predictions.creator_id,\n",
      "                        mysql.predictions.deadline,\n",
      "                        mysql.predictions.id,\n",
      "                        mysql.predictions.private,\n",
      "                        mysql.predictions.updated_at,\n",
      "                        mysql.predictions.uuid,\n",
      "                        mysql.predictions.version,\n",
      "                        mysql.predictions.withdrawn,\n",
      "                        mysql.responses.confidence,\n",
      "                        mysql.responses.created_at,\n",
      "                        mysql.responses.id,\n",
      "                        mysql.responses.prediction_id,\n",
      "                        mysql.responses.updated_at,\n",
      "                        mysql.responses.user_id\n",
      "first cull: remove created at and updated at columns\n",
      "\"\"\"\n",
      "q = queryAsTable(\"\"\"select \n",
      "\n",
      "                        \n",
      "                        mysql.judgements.id,\n",
      "                        mysql.judgements.outcome,\n",
      "                        mysql.judgements.prediction_id,\n",
      "                        \n",
      "                        mysql.judgements.user_id,\n",
      "                        \n",
      "                        mysql.predictions.creator_id,\n",
      "                        mysql.predictions.deadline,\n",
      "                        mysql.predictions.id,\n",
      "                        mysql.predictions.private,\n",
      "                        \n",
      "                        \n",
      "                        mysql.predictions.version,\n",
      "                        mysql.predictions.withdrawn,\n",
      "                        mysql.responses.confidence,\n",
      "                        \n",
      "                        mysql.responses.id,\n",
      "                        mysql.responses.prediction_id,\n",
      "                        \n",
      "                        mysql.responses.user_id\n",
      "                    from  mysql.predictions \n",
      "                    left outer join mysql.responses\n",
      "                            on mysql.predictions.id = mysql.responses.prediction_id \n",
      "                        left outer join mysql.judgements\n",
      "                            on mysql.predictions .id = mysql.judgements.prediction_id \"\"\", \n",
      "                    maxrows=10, how=1)\n",
      "print q.to_string(index=None)"
     ],
     "language": "python",
     "metadata": {},
     "outputs": [
      {
       "output_type": "stream",
       "stream": "stdout",
       "text": [
        " confidence  creator_id            deadline   id  outcome  prediction_id  predictions.id  private  responses.id  responses.prediction_id  responses.user_id  user_id  version  withdrawn\n",
        "         80           1 2008-06-20 12:00:00    1        1              1               1        0             1                        1                  1      NaN        1          0\n",
        "         60           2 2008-06-23 12:00:00    2        0              2               2        0             2                        2                  2      NaN        1          0\n",
        "         80           3 2008-06-30 12:00:00    3        0              3               3        0             3                        3                  3      NaN        1          0\n",
        "         80           3 2008-06-19 12:00:00    4        0              4               4        0             4                        4                  3      NaN        1          0\n",
        "         70           4 2008-06-20 06:08:31    5        1              5               5        0             5                        5                  4      NaN        1          0\n",
        "         70           2 2008-06-26 12:00:00    6        0              6               6        0             6                        6                  2      NaN        1          0\n",
        "         90           5 2008-12-30 12:00:00  275        1              7               7        0             7                        7                  5        1        1          0\n",
        "         30           5 2008-12-30 12:00:00  275        1              7               7        0            15                        7                  1        1        1          0\n",
        "         40           5 2008-12-30 12:00:00  275        1              7               7        0            30                        7                  4        1        1          0\n",
        "         40           5 2008-12-30 12:00:00  275        1              7               7        0            37                        7                  2        1        1          0\n"
       ]
      }
     ],
     "prompt_number": 26
    },
    {
     "cell_type": "markdown",
     "metadata": {},
     "source": []
    },
    {
     "cell_type": "code",
     "collapsed": false,
     "input": [],
     "language": "python",
     "metadata": {},
     "outputs": [],
     "prompt_number": 26
    },
    {
     "cell_type": "markdown",
     "metadata": {},
     "source": []
    },
    {
     "cell_type": "code",
     "collapsed": false,
     "input": [],
     "language": "python",
     "metadata": {},
     "outputs": [],
     "prompt_number": 26
    },
    {
     "cell_type": "code",
     "collapsed": false,
     "input": [],
     "language": "python",
     "metadata": {},
     "outputs": [],
     "prompt_number": 26
    },
    {
     "cell_type": "code",
     "collapsed": false,
     "input": [],
     "language": "python",
     "metadata": {},
     "outputs": [],
     "prompt_number": 26
    },
    {
     "cell_type": "code",
     "collapsed": false,
     "input": [],
     "language": "python",
     "metadata": {},
     "outputs": [],
     "prompt_number": 26
    },
    {
     "cell_type": "code",
     "collapsed": false,
     "input": [],
     "language": "python",
     "metadata": {},
     "outputs": [],
     "prompt_number": 26
    },
    {
     "cell_type": "code",
     "collapsed": false,
     "input": [],
     "language": "python",
     "metadata": {},
     "outputs": [],
     "prompt_number": 26
    }
   ],
   "metadata": {}
  }
 ]
}