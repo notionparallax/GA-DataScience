{
 "metadata": {
  "name": "PB exploration"
 },
 "nbformat": 3,
 "nbformat_minor": 0,
 "worksheets": [
  {
   "cells": [
    {
     "cell_type": "code",
     "collapsed": false,
     "input": [
      "# using the tutorial found here:\n",
      "# http://mysql-python.sourceforge.net/MySQLdb.html\n",
      "\n",
      "import MySQLdb\n",
      "import pandas as pd"
     ],
     "language": "python",
     "metadata": {},
     "outputs": [],
     "prompt_number": 24
    },
    {
     "cell_type": "markdown",
     "metadata": {},
     "source": [
      "# tables #\n",
      "This section goes through the tables to get an idea of what's going on inside them"
     ]
    },
    {
     "cell_type": "code",
     "collapsed": false,
     "input": [
      "def queryAsTable(query, maxrows=5, how=2):\n",
      "    \"\"\"This queries a db and returns the response as a pandas dataframe\"\"\"\n",
      "    # Open database connection\n",
      "    db = MySQLdb.connect(user = 'root', \n",
      "                         passwd = 'password',\n",
      "                         db = 'mysql', \n",
      "                         host = 'localhost')\n",
      "    db.query(query)\n",
      "    result = db.store_result()\n",
      "    rdict = list(result.fetch_row(maxrows=maxrows, how=how)) #max=0 means all, how=0 means tuple, how=1-dict, how=2 dict with fully qualified names\n",
      "    df = pd.DataFrame(rdict)\n",
      "    # disconnect from server\n",
      "    db.close()\n",
      "    return df"
     ],
     "language": "python",
     "metadata": {},
     "outputs": [],
     "prompt_number": 25
    },
    {
     "cell_type": "code",
     "collapsed": false,
     "input": [
      "print queryAsTable(\"\"\"SELECT table_name,table_rows FROM INFORMATION_SCHEMA.TABLES \n",
      "                        WHERE TABLE_TYPE='BASE TABLE' and TABLE_SCHEMA='mysql' \n",
      "                        ORDER By  table_rows DESC\"\"\", maxrows=10).to_string(index=None)\n"
     ],
     "language": "python",
     "metadata": {},
     "outputs": [
      {
       "output_type": "stream",
       "stream": "stdout",
       "text": [
        "TABLES.table_name  TABLES.table_rows\n",
        "        responses              45507\n",
        "            users              22860\n",
        "      predictions              22542\n",
        "       judgements              10986\n",
        "    help_relation               1047\n",
        "       help_topic                511\n",
        "     help_keyword                467\n",
        "    help_category                 40\n",
        "             user                  7\n",
        "      general_log                  2\n"
       ]
      }
     ],
     "prompt_number": 26
    },
    {
     "cell_type": "markdown",
     "metadata": {},
     "source": [
      "So it looks like there's not really any point thinking about any tables other than responses, predictions, users and judgements.\n",
      "\n",
      "The help tables seem to be mysql help, not predictionbook help!"
     ]
    },
    {
     "cell_type": "markdown",
     "metadata": {},
     "source": [
      "## responses ##"
     ]
    },
    {
     "cell_type": "code",
     "collapsed": false,
     "input": [
      "print queryAsTable(\"\"\"select * from  mysql.responses\"\"\", maxrows=10).to_string(index=None)"
     ],
     "language": "python",
     "metadata": {},
     "outputs": [
      {
       "output_type": "stream",
       "stream": "stdout",
       "text": [
        " responses.confidence responses.created_at  responses.id  responses.prediction_id responses.updated_at  responses.user_id\n",
        "                   80  2008-06-20 03:46:16             1                        1  2008-08-01 09:18:02                  1\n",
        "                   60  2008-06-20 04:37:13             2                        2  2008-08-01 09:18:02                  2\n",
        "                   80  2008-06-20 04:38:35             3                        3  2008-08-01 09:18:02                  3\n",
        "                   80  2008-06-20 04:40:06             4                        4  2008-08-01 09:18:02                  3\n",
        "                   70  2008-06-20 05:08:31             5                        5  2008-08-01 09:18:02                  4\n",
        "                   70  2008-06-20 05:24:24             6                        6  2008-08-01 09:18:02                  2\n",
        "                   90  2008-06-20 06:46:23             7                        7  2008-08-01 09:18:02                  5\n",
        "                   80  2008-06-20 11:43:07             8                        8  2008-08-01 09:18:02                  6\n",
        "                   95  2008-06-20 11:47:54             9                        9  2008-08-01 09:18:02                  6\n",
        "                   78  2008-06-20 12:12:28            10                       10  2008-08-01 09:18:02                  7\n"
       ]
      }
     ],
     "prompt_number": 27
    },
    {
     "cell_type": "markdown",
     "metadata": {},
     "source": [
      "## predictions ##"
     ]
    },
    {
     "cell_type": "code",
     "collapsed": false,
     "input": [
      "q = queryAsTable(\"\"\"select * from  mysql.predictions\"\"\", maxrows=10, how=0)\n",
      "print q.to_string(index=None)"
     ],
     "language": "python",
     "metadata": {},
     "outputs": [
      {
       "output_type": "stream",
       "stream": "stdout",
       "text": [
        "  0                   1                   2                   3  4                                     5  6  7  8\n",
        "  1 2008-06-20 12:00:00 2008-06-20 03:46:16 2008-08-14 02:28:40  1  d52eeaf6-cb20-456f-a375-bec2d1acc44d  0  0  1\n",
        "  2 2008-06-23 12:00:00 2008-06-20 04:37:13 2008-08-01 09:18:01  2  86530ca2-fbd5-47a8-b2d8-12110e05c3b4  0  0  1\n",
        "  3 2008-06-30 12:00:00 2008-06-20 04:38:35 2008-08-01 09:18:01  3  d5adb0ee-ecf2-48ce-88ce-7b40b5b2179f  0  0  1\n",
        "  4 2008-06-19 12:00:00 2008-06-20 04:40:06 2008-08-01 09:18:01  3  100f4ff6-4ee7-44e8-aa2d-5394dcaead7e  0  0  1\n",
        "  5 2008-06-20 06:08:31 2008-06-20 05:08:31 2008-08-01 09:18:01  4  c0314cd4-070a-4d4b-ae3c-ec03ddbdc621  0  0  1\n",
        "  6 2008-06-26 12:00:00 2008-06-20 05:24:24 2008-08-01 09:18:01  2  5c73114a-e22d-4a5a-9026-03f45acc0f19  0  0  1\n",
        "  7 2008-12-30 12:00:00 2008-06-20 06:46:23 2008-08-01 09:18:01  5  54df1626-bf7a-4ae9-b162-826d2a67fec1  0  0  1\n",
        "  8 2008-08-01 12:00:00 2008-06-20 11:43:07 2008-08-01 09:18:01  6  d5fbc343-9de5-41a2-ba89-b599bf60ae81  0  0  1\n",
        "  9 2013-01-06 12:00:00 2008-06-20 11:47:54 2013-01-26 01:15:36  6  ffa789d4-c40e-489e-af69-7000ce34cbf0  0  1  2\n",
        " 10 2013-06-20 22:00:00 2008-06-20 12:12:28 2013-11-01 18:38:07  7  19128b35-38ac-4748-9a44-42cbda3309fb  0  1  2\n"
       ]
      }
     ],
     "prompt_number": 28
    },
    {
     "cell_type": "code",
     "collapsed": false,
     "input": [
      "q = queryAsTable(\"\"\"select * from  mysql.predictions\"\"\", maxrows=10, how=1)\n",
      "keys = q.keys()\n",
      "for idx, key in enumerate(keys): \n",
      "    print idx,key"
     ],
     "language": "python",
     "metadata": {},
     "outputs": [
      {
       "output_type": "stream",
       "stream": "stdout",
       "text": [
        "0 created_at\n",
        "1 creator_id\n",
        "2 deadline\n",
        "3 id\n",
        "4 private\n",
        "5 updated_at\n",
        "6 uuid\n",
        "7 version\n",
        "8 withdrawn\n"
       ]
      }
     ],
     "prompt_number": 29
    },
    {
     "cell_type": "markdown",
     "metadata": {},
     "source": [
      "##Users##"
     ]
    },
    {
     "cell_type": "code",
     "collapsed": false,
     "input": [
      "print queryAsTable(\"\"\"select * from  mysql.users\"\"\", maxrows=10).to_string(index=None)"
     ],
     "language": "python",
     "metadata": {},
     "outputs": [
      {
       "output_type": "stream",
       "stream": "stdout",
       "text": [
        "   users.created_at  users.id  users.private_default users.timezone    users.updated_at\n",
        "2008-08-01 09:18:00         1                      0           None 2013-08-28 06:34:18\n",
        "2008-08-01 09:18:00         2                      0           None 2012-10-12 01:52:14\n",
        "2008-08-01 09:18:00         3                      0           None 2008-08-01 09:18:00\n",
        "2008-08-01 09:18:00         4                      0         London 2013-01-11 01:47:45\n",
        "2008-08-01 09:18:00         5                      0           None 2008-08-01 09:18:00\n",
        "2008-08-01 09:18:00         6                      0      Melbourne 2008-09-08 05:58:02\n",
        "2008-08-01 09:18:00         7                      0           None 2013-06-06 02:00:49\n",
        "2008-08-01 09:18:00         8                      0      Melbourne 2009-05-13 06:49:42\n",
        "2008-08-01 09:18:00         9                      0      Melbourne 2013-03-15 04:21:33\n",
        "2008-08-01 09:18:00        10                      0           None 2008-08-01 09:18:00\n"
       ]
      }
     ],
     "prompt_number": 30
    },
    {
     "cell_type": "code",
     "collapsed": false,
     "input": [
      "print queryAsTable(\"\"\"select * from  mysql.judgements\"\"\", maxrows=10).to_string(index=None)"
     ],
     "language": "python",
     "metadata": {},
     "outputs": [
      {
       "output_type": "stream",
       "stream": "stdout",
       "text": [
        "judgements.created_at  judgements.id  judgements.outcome  judgements.prediction_id judgements.updated_at judgements.user_id\n",
        "  2008-08-14 02:28:40              1                   1                         1   2008-08-14 02:28:40               None\n",
        "  2008-08-01 09:18:01              2                   0                         2   2008-08-01 09:18:01               None\n",
        "  2008-08-01 09:18:01              3                   0                         3   2008-08-01 09:18:01               None\n",
        "  2008-08-01 09:18:01              4                   0                         4   2008-08-01 09:18:01               None\n",
        "  2008-08-01 09:18:01              5                   1                         5   2008-08-01 09:18:01               None\n",
        "  2008-08-01 09:18:01              6                   0                         6   2008-08-01 09:18:01               None\n",
        "  2008-08-01 09:18:01              8                   0                         8   2008-08-01 09:18:01               None\n",
        "  2008-08-01 09:18:01             12                   0                        12   2008-08-01 09:18:01               None\n",
        "  2008-08-01 09:18:01             13                   0                        15   2008-08-01 09:18:01               None\n",
        "  2008-08-01 09:18:01             14                   1                        16   2008-08-01 09:18:01               None\n"
       ]
      }
     ],
     "prompt_number": 31
    },
    {
     "cell_type": "markdown",
     "metadata": {},
     "source": [
      "------------------\n",
      "Before we get into trying to merge these, lets see how many users there are, and how many predictions they've made:"
     ]
    },
    {
     "cell_type": "code",
     "collapsed": false,
     "input": [
      "db = MySQLdb.connect(user = 'root', \n",
      "                         passwd = 'password',\n",
      "                         db = 'mysql', \n",
      "                         host = 'localhost')\n",
      "db.query(\"\"\"SELECT count(distinct id ) from  mysql.users\"\"\")\n",
      "result = db.store_result()\n",
      "rdict = result.fetch_row() #max=0 means all, how=0 means tuple, how=1-dict, how=2 dict with fully qualified names\n",
      "uUsers = rdict[0][0]\n",
      "\n",
      "print uUsers, \"unique users\""
     ],
     "language": "python",
     "metadata": {},
     "outputs": [
      {
       "output_type": "stream",
       "stream": "stdout",
       "text": [
        "22578 unique users\n"
       ]
      }
     ],
     "prompt_number": 32
    },
    {
     "cell_type": "code",
     "collapsed": false,
     "input": [
      "db.query(\"\"\"SELECT count(distinct id ) from  mysql.predictions\"\"\")\n",
      "result = db.store_result()\n",
      "rdict = result.fetch_row() #max=0 means all, how=0 means tuple, how=1-dict, how=2 dict with fully qualified names\n",
      "uPredictions = rdict[0][0]\n",
      "db.close()\n",
      "print uPredictions, \"unique predictions\""
     ],
     "language": "python",
     "metadata": {},
     "outputs": [
      {
       "output_type": "stream",
       "stream": "stdout",
       "text": [
        "22455 unique predictions\n"
       ]
      }
     ],
     "prompt_number": 33
    },
    {
     "cell_type": "code",
     "collapsed": false,
     "input": [
      "#so all in all that's \n",
      "uUsers/float(uPredictions)"
     ],
     "language": "python",
     "metadata": {},
     "outputs": [
      {
       "output_type": "pyout",
       "prompt_number": 34,
       "text": [
        "1.0054776219104877"
       ]
      }
     ],
     "prompt_number": 34
    },
    {
     "cell_type": "code",
     "collapsed": false,
     "input": [
      "#almost exactly 1 per person.\n",
      "#given that we know that there is quite an active core of users there must be a lot of people who have made no predictions at all! Lets see what the distributuon is:\n",
      "q = queryAsTable(\"\"\"select creator_id, count(creator_id) from  mysql.predictions group by creator_id order by count(creator_id) desc\"\"\", maxrows=0)\n",
      "#print q.to_string(index=None)\n",
      "q=q.drop(\"predictions.creator_id\",1)\n",
      "q.plot()\n",
      "print q[\"count(creator_id)\"][0],q[\"count(creator_id)\"][1],q[\"count(creator_id)\"][100],q[\"count(creator_id)\"][500]"
     ],
     "language": "python",
     "metadata": {},
     "outputs": [
      {
       "output_type": "stream",
       "stream": "stdout",
       "text": [
        "1844 1164 29 2\n"
       ]
      },
      {
       "output_type": "display_data",
       "png": "[encoded data removed]"
      }
     ],
     "prompt_number": 108
    },
    {
     "cell_type": "markdown",
     "metadata": {},
     "source": [
      "So the most enthusiastic predictor had made 1844 predictions when this data was exported, but once we're outside the top 100 we're under 30 predictions, and then by the time we get to about 500 we're down to 1 prediction. I presume that this is a pretty common pattern for websites that offer a service."
     ]
    },
    {
     "cell_type": "code",
     "collapsed": false,
     "input": [
      "q[u'predictions.creator_id'].tolist()"
     ],
     "language": "python",
     "metadata": {},
     "outputs": [],
     "prompt_number": 94
    },
    {
     "cell_type": "code",
     "collapsed": false,
     "input": [
      "q.to_csv(\"./q.csv\")"
     ],
     "language": "python",
     "metadata": {},
     "outputs": [],
     "prompt_number": 98
    },
    {
     "cell_type": "code",
     "collapsed": false,
     "input": [
      "q[u'predictions.creator_id'].mean()"
     ],
     "language": "python",
     "metadata": {},
     "outputs": [
      {
       "output_type": "pyout",
       "prompt_number": 93,
       "text": [
        "9510.0394121576483"
       ]
      }
     ],
     "prompt_number": 93
    },
    {
     "cell_type": "code",
     "collapsed": false,
     "input": [
      "import numpy as np\n",
      "import matplotlib.pyplot as plt\n",
      "\n",
      "N = len(q[u'predictions.creator_id'])\n",
      "menMeans = q[u'predictions.creator_id'].tocsv()#(20, 35, 30, 35, 27)\n",
      "#menStd =   (2, 3, 4, 1, 2)\n",
      "\n",
      "ind = np.arange(N)  # the x locations for the groups\n",
      "width = 0.01        # the width of the bars\n",
      "\n",
      "fig, ax = plt.subplots()\n",
      "rects1 = ax.bar(ind, menMeans, width, color='r')\n",
      "\n",
      "#womenMeans = (25, 32, 34, 20, 25)\n",
      "#womenStd =   (3, 5, 2, 3, 3)\n",
      "#rects2 = ax.bar(ind+width, womenMeans, width, color='y', yerr=womenStd)\n",
      "\n",
      "# add some\n",
      "ax.set_ylabel('Scores')\n",
      "ax.set_title('Scores by group and gender')\n",
      "#ax.set_xticks(ind+width)\n",
      "#ax.set_xticklabels( ('G1', 'G2', 'G3', 'G4', 'G5') )\n",
      "\n",
      "#ax.legend( (rects1[0], rects2[0]), ('Men', 'Women') )\n",
      "\n",
      "\n",
      "plt.show()"
     ],
     "language": "python",
     "metadata": {},
     "outputs": [
      {
       "ename": "AttributeError",
       "evalue": "'Series' object has no attribute 'tocsv'",
       "output_type": "pyerr",
       "traceback": [
        "\u001b[0;31m---------------------------------------------------------------------------\u001b[0m\n\u001b[0;31mAttributeError\u001b[0m                            Traceback (most recent call last)",
        "\u001b[0;32m<ipython-input-95-0a37bb5c2389>\u001b[0m in \u001b[0;36m<module>\u001b[0;34m()\u001b[0m\n\u001b[1;32m      3\u001b[0m \u001b[0;34m\u001b[0m\u001b[0m\n\u001b[1;32m      4\u001b[0m \u001b[0mN\u001b[0m \u001b[0;34m=\u001b[0m \u001b[0mlen\u001b[0m\u001b[0;34m(\u001b[0m\u001b[0mq\u001b[0m\u001b[0;34m[\u001b[0m\u001b[0;34mu'predictions.creator_id'\u001b[0m\u001b[0;34m]\u001b[0m\u001b[0;34m)\u001b[0m\u001b[0;34m\u001b[0m\u001b[0m\n\u001b[0;32m----> 5\u001b[0;31m \u001b[0mmenMeans\u001b[0m \u001b[0;34m=\u001b[0m \u001b[0mq\u001b[0m\u001b[0;34m[\u001b[0m\u001b[0;34mu'predictions.creator_id'\u001b[0m\u001b[0;34m]\u001b[0m\u001b[0;34m.\u001b[0m\u001b[0mtocsv\u001b[0m\u001b[0;34m(\u001b[0m\u001b[0;34m)\u001b[0m\u001b[0;31m#(20, 35, 30, 35, 27)\u001b[0m\u001b[0;34m\u001b[0m\u001b[0m\n\u001b[0m\u001b[1;32m      6\u001b[0m \u001b[0;31m#menStd =   (2, 3, 4, 1, 2)\u001b[0m\u001b[0;34m\u001b[0m\u001b[0;34m\u001b[0m\u001b[0m\n\u001b[1;32m      7\u001b[0m \u001b[0;34m\u001b[0m\u001b[0m\n",
        "\u001b[0;31mAttributeError\u001b[0m: 'Series' object has no attribute 'tocsv'"
       ]
      }
     ],
     "prompt_number": 95
    },
    {
     "cell_type": "code",
     "collapsed": false,
     "input": [
      "print q.describe()\n",
      "print q.keys()\n",
      "print q[u'predictions.creator_id']\n",
      "print q[u'predictions.creator_id'][200]"
     ],
     "language": "python",
     "metadata": {},
     "outputs": [
      {
       "output_type": "stream",
       "stream": "stdout",
       "text": [
        "       predictions.creator_id\n",
        "count            22455.000000\n",
        "mean              9510.039412\n",
        "std               7541.948126\n",
        "min                  1.000000\n",
        "25%                642.000000\n",
        "50%              15212.000000\n",
        "75%              16360.000000\n",
        "max              22557.000000\n",
        "Index([u'predictions.creator_id'], dtype=object)\n",
        "<class 'pandas.core.series.Series'>\n",
        "7\n"
       ]
      }
     ],
     "prompt_number": 71
    },
    {
     "cell_type": "code",
     "collapsed": false,
     "input": [
      "q = queryAsTable(\"\"\"select * from  mysql.predictions p\n",
      "                        left outer join mysql.responses r\n",
      "                            on p.id = r.prediction_id \n",
      "                        left outer join mysql.judgements j\n",
      "                            on p.id = j.prediction_id \"\"\", \n",
      "                    maxrows=10, how=0)\n",
      "print q.to_string(index=None)"
     ],
     "language": "python",
     "metadata": {},
     "outputs": [
      {
       "output_type": "stream",
       "stream": "stdout",
       "text": [
        " 0                   1                   2                   3   4                                     5   6   7   8   9   10  11                  12                  13  14   15  16  17  18                  19                  20\n",
        "  1 2008-06-20 12:00:00 2008-06-20 03:46:16 2008-08-14 02:28:40   1  d52eeaf6-cb20-456f-a375-bec2d1acc44d   0   0   1   1   1  80 2008-06-20 03:46:16 2008-08-01 09:18:02   1    1   1 NaN   1 2008-08-14 02:28:40 2008-08-14 02:28:40\n",
        "  2 2008-06-23 12:00:00 2008-06-20 04:37:13 2008-08-01 09:18:01   2  86530ca2-fbd5-47a8-b2d8-12110e05c3b4   0   0   1   2   2  60 2008-06-20 04:37:13 2008-08-01 09:18:02   2    2   2 NaN   0 2008-08-01 09:18:01 2008-08-01 09:18:01\n",
        "  3 2008-06-30 12:00:00 2008-06-20 04:38:35 2008-08-01 09:18:01   3  d5adb0ee-ecf2-48ce-88ce-7b40b5b2179f   0   0   1   3   3  80 2008-06-20 04:38:35 2008-08-01 09:18:02   3    3   3 NaN   0 2008-08-01 09:18:01 2008-08-01 09:18:01\n",
        "  4 2008-06-19 12:00:00 2008-06-20 04:40:06 2008-08-01 09:18:01   3  100f4ff6-4ee7-44e8-aa2d-5394dcaead7e   0   0   1   4   4  80 2008-06-20 04:40:06 2008-08-01 09:18:02   3    4   4 NaN   0 2008-08-01 09:18:01 2008-08-01 09:18:01\n",
        "  5 2008-06-20 06:08:31 2008-06-20 05:08:31 2008-08-01 09:18:01   4  c0314cd4-070a-4d4b-ae3c-ec03ddbdc621   0   0   1   5   5  70 2008-06-20 05:08:31 2008-08-01 09:18:02   4    5   5 NaN   1 2008-08-01 09:18:01 2008-08-01 09:18:01\n",
        "  6 2008-06-26 12:00:00 2008-06-20 05:24:24 2008-08-01 09:18:01   2  5c73114a-e22d-4a5a-9026-03f45acc0f19   0   0   1   6   6  70 2008-06-20 05:24:24 2008-08-01 09:18:02   2    6   6 NaN   0 2008-08-01 09:18:01 2008-08-01 09:18:01\n",
        "  7 2008-12-30 12:00:00 2008-06-20 06:46:23 2008-08-01 09:18:01   5  54df1626-bf7a-4ae9-b162-826d2a67fec1   0   0   1   7   7  90 2008-06-20 06:46:23 2008-08-01 09:18:02   5  275   7   1   1 2009-01-14 10:49:01 2009-01-14 10:49:01\n",
        "  7 2008-12-30 12:00:00 2008-06-20 06:46:23 2008-08-01 09:18:01   5  54df1626-bf7a-4ae9-b162-826d2a67fec1   0   0   1  15   7  30 2008-06-23 22:47:49 2008-08-01 09:18:02   1  275   7   1   1 2009-01-14 10:49:01 2009-01-14 10:49:01\n",
        "  7 2008-12-30 12:00:00 2008-06-20 06:46:23 2008-08-01 09:18:01   5  54df1626-bf7a-4ae9-b162-826d2a67fec1   0   0   1  30   7  40 2008-07-04 09:00:42 2008-08-01 09:18:02   4  275   7   1   1 2009-01-14 10:49:01 2009-01-14 10:49:01\n",
        "  7 2008-12-30 12:00:00 2008-06-20 06:46:23 2008-08-01 09:18:01   5  54df1626-bf7a-4ae9-b162-826d2a67fec1   0   0   1  37   7  40 2008-07-06 23:04:24 2008-08-01 09:18:03   2  275   7   1   1 2009-01-14 10:49:01 2009-01-14 10:49:01\n"
       ]
      }
     ],
     "prompt_number": 51
    },
    {
     "cell_type": "code",
     "collapsed": false,
     "input": [
      "#rewritten to remove ambiguities\n",
      "q = queryAsTable(\"\"\"select * from  mysql.predictions \n",
      "                        left outer join mysql.responses\n",
      "                            on mysql.predictions.id = mysql.responses.prediction_id \n",
      "                        left outer join mysql.judgements\n",
      "                            on mysql.predictions .id = mysql.judgements.prediction_id \"\"\", \n",
      "                    maxrows=10, how=2)\n",
      "keys = q.keys()\n",
      "for idx, key in enumerate(keys): \n",
      "    print idx,key"
     ],
     "language": "python",
     "metadata": {},
     "outputs": [
      {
       "output_type": "stream",
       "stream": "stdout",
       "text": [
        "0 judgements.created_at\n",
        "1 judgements.id\n",
        "2 judgements.outcome\n",
        "3 judgements.prediction_id\n",
        "4 judgements.updated_at\n",
        "5 judgements.user_id\n",
        "6 predictions.created_at\n",
        "7 predictions.creator_id\n",
        "8 predictions.deadline\n",
        "9 predictions.id\n",
        "10 predictions.private\n",
        "11 predictions.updated_at\n",
        "12 predictions.uuid\n",
        "13 predictions.version\n",
        "14 predictions.withdrawn\n",
        "15 responses.confidence\n",
        "16 responses.created_at\n",
        "17 responses.id\n",
        "18 responses.prediction_id\n",
        "19 responses.updated_at\n",
        "20 responses.user_id\n"
       ]
      }
     ],
     "prompt_number": 37
    },
    {
     "cell_type": "code",
     "collapsed": false,
     "input": [
      "\"\"\"\n",
      "full potential list to get interesting values from:\n",
      "                        mysql.judgements.created_at,\n",
      "                        mysql.judgements.created_at,\n",
      "                        mysql.judgements.created_at,\n",
      "                        mysql.judgements.id,\n",
      "                        mysql.judgements.outcome,\n",
      "                        mysql.judgements.prediction_id,\n",
      "                        mysql.judgements.updated_at,\n",
      "                        mysql.judgements.user_id,\n",
      "                        mysql.predictions.created_at,\n",
      "                        mysql.predictions.creator_id,\n",
      "                        mysql.predictions.deadline,\n",
      "                        mysql.predictions.id,\n",
      "                        mysql.predictions.private,\n",
      "                        mysql.predictions.updated_at,\n",
      "                        mysql.predictions.uuid,\n",
      "                        mysql.predictions.version,\n",
      "                        mysql.predictions.withdrawn,\n",
      "                        mysql.responses.confidence,\n",
      "                        mysql.responses.created_at,\n",
      "                        mysql.responses.id,\n",
      "                        mysql.responses.prediction_id,\n",
      "                        mysql.responses.updated_at,\n",
      "                        mysql.responses.user_id\n",
      "first cull: remove created at and updated at columns\n",
      "\"\"\"\n",
      "q = queryAsTable(\"\"\"select \n",
      "\n",
      "                        \n",
      "                        mysql.judgements.id,\n",
      "                        mysql.judgements.outcome,\n",
      "                        mysql.judgements.prediction_id,\n",
      "                        \n",
      "                        mysql.judgements.user_id,\n",
      "                        \n",
      "                        mysql.predictions.creator_id,\n",
      "                        mysql.predictions.deadline,\n",
      "                        mysql.predictions.id,\n",
      "                        mysql.predictions.private,\n",
      "                        \n",
      "                        \n",
      "                        mysql.predictions.version,\n",
      "                        mysql.predictions.withdrawn,\n",
      "                        mysql.responses.confidence,\n",
      "                        \n",
      "                        mysql.responses.id,\n",
      "                        mysql.responses.prediction_id,\n",
      "                        \n",
      "                        mysql.responses.user_id\n",
      "                    from  mysql.predictions \n",
      "                    left outer join mysql.responses\n",
      "                            on mysql.predictions.id = mysql.responses.prediction_id \n",
      "                        left outer join mysql.judgements\n",
      "                            on mysql.predictions .id = mysql.judgements.prediction_id \"\"\", \n",
      "                    maxrows=10, how=1)\n",
      "print q.to_string(index=None)"
     ],
     "language": "python",
     "metadata": {},
     "outputs": [
      {
       "output_type": "stream",
       "stream": "stdout",
       "text": [
        " confidence  creator_id            deadline   id  outcome  prediction_id  predictions.id  private  responses.id  responses.prediction_id  responses.user_id  user_id  version  withdrawn\n",
        "         80           1 2008-06-20 12:00:00    1        1              1               1        0             1                        1                  1      NaN        1          0\n",
        "         60           2 2008-06-23 12:00:00    2        0              2               2        0             2                        2                  2      NaN        1          0\n",
        "         80           3 2008-06-30 12:00:00    3        0              3               3        0             3                        3                  3      NaN        1          0\n",
        "         80           3 2008-06-19 12:00:00    4        0              4               4        0             4                        4                  3      NaN        1          0\n",
        "         70           4 2008-06-20 06:08:31    5        1              5               5        0             5                        5                  4      NaN        1          0\n",
        "         70           2 2008-06-26 12:00:00    6        0              6               6        0             6                        6                  2      NaN        1          0\n",
        "         90           5 2008-12-30 12:00:00  275        1              7               7        0             7                        7                  5        1        1          0\n",
        "         30           5 2008-12-30 12:00:00  275        1              7               7        0            15                        7                  1        1        1          0\n",
        "         40           5 2008-12-30 12:00:00  275        1              7               7        0            30                        7                  4        1        1          0\n",
        "         40           5 2008-12-30 12:00:00  275        1              7               7        0            37                        7                  2        1        1          0\n"
       ]
      }
     ],
     "prompt_number": 38
    },
    {
     "cell_type": "markdown",
     "metadata": {},
     "source": []
    },
    {
     "cell_type": "code",
     "collapsed": false,
     "input": [],
     "language": "python",
     "metadata": {},
     "outputs": [],
     "prompt_number": 38
    },
    {
     "cell_type": "markdown",
     "metadata": {},
     "source": []
    },
    {
     "cell_type": "code",
     "collapsed": false,
     "input": [],
     "language": "python",
     "metadata": {},
     "outputs": [],
     "prompt_number": 38
    },
    {
     "cell_type": "code",
     "collapsed": false,
     "input": [],
     "language": "python",
     "metadata": {},
     "outputs": [],
     "prompt_number": 38
    },
    {
     "cell_type": "code",
     "collapsed": false,
     "input": [],
     "language": "python",
     "metadata": {},
     "outputs": [],
     "prompt_number": 38
    },
    {
     "cell_type": "code",
     "collapsed": false,
     "input": [],
     "language": "python",
     "metadata": {},
     "outputs": [],
     "prompt_number": 38
    },
    {
     "cell_type": "code",
     "collapsed": false,
     "input": [],
     "language": "python",
     "metadata": {},
     "outputs": [],
     "prompt_number": 39
    },
    {
     "cell_type": "code",
     "collapsed": false,
     "input": [],
     "language": "python",
     "metadata": {},
     "outputs": []
    }
   ],
   "metadata": {}
  }
 ]
}